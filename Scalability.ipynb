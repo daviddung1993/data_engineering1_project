{
 "cells": [
  {
   "cell_type": "markdown",
   "id": "50a560a4-8e9d-4e44-b6f9-3859b123193a",
   "metadata": {
    "tags": []
   },
   "source": [
    "### Providing bigger data by duplication"
   ]
  },
  {
   "cell_type": "code",
   "execution_count": 1,
   "id": "27afab50-1f36-49d1-8afd-be607e55a216",
   "metadata": {},
   "outputs": [],
   "source": [
    "def bigger_dataframe(any_data_frame, nbr):\n",
    "    tmp = any_data_frame\n",
    "    \n",
    "    for i in range(nbr-1):\n",
    "        tmp = tmp.union(any_data_frame)\n",
    "        \n",
    "    return tmp"
   ]
  },
  {
   "cell_type": "code",
   "execution_count": 2,
   "id": "fc3dbdc3-63c9-4d5b-977e-8be75655b593",
   "metadata": {},
   "outputs": [],
   "source": [
    "import pyspark.sql.functions as f\n",
    "def count_all_words_FHV(a_dataframe):\n",
    "    a_dataframe = a_dataframe.withColumn\\\n",
    "        ('wordCount', f.size(f.split(f.col('PICK_UP_ADDRESS'), ' ')))\n",
    "    \n",
    "    # print(f\"All number of words: {a_dataframe.select(f.sum('wordCount')).collect()}\")\n",
    "    word_counts = a_dataframe.withColumn('Word', f.explode(\\\n",
    "            f.split(f.col('PICK_UP_ADDRESS'), ' ')))\\\n",
    "            .groupBy('Word').count()\\\n",
    "            .sort('count', ascending=False)\n",
    "\n",
    "    word_counts = word_counts.filter(word_counts.Word != '')\n",
    "    return word_counts"
   ]
  },
  {
   "cell_type": "code",
   "execution_count": 3,
   "id": "098888ff-6c95-4360-8a1b-7441edd3b2c4",
   "metadata": {
    "tags": []
   },
   "outputs": [],
   "source": [
    "import timeit"
   ]
  },
  {
   "cell_type": "markdown",
   "id": "23f00701-7d4d-4a57-a6d1-b2bdeb01070f",
   "metadata": {},
   "source": [
    "### WEAK scalability"
   ]
  },
  {
   "cell_type": "code",
   "execution_count": 4,
   "id": "9561e669-fbf8-41e2-9287-f703049d0858",
   "metadata": {},
   "outputs": [
    {
     "name": "stderr",
     "output_type": "stream",
     "text": [
      "Using Spark's default log4j profile: org/apache/spark/log4j-defaults.properties\n",
      "Setting default log level to \"WARN\".\n",
      "To adjust logging level use sc.setLogLevel(newLevel). For SparkR, use setLogLevel(newLevel).\n",
      "22/03/18 22:21:16 WARN NativeCodeLoader: Unable to load native-hadoop library for your platform... using builtin-java classes where applicable\n",
      "22/03/18 22:21:19 WARN ExecutorAllocationManager: Dynamic allocation without a shuffle service is an experimental feature.\n",
      "22/03/18 22:21:39 WARN ExecutorAllocationManager: Dynamic allocation without a shuffle service is an experimental feature.\n",
      "22/03/18 22:21:49 WARN ExecutorAllocationManager: Dynamic allocation without a shuffle service is an experimental feature.\n",
      "22/03/18 22:22:00 WARN ExecutorAllocationManager: Dynamic allocation without a shuffle service is an experimental feature.\n",
      "22/03/18 22:22:10 WARN ExecutorAllocationManager: Dynamic allocation without a shuffle service is an experimental feature.\n",
      "22/03/18 22:22:22 WARN ExecutorAllocationManager: Dynamic allocation without a shuffle service is an experimental feature.\n",
      "                                                                                \r"
     ]
    }
   ],
   "source": [
    "%%capture\n",
    "weak_time = []\n",
    "all_words = []\n",
    "from pyspark.sql import SparkSession\n",
    "for i in range(1, 7):\n",
    "    \n",
    "    spark_session = SparkSession\\\n",
    "        .builder\\\n",
    "        .master(\"spark://192.168.2.74:7077\") \\\n",
    "        .appName(\"FHV-Scalability\")\\\n",
    "        .config(\"spark.dynamicAllocation.enabled\", True)\\\n",
    "        .config(\"spark.dynamicAllocation.shuffleTracking.enabled\",True)\\\n",
    "        .config(\"spark.shuffle.service.enabled\", False)\\\n",
    "        .config(\"spark.dynamicAllocation.executorIdleTimeout\",\"30s\")\\\n",
    "        .config(\"spark.cores.max\",i)\\\n",
    "        .config(\"spark.cores.min\",i)\\\n",
    "        .config(\"spark.driver.port\",9998)\\\n",
    "        .config(\"spark.blockManager.port\",10005)\\\n",
    "        .getOrCreate()\n",
    "\n",
    "    path = 'hdfs://192.168.2.74:9000/user/ubuntu/uber-tlc-foil-response/'\n",
    "    FHV_file = path+'other-FHV-dataFHV_10_companies_data.parquet'\n",
    "    FHV_10_companies_data = spark_session.read.parquet(FHV_file)\n",
    "    \n",
    "    start = timeit.default_timer();\n",
    "    if i == 1:\n",
    "        words = count_all_words_FHV(FHV_10_companies_data)\n",
    "        all_words.append(FHV_10_companies_data.count())\n",
    "    else:\n",
    "        df = bigger_dataframe(FHV_10_companies_data, i)\n",
    "        words = count_all_words_FHV(df)\n",
    "        all_words.append(df.count())\n",
    "\n",
    "    spark_session.stop()\n",
    "\n",
    "    stop = timeit.default_timer();\n",
    "    weak_time.append(round(stop - start, 3))"
   ]
  },
  {
   "cell_type": "code",
   "execution_count": 5,
   "id": "0b103a53-8a04-40ba-987b-06c3e1986ebc",
   "metadata": {},
   "outputs": [
    {
     "data": {
      "text/plain": [
       "[4.995, 3.271, 3.649, 3.749, 4.12, 4.405]"
      ]
     },
     "execution_count": 5,
     "metadata": {},
     "output_type": "execute_result"
    }
   ],
   "source": [
    "weak_time"
   ]
  },
  {
   "cell_type": "code",
   "execution_count": 6,
   "id": "7cc38ace-33ea-4bf7-ac81-ab6f70892d65",
   "metadata": {},
   "outputs": [
    {
     "data": {
      "text/plain": [
       "[1409080, 2818160, 4227240, 5636320, 7045400, 8454480]"
      ]
     },
     "execution_count": 6,
     "metadata": {},
     "output_type": "execute_result"
    }
   ],
   "source": [
    "all_words"
   ]
  },
  {
   "cell_type": "code",
   "execution_count": 7,
   "id": "72a83081-681d-43b2-a56e-e5bc76e250d4",
   "metadata": {},
   "outputs": [
    {
     "data": {
      "image/png": "[encoded data removed]",
      "text/plain": [
       "<Figure size 432x288 with 2 Axes>"
      ]
     },
     "metadata": {
      "needs_background": "light"
     },
     "output_type": "display_data"
    }
   ],
   "source": [
    "import numpy as np\n",
    "import matplotlib.pyplot as plt\n",
    "\n",
    "fig, ax1 = plt.subplots()\n",
    "ax1.plot(range(1,7), weak_time, 'go-')\n",
    "ax1.set_xlabel('Number of cores')\n",
    "ax1.set_ylabel('Time (s)', color='green')\n",
    "ax1.tick_params('y', colors='g')\n",
    "\n",
    "ax2 = ax1.twinx()\n",
    "ax2.plot(range(1,7), all_words, 'bo-')\n",
    "ax2.set_ylabel('Number of records', color='b')\n",
    "ax2.tick_params('y', colors='b')\n",
    "\n",
    "fig.tight_layout()\n",
    "plt.title('Weak scalability')\n",
    "plt.grid()\n",
    "plt.show()"
   ]
  },
  {
   "cell_type": "markdown",
   "id": "f9800ae1-c64d-4a85-835d-a14d69f1dc01",
   "metadata": {},
   "source": [
    "### STRONG scalability"
   ]
  },
  {
   "cell_type": "code",
   "execution_count": 18,
   "id": "3f99be30-40cf-4a53-a978-63888b849539",
   "metadata": {},
   "outputs": [
    {
     "name": "stderr",
     "output_type": "stream",
     "text": [
      "22/03/18 22:31:33 WARN ExecutorAllocationManager: Dynamic allocation without a shuffle service is an experimental feature.\n",
      "22/03/18 22:32:05 WARN ExecutorAllocationManager: Dynamic allocation without a shuffle service is an experimental feature.\n",
      "22/03/18 22:32:30 WARN ExecutorAllocationManager: Dynamic allocation without a shuffle service is an experimental feature.\n",
      "22/03/18 22:32:54 WARN ExecutorAllocationManager: Dynamic allocation without a shuffle service is an experimental feature.\n",
      "22/03/18 22:33:17 WARN ExecutorAllocationManager: Dynamic allocation without a shuffle service is an experimental feature.\n",
      "22/03/18 22:33:40 WARN ExecutorAllocationManager: Dynamic allocation without a shuffle service is an experimental feature.\n",
      "                                                                                \r"
     ]
    }
   ],
   "source": [
    "%%capture\n",
    "strong_time = []\n",
    "from pyspark.sql import SparkSession\n",
    "\n",
    "for i in range(1, 7):\n",
    "    spark_session = SparkSession\\\n",
    "        .builder\\\n",
    "        .master(\"spark://192.168.2.74:7077\") \\\n",
    "        .appName(\"FHV-Scalability\")\\\n",
    "        .config(\"spark.dynamicAllocation.enabled\", True)\\\n",
    "        .config(\"spark.dynamicAllocation.shuffleTracking.enabled\",True)\\\n",
    "        .config(\"spark.shuffle.service.enabled\", False)\\\n",
    "        .config(\"spark.dynamicAllocation.executorIdleTimeout\",\"30s\")\\\n",
    "        .config(\"spark.cores.max\",i)\\\n",
    "        .config(\"spark.cores.min\",i)\\\n",
    "        .config(\"spark.driver.port\",9998)\\\n",
    "        .config(\"spark.blockManager.port\",10005)\\\n",
    "        .getOrCreate()\n",
    "\n",
    "    path = 'hdfs://192.168.2.74:9000/user/ubuntu/uber-tlc-foil-response/'\n",
    "    FHV_file = path+'other-FHV-dataFHV_10_companies_data.parquet'\n",
    "    FHV_10_companies_data = spark_session.read.parquet(FHV_file)\n",
    "    df = bigger_dataframe(FHV_10_companies_data, 6)\n",
    "\n",
    "    start = timeit.default_timer();\n",
    " \n",
    "    words = count_all_words_FHV(df)\n",
    "\n",
    "    words.collect()[0]\n",
    "    spark_session.stop()\n",
    "\n",
    "    stop = timeit.default_timer();\n",
    "    strong_time.append(round(stop - start, 3))"
   ]
  },
  {
   "cell_type": "code",
   "execution_count": 19,
   "id": "4b587f48-b3f7-4124-9756-a3157b2e14e8",
   "metadata": {},
   "outputs": [
    {
     "data": {
      "text/plain": [
       "[25.277, 17.876, 16.876, 16.659, 15.552, 15.736]"
      ]
     },
     "execution_count": 19,
     "metadata": {},
     "output_type": "execute_result"
    }
   ],
   "source": [
    "strong_time"
   ]
  },
  {
   "cell_type": "code",
   "execution_count": 20,
   "id": "fa23eaee-1378-4a3a-9371-32d3d756a1b3",
   "metadata": {},
   "outputs": [
    {
     "data": {
      "image/png": "[encoded data removed]",
      "text/plain": [
       "<Figure size 432x288 with 1 Axes>"
      ]
     },
     "metadata": {
      "needs_background": "light"
     },
     "output_type": "display_data"
    }
   ],
   "source": [
    "plt.plot(range(1,7), strong_time, 'ko-')\n",
    "plt.xlabel('Number of cores')\n",
    "plt.ylabel('Time (s)')\n",
    "plt.title('Strong scalability')\n",
    "plt.grid()\n",
    "plt.show()"
   ]
  },
  {
   "cell_type": "code",
   "execution_count": null,
   "id": "115553f3-4e13-493d-b26f-a7c4913551f0",
   "metadata": {},
   "outputs": [],
   "source": []
  }
 ],
 "metadata": {
  "kernelspec": {
   "display_name": "Python 3 (ipykernel)",
   "language": "python",
   "name": "python3"
  },
  "language_info": {
   "codemirror_mode": {
    "name": "ipython",
    "version": 3
   },
   "file_extension": ".py",
   "mimetype": "text/x-python",
   "name": "python",
   "nbconvert_exporter": "python",
   "pygments_lexer": "ipython3",
   "version": "3.8.10"
  }
 },
 "nbformat": 4,
 "nbformat_minor": 5
}
