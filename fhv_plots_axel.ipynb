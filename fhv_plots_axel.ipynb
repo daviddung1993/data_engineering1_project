{
 "cells": [
  {
   "cell_type": "code",
   "execution_count": 10,
   "id": "594f05ee",
   "metadata": {},
   "outputs": [],
   "source": [
    "from pyspark.sql import SparkSession\n",
    "# import pandas as pd\n",
    "# To run the code on local machine or on server\n",
    "server_mode = False\n",
    "\n",
    "spark_session = SparkSession.builder.appName('Project_G1').getOrCreate()"
   ]
  },
  {
   "cell_type": "code",
   "execution_count": 11,
   "id": "1f59b95b",
   "metadata": {},
   "outputs": [
    {
     "data": {
      "text/html": [
       "\n",
       "            <div>\n",
       "                <p><b>SparkSession - in-memory</b></p>\n",
       "                \n",
       "        <div>\n",
       "            <p><b>SparkContext</b></p>\n",
       "\n",
       "            <p><a href=\"http://axel-nilsson-a4:4040\">Spark UI</a></p>\n",
       "\n",
       "            <dl>\n",
       "              <dt>Version</dt>\n",
       "                <dd><code>v3.2.1</code></dd>\n",
       "              <dt>Master</dt>\n",
       "                <dd><code>local[*]</code></dd>\n",
       "              <dt>AppName</dt>\n",
       "                <dd><code>Project_G1</code></dd>\n",
       "            </dl>\n",
       "        </div>\n",
       "        \n",
       "            </div>\n",
       "        "
      ],
      "text/plain": [
       "<pyspark.sql.session.SparkSession at 0x7fac2d6eeca0>"
      ]
     },
     "execution_count": 11,
     "metadata": {},
     "output_type": "execute_result"
    }
   ],
   "source": [
    "spark_session"
   ]
  },
  {
   "cell_type": "code",
   "execution_count": 61,
   "id": "7fae149e",
   "metadata": {},
   "outputs": [
    {
     "data": {
      "text/plain": [
       "{'Firstclass_B01536.csv': DataFrame[DATE: string, TIME: string, PICK UP ADDRESS: string],\n",
       " 'other-FHV-data-jan-aug-2015.csv': DataFrame[_c0: string, _c1: string, _c2: string, _c3: string, _c4: string, _c5: string, _c6: string],\n",
       " 'Prestige_B01338.csv': DataFrame[DATE: string, TIME: string, PICK UP ADDRESS: string],\n",
       " 'Lyft_B02510.csv': DataFrame[time_of_trip: string, start_lat: string, start_lng: string, _c3: string],\n",
       " 'Highclass_B01717.csv': DataFrame[DATE: string, TIME: string, PU_Address: string],\n",
       " 'Skyline_B00111.csv': DataFrame[Date: string, Time: string,     Street_Address : string,     City_State : string, _c4: string, _c5: string],\n",
       " 'Carmel_B00256.csv': DataFrame[Date: string, Time: string, PU_Adress: string, Base_No: string],\n",
       " 'Federal_02216.csv': DataFrame[Date: string, Time: string, PU_Address2: string, DO_Address: string, Routing Details: string, PU_Address5: string, Status: string],\n",
       " 'Diplo_B01196.csv': DataFrame[Date: string, Time: string, PU_Address: string],\n",
       " 'Dial7_B00887.csv': DataFrame[Date: string, Time: string, State: string, PuFrom: string, Address: string, Street: string],\n",
       " 'American_B01362.csv': DataFrame[DATE: string, TIME: string, PICK UP ADDRESS: string, _c3: string, _c4: string, _c5: string]}"
      ]
     },
     "execution_count": 61,
     "metadata": {},
     "output_type": "execute_result"
    }
   ],
   "source": [
    "import os\n",
    "\n",
    "df_list = {}\n",
    "for fn in os.listdir(\"./uber-tlc-foil-response/other-FHV-data/\"):\n",
    "    f = os.path.join(\"./uber-tlc-foil-response/other-FHV-data/\", fn)\n",
    "    df_list[fn] = spark_session.read.option(\"header\", \"true\").csv(f)\n",
    "df_list"
   ]
  },
  {
   "cell_type": "code",
   "execution_count": 62,
   "id": "38e901ed",
   "metadata": {},
   "outputs": [
    {
     "name": "stdout",
     "output_type": "stream",
     "text": [
      "root\n",
      " |-- _c0: string (nullable = true)\n",
      " |-- _c1: string (nullable = true)\n",
      " |-- _c2: string (nullable = true)\n",
      " |-- _c3: string (nullable = true)\n",
      " |-- _c4: string (nullable = true)\n",
      " |-- _c5: string (nullable = true)\n",
      " |-- _c6: string (nullable = true)\n",
      "\n",
      "+--------------------+-----------+---------+----+------------+---------------+------------------+\n",
      "|                 _c0|        _c1|      _c2| _c3|         _c4|            _c5|               _c6|\n",
      "+--------------------+-----------+---------+----+------------+---------------+------------------+\n",
      "|                null|       null|     null|null|        null|           null|              null|\n",
      "|Base Aggregate Re...|       null|     null|null|        null|           null|              null|\n",
      "|                null|       null|     null|null|        null|           null|              null|\n",
      "|                null|       null|     null|null|        null|           null|              null|\n",
      "|                null|Base Number|Base Name|null|Pick Up Date|Number of Trips|Number of Vehicles|\n",
      "+--------------------+-----------+---------+----+------------+---------------+------------------+\n",
      "only showing top 5 rows\n",
      "\n"
     ]
    },
    {
     "name": "stderr",
     "output_type": "stream",
     "text": [
      "22/03/16 16:44:07 WARN CSVHeaderChecker: CSV header does not conform to the schema.\n",
      " Header: , , , , , , \n",
      " Schema: _c0, _c1, _c2, _c3, _c4, _c5, _c6\n",
      "Expected: _c0 but found: \n",
      "CSV file: file:///home/ubuntu/uber-tlc-foil-response/other-FHV-data/other-FHV-data-jan-aug-2015.csv\n"
     ]
    }
   ],
   "source": [
    "df_list['other-FHV-data-jan-aug-2015.csv'].printSchema()\n",
    "df_list['other-FHV-data-jan-aug-2015.csv'].show(5)"
   ]
  },
  {
   "cell_type": "code",
   "execution_count": 63,
   "id": "c8fcb4be",
   "metadata": {},
   "outputs": [
    {
     "name": "stderr",
     "output_type": "stream",
     "text": [
      "22/03/16 16:44:09 WARN CSVHeaderChecker: CSV header does not conform to the schema.\n",
      " Header: , , , , , , \n",
      " Schema: _c0, _c1, _c2, _c3, _c4, _c5, _c6\n",
      "Expected: _c0 but found: \n",
      "CSV file: file:///home/ubuntu/uber-tlc-foil-response/other-FHV-data/other-FHV-data-jan-aug-2015.csv\n",
      "                                                                                \r"
     ]
    }
   ],
   "source": [
    "sc = spark_session.sparkContext\n",
    "df_list['other-FHV-data-jan-aug-2015.csv'] = \\\n",
    "        df_list['other-FHV-data-jan-aug-2015.csv'].withColumnRenamed(\"_c1\", \"Base_Number\")\\\n",
    "       .withColumnRenamed(\"_c2\", \"Base_Name\").withColumnRenamed(\"_c4\", \"Pick_Up_Date\")\\\n",
    "       .withColumnRenamed(\"_c5\", \"Number_of_Trips\").withColumnRenamed(\"_c6\", \"Number_of_Vehicles\")\n",
    "\n",
    "df_list['other-FHV-data-jan-aug-2015.csv'] = \\\n",
    "        SparkSession(sc).createDataFrame(df_list['other-FHV-data-jan-aug-2015.csv']\\\n",
    "                              .tail(df_list['other-FHV-data-jan-aug-2015.csv'].count()-1)\\\n",
    "                              ,df_list['other-FHV-data-jan-aug-2015.csv'].schema)"
   ]
  },
  {
   "cell_type": "code",
   "execution_count": 64,
   "id": "39b540de",
   "metadata": {},
   "outputs": [
    {
     "data": {
      "text/plain": [
       "DataFrame[_c0: string, Base_Number: string, Base_Name: string, _c3: string, Pick_Up_Date: string, Number_of_Trips: string, Number_of_Vehicles: string]"
      ]
     },
     "execution_count": 64,
     "metadata": {},
     "output_type": "execute_result"
    }
   ],
   "source": [
    "df_list['other-FHV-data-jan-aug-2015.csv']"
   ]
  },
  {
   "cell_type": "code",
   "execution_count": 65,
   "id": "bd75d0ee",
   "metadata": {},
   "outputs": [
    {
     "name": "stdout",
     "output_type": "stream",
     "text": [
      "root\n",
      " |-- Date: string (nullable = true)\n",
      " |-- Time: string (nullable = true)\n",
      " |--     Street_Address : string (nullable = true)\n",
      " |-- City_State: string (nullable = true)\n",
      " |-- _c4: string (nullable = true)\n",
      " |-- _c5: string (nullable = true)\n",
      "\n"
     ]
    }
   ],
   "source": [
    "df_list['Lyft_B02510.csv'] = df_list['Lyft_B02510.csv'].na.drop()\n",
    "df_list['Federal_02216.csv'] = df_list['Federal_02216.csv']\\\n",
    "                        .na.fill('UNKOWN')\n",
    "\n",
    "df_list['American_B01362.csv'] = \\\n",
    "        df_list['American_B01362.csv'].withColumnRenamed(\"PICK UP ADDRESS\", \"PICK_UP_ADDRESS\")\n",
    "df_list['Prestige_B01338.csv'] = \\\n",
    "        df_list['Prestige_B01338.csv'].withColumnRenamed(\"PICK UP ADDRESS\", \"PICK_UP_ADDRESS\")\n",
    "\n",
    "df_list['Firstclass_B01536.csv'] = \\\n",
    "        df_list['Firstclass_B01536.csv'].withColumnRenamed(\"PICK UP ADDRESS\", \"PICK_UP_ADDRESS\")\n",
    "df_list['Federal_02216.csv'] = \\\n",
    "        df_list['Federal_02216.csv'].withColumnRenamed(\"Routing Details\", \"Routing_Details\")\n",
    "\n",
    "df_list['Skyline_B00111.csv'] = \\\n",
    "df_list['Skyline_B00111.csv'] = \\\n",
    "        df_list['Skyline_B00111.csv'].withColumnRenamed(\"    City_State \", \"City_State\")\n",
    "df_list['Skyline_B00111.csv'].printSchema()"
   ]
  },
  {
   "cell_type": "code",
   "execution_count": 66,
   "id": "9145c3a5",
   "metadata": {},
   "outputs": [
    {
     "name": "stdout",
     "output_type": "stream",
     "text": [
      "+--------+-----------+--------------------+\n",
      "|    DATE|       TIME|     PICK_UP_ADDRESS|\n",
      "+--------+-----------+--------------------+\n",
      "|7/1/2014|12:00:00 AM| 874 E 139th St M...|\n",
      "|7/1/2014|12:01:00 AM| 628 E 141st St M...|\n",
      "+--------+-----------+--------------------+\n",
      "only showing top 2 rows\n",
      "\n",
      "+----+----+---------------+\n",
      "|DATE|TIME|PICK_UP_ADDRESS|\n",
      "+----+----+---------------+\n",
      "+----+----+---------------+\n",
      "\n"
     ]
    }
   ],
   "source": [
    "from pyspark.sql.types import StructType, StructField, StringType\n",
    "columns_to_drop = ['_c3','_c4','_c5']\n",
    "df_list['American_B01362.csv'] = \\\n",
    "    df_list['American_B01362.csv'].drop(*columns_to_drop)\n",
    "df_list['American_B01362.csv'].show(2)\n",
    "col_names = df_list['American_B01362.csv'].schema.names\n",
    "mySchema = StructType([StructField(c, StringType()) for c in col_names])\n",
    "FHV_10_companies_data = SparkSession(sc).createDataFrame(data=[], schema=mySchema)\n",
    "FHV_10_companies_data.show()"
   ]
  },
  {
   "cell_type": "code",
   "execution_count": 67,
   "id": "b9d018a6",
   "metadata": {},
   "outputs": [
    {
     "data": {
      "text/plain": [
       "91712"
      ]
     },
     "execution_count": 67,
     "metadata": {},
     "output_type": "execute_result"
    }
   ],
   "source": [
    "FHV_10_companies_data = FHV_10_companies_data.union(df_list['American_B01362.csv'])\n",
    "df_list['American_B01362.csv'].count()"
   ]
  },
  {
   "cell_type": "code",
   "execution_count": 68,
   "id": "4187b802",
   "metadata": {},
   "outputs": [
    {
     "data": {
      "text/plain": [
       "256519"
      ]
     },
     "execution_count": 68,
     "metadata": {},
     "output_type": "execute_result"
    }
   ],
   "source": [
    "tmp = df_list['Carmel_B00256.csv'].drop('Base_No')\n",
    "tmp = tmp.withColumnRenamed(\"PU_Adress\", \"PICK_UP_ADDRESS\")\n",
    "df_list['Carmel_B00256.csv'] = tmp\n",
    "FHV_10_companies_data = FHV_10_companies_data.union(tmp)\n",
    "df_list['Carmel_B00256.csv'].count()"
   ]
  },
  {
   "cell_type": "code",
   "execution_count": 69,
   "id": "4cdabf60",
   "metadata": {},
   "outputs": [
    {
     "data": {
      "text/plain": [
       "194992"
      ]
     },
     "execution_count": 69,
     "metadata": {},
     "output_type": "execute_result"
    }
   ],
   "source": [
    "columns_to_drop = ['State','PuFrom', 'Address']\n",
    "tmp = df_list['Dial7_B00887.csv'].drop(*columns_to_drop)\n",
    "tmp = tmp.withColumnRenamed(\"Street\", \"PICK_UP_ADDRESS\")\n",
    "df_list['Dial7_B00887.csv'] = tmp\n",
    "FHV_10_companies_data = FHV_10_companies_data.union(tmp)\n",
    "df_list['Dial7_B00887.csv'].count()"
   ]
  },
  {
   "cell_type": "code",
   "execution_count": 70,
   "id": "d7ee6a01",
   "metadata": {},
   "outputs": [
    {
     "data": {
      "text/plain": [
       "98550"
      ]
     },
     "execution_count": 70,
     "metadata": {},
     "output_type": "execute_result"
    }
   ],
   "source": [
    "tmp = df_list['Diplo_B01196.csv'].withColumnRenamed(\"PU_Address\", \"PICK_UP_ADDRESS\")\n",
    "df_list['Diplo_B01196.csv'] = tmp\n",
    "FHV_10_companies_data = FHV_10_companies_data.union(tmp)\n",
    "df_list['Diplo_B01196.csv'].count()"
   ]
  },
  {
   "cell_type": "code",
   "execution_count": 71,
   "id": "a88aea16",
   "metadata": {},
   "outputs": [
    {
     "data": {
      "text/plain": [
       "276"
      ]
     },
     "execution_count": 71,
     "metadata": {},
     "output_type": "execute_result"
    }
   ],
   "source": [
    "columns_to_drop = ['DO_Address','Routing_Details', 'Status', 'PU_Address2']\n",
    "tmp = df_list['Federal_02216.csv'].drop(*columns_to_drop)\n",
    "tmp = tmp.withColumnRenamed(\"PU_Address5\", \"PICK_UP_ADDRESS\")\n",
    "df_list['Federal_02216.csv'] = tmp\n",
    "FHV_10_companies_data = FHV_10_companies_data.union(tmp)\n",
    "df_list['Federal_02216.csv'].count()"
   ]
  },
  {
   "cell_type": "code",
   "execution_count": 72,
   "id": "c8d4e7a6",
   "metadata": {},
   "outputs": [
    {
     "data": {
      "text/plain": [
       "166769"
      ]
     },
     "execution_count": 72,
     "metadata": {},
     "output_type": "execute_result"
    }
   ],
   "source": [
    "FHV_10_companies_data = FHV_10_companies_data.union(df_list['Firstclass_B01536.csv'])\n",
    "df_list['Firstclass_B01536.csv'].count()"
   ]
  },
  {
   "cell_type": "code",
   "execution_count": 73,
   "id": "3e73a1f3",
   "metadata": {},
   "outputs": [
    {
     "data": {
      "text/plain": [
       "151925"
      ]
     },
     "execution_count": 73,
     "metadata": {},
     "output_type": "execute_result"
    }
   ],
   "source": [
    "tmp = df_list['Highclass_B01717.csv'].withColumnRenamed(\"PU_Address\", \"PICK_UP_ADDRESS\")\n",
    "df_list['Highclass_B01717.csv'] = tmp\n",
    "FHV_10_companies_data = FHV_10_companies_data.union(tmp)\n",
    "df_list['Highclass_B01717.csv'].count()"
   ]
  },
  {
   "cell_type": "code",
   "execution_count": 84,
   "id": "896acd11",
   "metadata": {},
   "outputs": [
    {
     "data": {
      "text/plain": [
       "127696"
      ]
     },
     "execution_count": 84,
     "metadata": {},
     "output_type": "execute_result"
    }
   ],
   "source": [
    "tmp = df_list['Skyline_B00111.csv'].drop('City_State')\n",
    "tmp = tmp.withColumnRenamed(\"    Street_Address \", \"PICK_UP_ADDRESS\")\n",
    "columns_to_drop = [\"_c3\", \"_c4\", \"_c5\"]\n",
    "tmp = tmp.drop(*columns_to_drop)\n",
    "FHV_10_companies_data = FHV_10_companies_data.union(tmp)\n",
    "df_list['Skyline_B00111.csv'].count()"
   ]
  },
  {
   "cell_type": "code",
   "execution_count": 85,
   "id": "31019163",
   "metadata": {},
   "outputs": [
    {
     "data": {
      "text/plain": [
       "320641"
      ]
     },
     "execution_count": 85,
     "metadata": {},
     "output_type": "execute_result"
    }
   ],
   "source": [
    "FHV_10_companies_data = FHV_10_companies_data.union(df_list['Prestige_B01338.csv'])\n",
    "df_list['Prestige_B01338.csv'].count()"
   ]
  },
  {
   "cell_type": "code",
   "execution_count": 86,
   "id": "ea0705db",
   "metadata": {},
   "outputs": [
    {
     "name": "stderr",
     "output_type": "stream",
     "text": [
      "                                                                                \r"
     ]
    },
    {
     "data": {
      "text/plain": [
       "1409080"
      ]
     },
     "execution_count": 86,
     "metadata": {},
     "output_type": "execute_result"
    }
   ],
   "source": [
    "FHV_10_companies_data.count()"
   ]
  },
  {
   "cell_type": "code",
   "execution_count": 87,
   "id": "84cc191c",
   "metadata": {},
   "outputs": [
    {
     "name": "stdout",
     "output_type": "stream",
     "text": [
      "+--------+-----------+--------------------+\n",
      "|    DATE|       TIME|     PICK_UP_ADDRESS|\n",
      "+--------+-----------+--------------------+\n",
      "|7/1/2014|12:00:00 AM| 874 E 139th St M...|\n",
      "|7/1/2014|12:01:00 AM| 628 E 141st St M...|\n",
      "|7/1/2014|12:01:00 AM| 601 E 156th St S...|\n",
      "|7/1/2014|12:01:00 AM| 708 E 138th St M...|\n",
      "|7/1/2014|12:02:00 AM| 700 E 140th St M...|\n",
      "|7/1/2014|12:03:00 AM| 514 E 163rd St C...|\n",
      "|7/1/2014|12:08:00 AM| 300 E 150th St C...|\n",
      "|7/1/2014|12:10:00 AM| 370 E 153rd St S...|\n",
      "|7/1/2014|12:11:00 AM| 455 E 148th St S...|\n",
      "|7/1/2014|12:11:00 AM| 600 E 141st St M...|\n",
      "|7/1/2014|12:12:00 AM| 214 Saint Anns A...|\n",
      "|7/1/2014|12:14:00 AM| 626 Trinity Ave ...|\n",
      "|7/1/2014|12:15:00 AM| 726 E 152nd St S...|\n",
      "|7/1/2014|12:18:00 AM| 414 E 140th St M...|\n",
      "|7/1/2014|12:22:00 AM| 325 Cypress Ave ...|\n",
      "|7/1/2014|12:24:00 AM| 720 Saint Marys ...|\n",
      "|7/1/2014|12:24:00 AM| 676 E 141st St M...|\n",
      "|7/1/2014|12:28:00 AM| 3952 3rd Ave Tre...|\n",
      "|7/1/2014|12:30:00 AM| 390 Jackson Ave ...|\n",
      "|7/1/2014|12:30:00 AM| 303 Saint Anns A...|\n",
      "+--------+-----------+--------------------+\n",
      "only showing top 20 rows\n",
      "\n"
     ]
    }
   ],
   "source": [
    "FHV_10_companies_data.show(20)"
   ]
  },
  {
   "cell_type": "code",
   "execution_count": 137,
   "id": "911e6bfb",
   "metadata": {},
   "outputs": [
    {
     "name": "stdout",
     "output_type": "stream",
     "text": [
      "root\n",
      " |-- DATE: string (nullable = true)\n",
      " |-- TIME: string (nullable = true)\n",
      " |-- PICK_UP_ADDRESS: string (nullable = true)\n",
      "\n",
      "+--------+-----------+--------------------+\n",
      "|    DATE|       TIME|     PICK_UP_ADDRESS|\n",
      "+--------+-----------+--------------------+\n",
      "|7/1/2014|12:00:00 AM| 874 E 139th St M...|\n",
      "|7/1/2014|12:01:00 AM| 628 E 141st St M...|\n",
      "|7/1/2014|12:01:00 AM| 601 E 156th St S...|\n",
      "|7/1/2014|12:01:00 AM| 708 E 138th St M...|\n",
      "|7/1/2014|12:02:00 AM| 700 E 140th St M...|\n",
      "|7/1/2014|12:03:00 AM| 514 E 163rd St C...|\n",
      "|7/1/2014|12:08:00 AM| 300 E 150th St C...|\n",
      "|7/1/2014|12:10:00 AM| 370 E 153rd St S...|\n",
      "|7/1/2014|12:11:00 AM| 455 E 148th St S...|\n",
      "|7/1/2014|12:11:00 AM| 600 E 141st St M...|\n",
      "+--------+-----------+--------------------+\n",
      "only showing top 10 rows\n",
      "\n"
     ]
    }
   ],
   "source": [
    "fhv_test = FHV_10_companies_data.limit(100000) #test on smaller number of rows\n",
    "fhv_test.printSchema()\n",
    "fhv_test.show(10)"
   ]
  },
  {
   "cell_type": "code",
   "execution_count": 138,
   "id": "5f86bb1c",
   "metadata": {
    "scrolled": true
   },
   "outputs": [],
   "source": [
    "from pyspark.sql.functions import upper, col\n",
    "fhv_test = fhv_test.withColumn(\"PICK_UP_ADDRESS\", upper(col(\"PICK_UP_ADDRESS\")))"
   ]
  },
  {
   "cell_type": "code",
   "execution_count": 139,
   "id": "33dc7e2e",
   "metadata": {},
   "outputs": [
    {
     "name": "stderr",
     "output_type": "stream",
     "text": [
      "22/03/16 17:46:55 WARN CSVHeaderChecker: CSV header does not conform to the schema.\n",
      " Header: Date, Time, PU_Address\n",
      " Schema: Date, Time, PU_Address5\n",
      "Expected: PU_Address5 but found: PU_Address\n",
      "CSV file: file:///home/ubuntu/uber-tlc-foil-response/other-FHV-data/Federal_02216.csv\n",
      "[Stage 370:=================================================>     (17 + 2) / 19]\r"
     ]
    },
    {
     "name": "stdout",
     "output_type": "stream",
     "text": [
      "+--------+-----------+--------------------+\n",
      "|    DATE|       TIME|     PICK_UP_ADDRESS|\n",
      "+--------+-----------+--------------------+\n",
      "|7/1/2014|12:00:00 AM| 874 E 139TH ST M...|\n",
      "|7/1/2014|12:01:00 AM| 628 E 141ST ST M...|\n",
      "|7/1/2014|12:01:00 AM| 601 E 156TH ST S...|\n",
      "|7/1/2014|12:01:00 AM| 708 E 138TH ST M...|\n",
      "|7/1/2014|12:02:00 AM| 700 E 140TH ST M...|\n",
      "|7/1/2014|12:03:00 AM| 514 E 163RD ST C...|\n",
      "|7/1/2014|12:08:00 AM| 300 E 150TH ST C...|\n",
      "|7/1/2014|12:10:00 AM| 370 E 153RD ST S...|\n",
      "|7/1/2014|12:11:00 AM| 455 E 148TH ST S...|\n",
      "|7/1/2014|12:11:00 AM| 600 E 141ST ST M...|\n",
      "|7/1/2014|12:12:00 AM| 214 SAINT ANNS A...|\n",
      "|7/1/2014|12:14:00 AM| 626 TRINITY AVE ...|\n",
      "|7/1/2014|12:15:00 AM| 726 E 152ND ST S...|\n",
      "|7/1/2014|12:18:00 AM| 414 E 140TH ST M...|\n",
      "|7/1/2014|12:22:00 AM| 325 CYPRESS AVE ...|\n",
      "|7/1/2014|12:24:00 AM| 720 SAINT MARYS ...|\n",
      "|7/1/2014|12:24:00 AM| 676 E 141ST ST M...|\n",
      "|7/1/2014|12:28:00 AM| 3952 3RD AVE TRE...|\n",
      "|7/1/2014|12:30:00 AM| 390 JACKSON AVE ...|\n",
      "|7/1/2014|12:30:00 AM| 303 SAINT ANNS A...|\n",
      "|7/1/2014|12:33:00 AM| 703 E 137TH ST M...|\n",
      "|7/1/2014|12:33:00 AM| 435 AUSTIN PL SO...|\n",
      "|7/1/2014|12:34:00 AM| 535 SOUTHERN BLV...|\n",
      "|7/1/2014|12:35:00 AM| 630 CONCORD AVE ...|\n",
      "|7/1/2014|12:35:00 AM| 900 SHERIDAN AVE...|\n",
      "|7/1/2014|12:44:00 AM| 545 E 144TH ST M...|\n",
      "|7/1/2014|12:46:00 AM| 360 MORRIS AVE C...|\n",
      "|7/1/2014|12:46:00 AM| 480 CONCORD AVE ...|\n",
      "|7/1/2014|12:47:00 AM| 503 JACKSON AVE ...|\n",
      "|7/1/2014|12:50:00 AM| 353 E 141ST ST M...|\n",
      "|7/1/2014|12:54:00 AM| 900 SHERIDAN AVE...|\n",
      "|7/1/2014|12:54:00 AM| 924 E 181ST ST W...|\n",
      "|7/1/2014|12:55:00 AM| 900 SHERIDAN AVE...|\n",
      "|7/1/2014|12:55:00 AM| 331 E 146TH ST C...|\n",
      "|7/1/2014|12:55:00 AM| 331 E 146TH ST C...|\n",
      "|7/1/2014|12:55:00 AM| 681 COURTLANDT A...|\n",
      "|7/1/2014|12:57:00 AM| 900 SHERIDAN AVE...|\n",
      "|7/1/2014| 1:00:00 AM| 345 CYPRESS AVE ...|\n",
      "|7/1/2014| 1:00:00 AM| 58 E 161ST ST CO...|\n",
      "|7/1/2014| 1:00:00 AM| 58 E 161ST ST CO...|\n",
      "|7/1/2014| 1:00:00 AM| 1510 SOUTHERN BL...|\n",
      "|7/1/2014| 1:01:00 AM| 673 DAWSON ST SO...|\n",
      "|7/1/2014| 1:04:00 AM| 226 WILLIS AVE M...|\n",
      "|7/1/2014| 1:04:00 AM| 1526 VYSE AVE WE...|\n",
      "|7/1/2014| 1:04:00 AM| 570 PROSPECT AVE...|\n",
      "|7/1/2014| 1:05:00 AM| 673 DAWSON ST SO...|\n",
      "|7/1/2014| 1:10:00 AM| 700 E 156TH ST S...|\n",
      "|7/1/2014| 1:11:00 AM| 680 TINTON AVE S...|\n",
      "|7/1/2014| 1:16:00 AM| 352 BEEKMAN AVE ...|\n",
      "|7/1/2014| 1:21:00 AM| 27 BRUCKNER BLVD...|\n",
      "|7/1/2014| 1:24:00 AM| 703 E 137TH ST M...|\n",
      "|7/1/2014| 1:27:00 AM| 508 E 147TH ST S...|\n",
      "|7/1/2014| 1:29:00 AM| 440 JACKSON AVE ...|\n",
      "|7/1/2014| 1:30:00 AM| 500 TRINITY AVE ...|\n",
      "|7/1/2014| 1:30:00 AM| 621 E 161ST ST M...|\n",
      "|7/1/2014| 1:33:00 AM| 328 BEEKMAN AVE ...|\n",
      "|7/1/2014| 1:33:00 AM| 694 E 141ST ST M...|\n",
      "|7/1/2014| 1:37:00 AM| 580 COURTLANDT A...|\n",
      "|7/1/2014| 1:39:00 AM| 328 BEEKMAN AVE ...|\n",
      "|7/1/2014| 1:43:00 AM| 283 BROOK AVE MO...|\n",
      "|7/1/2014| 1:48:00 AM| 511 E 146TH ST S...|\n",
      "|7/1/2014| 1:58:00 AM| 362 WILLIS AVE M...|\n",
      "|7/1/2014| 2:06:00 AM| 828 JACKSON AVE ...|\n",
      "|7/1/2014| 2:09:00 AM| 1190 SHAKESPEARE...|\n",
      "|7/1/2014| 2:10:00 AM| 320 MORRIS AVE C...|\n",
      "|7/1/2014| 2:11:00 AM| 2319 BEAUMONT AV...|\n",
      "|7/1/2014| 2:16:00 AM| 504 BROOK AVE SO...|\n",
      "|7/1/2014| 2:16:00 AM| 350 E 137TH ST M...|\n",
      "|7/1/2014| 2:16:00 AM| 627 E 141ST ST M...|\n",
      "|7/1/2014| 2:17:00 AM| 721 TINTON AVE S...|\n",
      "|7/1/2014| 2:23:00 AM| 475 WILLIS AVE S...|\n",
      "|7/1/2014| 2:26:00 AM| 912 KELLY ST FOX...|\n",
      "|7/1/2014| 2:28:00 AM| 681 COURTLANDT A...|\n",
      "|7/1/2014| 2:28:00 AM| 681 COURTLANDT A...|\n",
      "|7/1/2014| 2:34:00 AM| 681 COURTLANDT A...|\n",
      "|7/1/2014| 2:35:00 AM| 700 E 156TH ST S...|\n",
      "|7/1/2014| 2:36:00 AM| 613 E 138TH ST M...|\n",
      "|7/1/2014| 2:38:00 AM| 425 CLAREMONT PK...|\n",
      "|7/1/2014| 2:53:00 AM| 380 E 143RD ST M...|\n",
      "|7/1/2014| 2:54:00 AM| 3103 3RD AVE COR...|\n",
      "|7/1/2014| 3:03:00 AM| 165 SAINT ANNS A...|\n",
      "|7/1/2014| 3:04:00 AM| 400 BROOK AVE MO...|\n",
      "|7/1/2014| 3:04:00 AM| 726 E 152ND ST S...|\n",
      "|7/1/2014| 3:06:00 AM| 551 E 148TH ST S...|\n",
      "|7/1/2014| 3:11:00 AM| 920 WESTCHESTER ...|\n",
      "|7/1/2014| 3:15:00 AM| 820 SAINT ANNS A...|\n",
      "|7/1/2014| 3:25:00 AM| 355 E 143RD ST M...|\n",
      "|7/1/2014| 3:25:00 AM| 325 E 143RD ST C...|\n",
      "|7/1/2014| 3:28:00 AM| 621 MELROSE AVE ...|\n",
      "|7/1/2014| 3:30:00 AM| 370 BROOK AVE MO...|\n",
      "|7/1/2014| 3:34:00 AM| 810 E 152ND ST S...|\n",
      "|7/1/2014| 3:34:00 AM| 510 E 156TH ST S...|\n",
      "|7/1/2014| 3:40:00 AM| 760 GRAND CONCOU...|\n",
      "|7/1/2014| 3:43:00 AM| 535 E 142ND ST M...|\n",
      "|7/1/2014| 3:48:00 AM| 929 COURTLANDT A...|\n",
      "|7/1/2014| 3:48:00 AM| 205 BROOK AVE MO...|\n",
      "|7/1/2014| 3:49:00 AM| 388 E 141ST ST M...|\n",
      "|7/1/2014| 3:52:00 AM| 466 CONCORD AVE ...|\n",
      "|7/1/2014| 3:53:00 AM| 760 GRAND CONCOU...|\n",
      "|7/1/2014| 3:53:00 AM| 335 E 148TH ST C...|\n",
      "+--------+-----------+--------------------+\n",
      "only showing top 100 rows\n",
      "\n"
     ]
    },
    {
     "name": "stderr",
     "output_type": "stream",
     "text": [
      "\r",
      "[Stage 370:====================================================>  (18 + 1) / 19]\r",
      "\r",
      "                                                                                \r"
     ]
    }
   ],
   "source": [
    "fhv_test.show(100)"
   ]
  },
  {
   "cell_type": "code",
   "execution_count": 140,
   "id": "5a85cb43",
   "metadata": {},
   "outputs": [
    {
     "name": "stderr",
     "output_type": "stream",
     "text": [
      "22/03/16 17:46:59 WARN CSVHeaderChecker: CSV header does not conform to the schema.\n",
      " Header: Date, Time, PU_Address\n",
      " Schema: Date, Time, PU_Address5\n",
      "Expected: PU_Address5 but found: PU_Address\n",
      "CSV file: file:///home/ubuntu/uber-tlc-foil-response/other-FHV-data/Federal_02216.csv\n",
      "                                                                                \r"
     ]
    },
    {
     "name": "stdout",
     "output_type": "stream",
     "text": [
      "+--------+-----------+--------------------+\n",
      "|    DATE|       TIME|     PICK_UP_ADDRESS|\n",
      "+--------+-----------+--------------------+\n",
      "|7/1/2014|12:00:00 AM| 874 E 139TH ST M...|\n",
      "|7/1/2014|12:01:00 AM| 628 E 141ST ST M...|\n",
      "|7/1/2014|12:01:00 AM| 601 E 156TH ST S...|\n",
      "|7/1/2014|12:01:00 AM| 708 E 138TH ST M...|\n",
      "|7/1/2014|12:02:00 AM| 700 E 140TH ST M...|\n",
      "|7/1/2014|12:03:00 AM| 514 E 163RD ST C...|\n",
      "|7/1/2014|12:08:00 AM| 300 E 150TH ST C...|\n",
      "|7/1/2014|12:10:00 AM| 370 E 153RD ST S...|\n",
      "|7/1/2014|12:11:00 AM| 455 E 148TH ST S...|\n",
      "|7/1/2014|12:11:00 AM| 600 E 141ST ST M...|\n",
      "+--------+-----------+--------------------+\n",
      "only showing top 10 rows\n",
      "\n"
     ]
    },
    {
     "name": "stderr",
     "output_type": "stream",
     "text": [
      "22/03/16 17:47:01 WARN CSVHeaderChecker: CSV header does not conform to the schema.\n",
      " Header: Date, Time, PU_Address\n",
      " Schema: Date, Time, PU_Address5\n",
      "Expected: PU_Address5 but found: PU_Address\n",
      "CSV file: file:///home/ubuntu/uber-tlc-foil-response/other-FHV-data/Federal_02216.csv\n",
      "[Stage 376:=================================================>     (17 + 2) / 19]\r"
     ]
    },
    {
     "name": "stdout",
     "output_type": "stream",
     "text": [
      "+--------+-----------+---------------+\n",
      "|    DATE|       TIME|PICK_UP_ADDRESS|\n",
      "+--------+-----------+---------------+\n",
      "|7/1/2014|12:00:00 AM|          139TH|\n",
      "|7/1/2014|12:01:00 AM|          141ST|\n",
      "|7/1/2014|12:01:00 AM|          156TH|\n",
      "|7/1/2014|12:01:00 AM|          138TH|\n",
      "|7/1/2014|12:02:00 AM|          140TH|\n",
      "|7/1/2014|12:03:00 AM|          163RD|\n",
      "|7/1/2014|12:08:00 AM|          150TH|\n",
      "|7/1/2014|12:10:00 AM|          153RD|\n",
      "|7/1/2014|12:11:00 AM|          148TH|\n",
      "|7/1/2014|12:11:00 AM|          141ST|\n",
      "+--------+-----------+---------------+\n",
      "only showing top 10 rows\n",
      "\n"
     ]
    },
    {
     "name": "stderr",
     "output_type": "stream",
     "text": [
      "\r",
      "                                                                                \r"
     ]
    }
   ],
   "source": [
    "from pyspark.sql.functions import udf, regexp_replace\n",
    "import re\n",
    "regex_udf = udf(lambda x: re.sub(r\"[\\d]{1,3}\\s\", \"\",re.sub(r\"\\sE\\s|\\sN\\s|\\sW\\s|\\sN\\s\", \" \", x)).split()[0].strip())\n",
    "fhv_test.show(10)\n",
    "fhv_test = fhv_test.withColumn(\"PICK_UP_ADDRESS\", regex_udf(col(\"PICK_UP_ADDRESS\")))\n",
    "fhv_test.show(10)"
   ]
  },
  {
   "cell_type": "code",
   "execution_count": 141,
   "id": "566977e0",
   "metadata": {
    "scrolled": true
   },
   "outputs": [
    {
     "name": "stderr",
     "output_type": "stream",
     "text": [
      "22/03/16 17:47:07 WARN CSVHeaderChecker: CSV header does not conform to the schema.\n",
      " Header: PU_Address\n",
      " Schema: PU_Address5\n",
      "Expected: PU_Address5 but found: PU_Address\n",
      "CSV file: file:///home/ubuntu/uber-tlc-foil-response/other-FHV-data/Federal_02216.csv\n",
      "[Stage 381:>                                                        (0 + 1) / 1]\r"
     ]
    },
    {
     "name": "stdout",
     "output_type": "stream",
     "text": [
      "+---------------+-----+\n",
      "|PICK_UP_ADDRESS|count|\n",
      "+---------------+-----+\n",
      "|          SAINT| 4621|\n",
      "|          BROOK| 4163|\n",
      "|          141ST| 3663|\n",
      "|          143RD| 3566|\n",
      "|             ST| 3544|\n",
      "|          146TH| 2633|\n",
      "|        CYPRESS| 2459|\n",
      "|        JACKSON| 2415|\n",
      "|          156TH| 2345|\n",
      "|          145TH| 2338|\n",
      "|          137TH| 2258|\n",
      "|          149TH| 2229|\n",
      "|        TRINITY| 2074|\n",
      "|         WILLIS| 1710|\n",
      "|          140TH| 1661|\n",
      "|        CONCORD| 1643|\n",
      "|          139TH| 1553|\n",
      "|          EAGLE| 1533|\n",
      "|         TINTON| 1510|\n",
      "|       BRUCKNER| 1461|\n",
      "+---------------+-----+\n",
      "only showing top 20 rows\n",
      "\n"
     ]
    },
    {
     "name": "stderr",
     "output_type": "stream",
     "text": [
      "\r",
      "                                                                                \r"
     ]
    }
   ],
   "source": [
    "from pyspark.sql.functions import desc\n",
    "popular_streets = fhv_test.groupBy(\"PICK_UP_ADDRESS\").count().sort(desc(\"Count\"))\n",
    "popular_streets.show(20)"
   ]
  },
  {
   "cell_type": "code",
   "execution_count": 179,
   "id": "f40d01d0",
   "metadata": {},
   "outputs": [
    {
     "data": {
      "image/png": "[encoded data removed]",
      "text/plain": [
       "<Figure size 432x288 with 1 Axes>"
      ]
     },
     "metadata": {
      "needs_background": "light"
     },
     "output_type": "display_data"
    }
   ],
   "source": [
    "import matplotlib.pyplot as plt\n",
    "max_points = 30\n",
    "names = [row[0] for row in popular_streets.collect()][:max_points]\n",
    "counts = [row[1] for row in popular_streets.collect()][:max_points]\n",
    "plt.bar(range(max_points), counts, tick_label=names)\n",
    "\n",
    "plt.xticks(rotation=90)\n",
    "plt.show()"
   ]
  },
  {
   "cell_type": "code",
   "execution_count": 147,
   "id": "fb51e1f2",
   "metadata": {
    "scrolled": false
   },
   "outputs": [
    {
     "name": "stderr",
     "output_type": "stream",
     "text": [
      "[Stage 412:=================================================>     (17 + 2) / 19]\r"
     ]
    },
    {
     "name": "stdout",
     "output_type": "stream",
     "text": [
      "+-----------+-----+\n",
      "|       TIME|count|\n",
      "+-----------+-----+\n",
      "|      15:00|  184|\n",
      "|      14:00|  168|\n",
      "|       9:00|  166|\n",
      "|       6:00|  157|\n",
      "|      14:30|  147|\n",
      "|      11:00|  143|\n",
      "|      12:00|  143|\n",
      "|      10:00|  140|\n",
      "|       8:30|  138|\n",
      "|      13:00|  134|\n",
      "|       6:30|  134|\n",
      "|       8:00|  131|\n",
      "|       5:00|  127|\n",
      "|      12:30|  126|\n",
      "|       9:30|  125|\n",
      "|      13:30|  125|\n",
      "|      15:30|  124|\n",
      "|       7:00|  121|\n",
      "| 7:39:00 AM|  120|\n",
      "| 8:49:00 AM|  119|\n",
      "|       4:30|  118|\n",
      "|       7:30|  118|\n",
      "| 7:46:00 AM|  118|\n",
      "|      10:30|  117|\n",
      "|       5:30|  116|\n",
      "|11:22:00 PM|  113|\n",
      "| 7:45:00 AM|  113|\n",
      "| 7:37:00 AM|  112|\n",
      "| 8:48:00 AM|  112|\n",
      "|10:32:00 PM|  112|\n",
      "+-----------+-----+\n",
      "only showing top 30 rows\n",
      "\n"
     ]
    },
    {
     "name": "stderr",
     "output_type": "stream",
     "text": [
      "\r",
      "                                                                                \r"
     ]
    }
   ],
   "source": [
    "popular_times = fhv_test.groupBy(\"TIME\").count().sort(desc(\"count\"))\n",
    "popular_times.show(30)"
   ]
  },
  {
   "cell_type": "code",
   "execution_count": 217,
   "id": "4647cc61",
   "metadata": {
    "scrolled": true
   },
   "outputs": [
    {
     "name": "stderr",
     "output_type": "stream",
     "text": [
      "[Stage 949:>                                                        (0 + 1) / 1]\r"
     ]
    },
    {
     "name": "stdout",
     "output_type": "stream",
     "text": [
      "+-----+-----+\n",
      "| TIME|count|\n",
      "+-----+-----+\n",
      "|09:00|  269|\n",
      "|10:00|  246|\n",
      "|15:00|  245|\n",
      "|14:00|  223|\n",
      "|07:30|  222|\n",
      "|08:30|  221|\n",
      "|11:00|  221|\n",
      "|06:00|  216|\n",
      "|13:00|  216|\n",
      "|09:30|  213|\n",
      "+-----+-----+\n",
      "only showing top 10 rows\n",
      "\n"
     ]
    },
    {
     "name": "stderr",
     "output_type": "stream",
     "text": [
      "\r",
      "                                                                                \r"
     ]
    }
   ],
   "source": [
    "def uniform_time(t):\n",
    "    pm = False\n",
    "    if \"PM\" in t:\n",
    "        pm = True\n",
    "    t = \":\".join(t.split(\":\")[:2])\n",
    "    if len(t) != 5:\n",
    "        t = \"0\"+t\n",
    "    if pm:\n",
    "        t = str(int(t[:2])+12)+t[2:]\n",
    "    return t\n",
    "regex_udf = udf(lambda x: uniform_time(x))\n",
    "\n",
    "time_uniform = fhv_test.withColumn(\"TIME\", regex_udf(col(\"TIME\"))).groupBy(\"TIME\").count().sort(desc(\"count\"))\n",
    "time_uniform.show(10)"
   ]
  },
  {
   "cell_type": "code",
   "execution_count": 219,
   "id": "15dc0097",
   "metadata": {},
   "outputs": [
    {
     "data": {
      "image/png": "[encoded data removed]",
      "text/plain": [
       "<Figure size 2160x2160 with 1 Axes>"
      ]
     },
     "metadata": {
      "needs_background": "light"
     },
     "output_type": "display_data"
    }
   ],
   "source": [
    "import matplotlib.pyplot as plt\n",
    "names = [row[0] for row in time_uniform.collect()]\n",
    "counts = [row[1] for row in time_uniform.collect()]\n",
    "zipped = list(zip(names, counts))\n",
    "zipped.sort(key=lambda x: x[0])\n",
    "names = [e[0] for e in zipped]\n",
    "counts = [e[1] for e in zipped]\n",
    "plt.subplots(figsize=(30,30))\n",
    "plt.bar(range(len(names)), counts, tick_label=names, width=1.0)\n",
    "\n",
    "plt.ylabel(\"Number of bookings\")\n",
    "plt.xlabel(\"Time in HH:MM\")\n",
    "plt.xticks(rotation=90)\n",
    "plt.show()"
   ]
  },
  {
   "cell_type": "code",
   "execution_count": 215,
   "id": "e68090cf",
   "metadata": {
    "scrolled": true
   },
   "outputs": [
    {
     "name": "stderr",
     "output_type": "stream",
     "text": [
      "22/03/16 18:30:48 WARN CSVHeaderChecker: CSV header does not conform to the schema.\n",
      " Header: Date, Time, PU_Address\n",
      " Schema: Date, Time, PU_Address5\n",
      "Expected: PU_Address5 but found: PU_Address\n",
      "CSV file: file:///home/ubuntu/uber-tlc-foil-response/other-FHV-data/Federal_02216.csv\n",
      "                                                                                \r"
     ]
    },
    {
     "name": "stdout",
     "output_type": "stream",
     "text": [
      "+--------+-----------+---------------+\n",
      "|    DATE|       TIME|PICK_UP_ADDRESS|\n",
      "+--------+-----------+---------------+\n",
      "|7/1/2014|12:00:00 AM|          139TH|\n",
      "|7/1/2014|12:01:00 AM|          141ST|\n",
      "|7/1/2014|12:01:00 AM|          156TH|\n",
      "|7/1/2014|12:01:00 AM|          138TH|\n",
      "|7/1/2014|12:02:00 AM|          140TH|\n",
      "|7/1/2014|12:03:00 AM|          163RD|\n",
      "|7/1/2014|12:08:00 AM|          150TH|\n",
      "|7/1/2014|12:10:00 AM|          153RD|\n",
      "|7/1/2014|12:11:00 AM|          148TH|\n",
      "|7/1/2014|12:11:00 AM|          141ST|\n",
      "+--------+-----------+---------------+\n",
      "only showing top 10 rows\n",
      "\n"
     ]
    },
    {
     "name": "stderr",
     "output_type": "stream",
     "text": [
      "22/03/16 18:30:52 WARN CSVHeaderChecker: CSV header does not conform to the schema.\n",
      " Header: Date, Time, PU_Address\n",
      " Schema: Date, Time, PU_Address5\n",
      "Expected: PU_Address5 but found: PU_Address\n",
      "CSV file: file:///home/ubuntu/uber-tlc-foil-response/other-FHV-data/Federal_02216.csv\n",
      "ERROR:root:KeyboardInterrupt while sending command.===>           (15 + 2) / 19]\n",
      "Traceback (most recent call last):\n",
      "  File \"/home/ubuntu/.local/lib/python3.8/site-packages/py4j/java_gateway.py\", line 1038, in send_command\n",
      "    response = connection.send_command(command)\n",
      "  File \"/home/ubuntu/.local/lib/python3.8/site-packages/py4j/clientserver.py\", line 475, in send_command\n",
      "    answer = smart_decode(self.stream.readline()[:-1])\n",
      "  File \"/usr/lib/python3.8/socket.py\", line 669, in readinto\n",
      "    return self._sock.recv_into(b)\n",
      "KeyboardInterrupt\n",
      "[Stage 936:====================================================>  (18 + 1) / 19]\r"
     ]
    },
    {
     "ename": "KeyboardInterrupt",
     "evalue": "",
     "output_type": "error",
     "traceback": [
      "\u001b[0;31m---------------------------------------------------------------------------\u001b[0m",
      "\u001b[0;31mKeyboardInterrupt\u001b[0m                         Traceback (most recent call last)",
      "Input \u001b[0;32mIn [215]\u001b[0m, in \u001b[0;36m<cell line: 15>\u001b[0;34m()\u001b[0m\n\u001b[1;32m     13\u001b[0m fhv_test\u001b[38;5;241m.\u001b[39mshow(\u001b[38;5;241m10\u001b[39m)\n\u001b[1;32m     14\u001b[0m time_trunc \u001b[38;5;241m=\u001b[39m fhv_test\u001b[38;5;241m.\u001b[39mwithColumn(\u001b[38;5;124m\"\u001b[39m\u001b[38;5;124mTIME\u001b[39m\u001b[38;5;124m\"\u001b[39m, regex_udf(col(\u001b[38;5;124m\"\u001b[39m\u001b[38;5;124mTIME\u001b[39m\u001b[38;5;124m\"\u001b[39m)))\n\u001b[0;32m---> 15\u001b[0m \u001b[43mtime_trunc\u001b[49m\u001b[38;5;241;43m.\u001b[39;49m\u001b[43mshow\u001b[49m\u001b[43m(\u001b[49m\u001b[38;5;241;43m10\u001b[39;49m\u001b[43m)\u001b[49m\n",
      "File \u001b[0;32m~/.local/lib/python3.8/site-packages/pyspark/sql/dataframe.py:494\u001b[0m, in \u001b[0;36mDataFrame.show\u001b[0;34m(self, n, truncate, vertical)\u001b[0m\n\u001b[1;32m    491\u001b[0m     \u001b[38;5;28;01mraise\u001b[39;00m \u001b[38;5;167;01mTypeError\u001b[39;00m(\u001b[38;5;124m\"\u001b[39m\u001b[38;5;124mParameter \u001b[39m\u001b[38;5;124m'\u001b[39m\u001b[38;5;124mvertical\u001b[39m\u001b[38;5;124m'\u001b[39m\u001b[38;5;124m must be a bool\u001b[39m\u001b[38;5;124m\"\u001b[39m)\n\u001b[1;32m    493\u001b[0m \u001b[38;5;28;01mif\u001b[39;00m \u001b[38;5;28misinstance\u001b[39m(truncate, \u001b[38;5;28mbool\u001b[39m) \u001b[38;5;129;01mand\u001b[39;00m truncate:\n\u001b[0;32m--> 494\u001b[0m     \u001b[38;5;28mprint\u001b[39m(\u001b[38;5;28;43mself\u001b[39;49m\u001b[38;5;241;43m.\u001b[39;49m\u001b[43m_jdf\u001b[49m\u001b[38;5;241;43m.\u001b[39;49m\u001b[43mshowString\u001b[49m\u001b[43m(\u001b[49m\u001b[43mn\u001b[49m\u001b[43m,\u001b[49m\u001b[43m \u001b[49m\u001b[38;5;241;43m20\u001b[39;49m\u001b[43m,\u001b[49m\u001b[43m \u001b[49m\u001b[43mvertical\u001b[49m\u001b[43m)\u001b[49m)\n\u001b[1;32m    495\u001b[0m \u001b[38;5;28;01melse\u001b[39;00m:\n\u001b[1;32m    496\u001b[0m     \u001b[38;5;28;01mtry\u001b[39;00m:\n",
      "File \u001b[0;32m~/.local/lib/python3.8/site-packages/py4j/java_gateway.py:1320\u001b[0m, in \u001b[0;36mJavaMember.__call__\u001b[0;34m(self, *args)\u001b[0m\n\u001b[1;32m   1313\u001b[0m args_command, temp_args \u001b[38;5;241m=\u001b[39m \u001b[38;5;28mself\u001b[39m\u001b[38;5;241m.\u001b[39m_build_args(\u001b[38;5;241m*\u001b[39margs)\n\u001b[1;32m   1315\u001b[0m command \u001b[38;5;241m=\u001b[39m proto\u001b[38;5;241m.\u001b[39mCALL_COMMAND_NAME \u001b[38;5;241m+\u001b[39m\\\n\u001b[1;32m   1316\u001b[0m     \u001b[38;5;28mself\u001b[39m\u001b[38;5;241m.\u001b[39mcommand_header \u001b[38;5;241m+\u001b[39m\\\n\u001b[1;32m   1317\u001b[0m     args_command \u001b[38;5;241m+\u001b[39m\\\n\u001b[1;32m   1318\u001b[0m     proto\u001b[38;5;241m.\u001b[39mEND_COMMAND_PART\n\u001b[0;32m-> 1320\u001b[0m answer \u001b[38;5;241m=\u001b[39m \u001b[38;5;28;43mself\u001b[39;49m\u001b[38;5;241;43m.\u001b[39;49m\u001b[43mgateway_client\u001b[49m\u001b[38;5;241;43m.\u001b[39;49m\u001b[43msend_command\u001b[49m\u001b[43m(\u001b[49m\u001b[43mcommand\u001b[49m\u001b[43m)\u001b[49m\n\u001b[1;32m   1321\u001b[0m return_value \u001b[38;5;241m=\u001b[39m get_return_value(\n\u001b[1;32m   1322\u001b[0m     answer, \u001b[38;5;28mself\u001b[39m\u001b[38;5;241m.\u001b[39mgateway_client, \u001b[38;5;28mself\u001b[39m\u001b[38;5;241m.\u001b[39mtarget_id, \u001b[38;5;28mself\u001b[39m\u001b[38;5;241m.\u001b[39mname)\n\u001b[1;32m   1324\u001b[0m \u001b[38;5;28;01mfor\u001b[39;00m temp_arg \u001b[38;5;129;01min\u001b[39;00m temp_args:\n",
      "File \u001b[0;32m~/.local/lib/python3.8/site-packages/py4j/java_gateway.py:1038\u001b[0m, in \u001b[0;36mGatewayClient.send_command\u001b[0;34m(self, command, retry, binary)\u001b[0m\n\u001b[1;32m   1036\u001b[0m connection \u001b[38;5;241m=\u001b[39m \u001b[38;5;28mself\u001b[39m\u001b[38;5;241m.\u001b[39m_get_connection()\n\u001b[1;32m   1037\u001b[0m \u001b[38;5;28;01mtry\u001b[39;00m:\n\u001b[0;32m-> 1038\u001b[0m     response \u001b[38;5;241m=\u001b[39m \u001b[43mconnection\u001b[49m\u001b[38;5;241;43m.\u001b[39;49m\u001b[43msend_command\u001b[49m\u001b[43m(\u001b[49m\u001b[43mcommand\u001b[49m\u001b[43m)\u001b[49m\n\u001b[1;32m   1039\u001b[0m     \u001b[38;5;28;01mif\u001b[39;00m binary:\n\u001b[1;32m   1040\u001b[0m         \u001b[38;5;28;01mreturn\u001b[39;00m response, \u001b[38;5;28mself\u001b[39m\u001b[38;5;241m.\u001b[39m_create_connection_guard(connection)\n",
      "File \u001b[0;32m~/.local/lib/python3.8/site-packages/py4j/clientserver.py:475\u001b[0m, in \u001b[0;36mClientServerConnection.send_command\u001b[0;34m(self, command)\u001b[0m\n\u001b[1;32m    473\u001b[0m \u001b[38;5;28;01mtry\u001b[39;00m:\n\u001b[1;32m    474\u001b[0m     \u001b[38;5;28;01mwhile\u001b[39;00m \u001b[38;5;28;01mTrue\u001b[39;00m:\n\u001b[0;32m--> 475\u001b[0m         answer \u001b[38;5;241m=\u001b[39m smart_decode(\u001b[38;5;28;43mself\u001b[39;49m\u001b[38;5;241;43m.\u001b[39;49m\u001b[43mstream\u001b[49m\u001b[38;5;241;43m.\u001b[39;49m\u001b[43mreadline\u001b[49m\u001b[43m(\u001b[49m\u001b[43m)\u001b[49m[:\u001b[38;5;241m-\u001b[39m\u001b[38;5;241m1\u001b[39m])\n\u001b[1;32m    476\u001b[0m         logger\u001b[38;5;241m.\u001b[39mdebug(\u001b[38;5;124m\"\u001b[39m\u001b[38;5;124mAnswer received: \u001b[39m\u001b[38;5;132;01m{0}\u001b[39;00m\u001b[38;5;124m\"\u001b[39m\u001b[38;5;241m.\u001b[39mformat(answer))\n\u001b[1;32m    477\u001b[0m         \u001b[38;5;66;03m# Happens when a the other end is dead. There might be an empty\u001b[39;00m\n\u001b[1;32m    478\u001b[0m         \u001b[38;5;66;03m# answer before the socket raises an error.\u001b[39;00m\n",
      "File \u001b[0;32m/usr/lib/python3.8/socket.py:669\u001b[0m, in \u001b[0;36mSocketIO.readinto\u001b[0;34m(self, b)\u001b[0m\n\u001b[1;32m    667\u001b[0m \u001b[38;5;28;01mwhile\u001b[39;00m \u001b[38;5;28;01mTrue\u001b[39;00m:\n\u001b[1;32m    668\u001b[0m     \u001b[38;5;28;01mtry\u001b[39;00m:\n\u001b[0;32m--> 669\u001b[0m         \u001b[38;5;28;01mreturn\u001b[39;00m \u001b[38;5;28;43mself\u001b[39;49m\u001b[38;5;241;43m.\u001b[39;49m\u001b[43m_sock\u001b[49m\u001b[38;5;241;43m.\u001b[39;49m\u001b[43mrecv_into\u001b[49m\u001b[43m(\u001b[49m\u001b[43mb\u001b[49m\u001b[43m)\u001b[49m\n\u001b[1;32m    670\u001b[0m     \u001b[38;5;28;01mexcept\u001b[39;00m timeout:\n\u001b[1;32m    671\u001b[0m         \u001b[38;5;28mself\u001b[39m\u001b[38;5;241m.\u001b[39m_timeout_occurred \u001b[38;5;241m=\u001b[39m \u001b[38;5;28;01mTrue\u001b[39;00m\n",
      "\u001b[0;31mKeyboardInterrupt\u001b[0m: "
     ]
    }
   ],
   "source": [
    "def round_time(t):\n",
    "    pm = False\n",
    "    if \"PM\" in t:\n",
    "        pm = True\n",
    "    t = \":\".join(t.split(\":\")[:2])\n",
    "    t = t[:-1]+str(int(t[-1:])//5*5)\n",
    "    if len(t) != 5:\n",
    "        t = \"0\"+t\n",
    "    if pm:\n",
    "        t = str(int(t[:2])+12)+t[2:]\n",
    "    return t\n",
    "regex_udf = udf(lambda x: round_time(x))\n",
    "fhv_test.show(10)\n",
    "time_trunc = fhv_test.withColumn(\"TIME\", regex_udf(col(\"TIME\")))\n",
    "time_trunc.show(10)"
   ]
  },
  {
   "cell_type": "code",
   "execution_count": 204,
   "id": "a7050338",
   "metadata": {},
   "outputs": [
    {
     "name": "stderr",
     "output_type": "stream",
     "text": [
      "[Stage 840:>                                                        (0 + 1) / 1]\r"
     ]
    },
    {
     "name": "stdout",
     "output_type": "stream",
     "text": [
      "+-----+-----+\n",
      "| TIME|count|\n",
      "+-----+-----+\n",
      "|07:30|  632|\n",
      "|08:30|  605|\n",
      "|07:45|  597|\n",
      "|09:00|  584|\n",
      "|08:45|  580|\n",
      "|12:00|  563|\n",
      "|07:35|  548|\n",
      "|08:00|  523|\n",
      "|23:20|  522|\n",
      "|08:40|  521|\n",
      "|08:35|  515|\n",
      "|12:30|  507|\n",
      "|23:15|  496|\n",
      "|10:00|  496|\n",
      "|09:30|  495|\n",
      "|07:50|  490|\n",
      "|08:15|  490|\n",
      "|07:40|  489|\n",
      "|23:05|  483|\n",
      "|23:40|  481|\n",
      "+-----+-----+\n",
      "only showing top 20 rows\n",
      "\n"
     ]
    },
    {
     "name": "stderr",
     "output_type": "stream",
     "text": [
      "\r",
      "                                                                                \r"
     ]
    }
   ],
   "source": [
    "popular_times_trunced = time_trunc.groupBy(\"TIME\").count().sort(desc(\"count\"))\n",
    "popular_times_trunced.show(20)"
   ]
  },
  {
   "cell_type": "code",
   "execution_count": 211,
   "id": "8ecd8159",
   "metadata": {},
   "outputs": [
    {
     "data": {
      "image/png": "[encoded data removed]",
      "text/plain": [
       "<Figure size 2160x2160 with 1 Axes>"
      ]
     },
     "metadata": {
      "needs_background": "light"
     },
     "output_type": "display_data"
    }
   ],
   "source": [
    "import matplotlib.pyplot as plt\n",
    "names = [row[0] for row in popular_times_trunced.collect()]\n",
    "counts = [row[1] for row in popular_times_trunced.collect()]\n",
    "zipped = list(zip(names, counts))\n",
    "zipped.sort(key=lambda x: x[0])\n",
    "names = [e[0] for e in zipped]\n",
    "counts = [e[1] for e in zipped]\n",
    "plt.subplots(figsize=(30,30))\n",
    "plt.bar(range(len(names)), counts, tick_label=names, width=1.0)\n",
    "\n",
    "plt.ylabel(\"Number of bookings\")\n",
    "plt.xlabel(\"Time in HH:MM\")\n",
    "plt.xticks(rotation=90)\n",
    "plt.show()"
   ]
  },
  {
   "cell_type": "code",
   "execution_count": null,
   "id": "3b2b224e",
   "metadata": {},
   "outputs": [],
   "source": []
  }
 ],
 "metadata": {
  "kernelspec": {
   "display_name": "Python 3 (ipykernel)",
   "language": "python",
   "name": "python3"
  },
  "language_info": {
   "codemirror_mode": {
    "name": "ipython",
    "version": 3
   },
   "file_extension": ".py",
   "mimetype": "text/x-python",
   "name": "python",
   "nbconvert_exporter": "python",
   "pygments_lexer": "ipython3",
   "version": "3.8.10"
  }
 },
 "nbformat": 4,
 "nbformat_minor": 5
}
