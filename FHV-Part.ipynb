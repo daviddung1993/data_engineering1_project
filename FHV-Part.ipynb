{
 "cells": [
  {
   "cell_type": "markdown",
   "id": "0045df75",
   "metadata": {},
   "source": [
    "# Project Group 1, TASKS 6 TO 9"
   ]
  },
  {
   "cell_type": "markdown",
   "id": "d20596e7",
   "metadata": {},
   "source": [
    "Tasks with For-Hire Vehicle (FHV) companies (10 files of raw data on pickups from 10 FHV companies. The trip information varies by company, but can include day of trip, time of trip, pickup location, driver's for-hire license number, and vehicle's for-hire license number.)\n",
    "\n",
    "- Task 6. Find the most frequent address names from adress column for all companies (word count in strings) [Axel]\n",
    "    \n",
    "- Task 7. Find frequent times like the one in Uber section [Axel]\n",
    "    \n",
    "- Task 8. Find the most customer intensive neighborhoods [Naeim]\n",
    " \n",
    "- Task 9. Scalability tasks! [Naeim]\n"
   ]
  },
  {
   "cell_type": "code",
   "execution_count": 1,
   "id": "c4a536c8",
   "metadata": {},
   "outputs": [],
   "source": [
    "# To run the code on local machine or on server\n",
    "server_mode = True"
   ]
  },
  {
   "cell_type": "code",
   "execution_count": 2,
   "id": "973db725",
   "metadata": {},
   "outputs": [
    {
     "name": "stderr",
     "output_type": "stream",
     "text": [
      "Using Spark's default log4j profile: org/apache/spark/log4j-defaults.properties\n",
      "Setting default log level to \"WARN\".\n",
      "To adjust logging level use sc.setLogLevel(newLevel). For SparkR, use setLogLevel(newLevel).\n",
      "22/03/18 19:51:50 WARN NativeCodeLoader: Unable to load native-hadoop library for your platform... using builtin-java classes where applicable\n",
      "22/03/18 19:51:53 WARN ExecutorAllocationManager: Dynamic allocation without a shuffle service is an experimental feature.\n"
     ]
    }
   ],
   "source": [
    "from pyspark.sql import SparkSession\n",
    "if server_mode:\n",
    "    #New API\n",
    "    spark_session = SparkSession\\\n",
    "            .builder\\\n",
    "            .master(\"spark://192.168.2.74:7077\") \\\n",
    "            .appName(\"Project_G1_Naeim\")\\\n",
    "            .config(\"spark.dynamicAllocation.enabled\", True)\\\n",
    "            .config(\"spark.dynamicAllocation.shuffleTracking.enabled\",True)\\\n",
    "            .config(\"spark.shuffle.service.enabled\", False)\\\n",
    "            .config(\"spark.dynamicAllocation.executorIdleTimeout\",\"300s\")\\\n",
    "            .config(\"spark.cores.max\",5)\\\n",
    "            .config(\"spark.cores.min\",5)\\\n",
    "            .config(\"spark.driver.port\",9998)\\\n",
    "            .config(\"spark.blockManager.port\",10005)\\\n",
    "            .getOrCreate()\n",
    "\n",
    "    # Old API (RDD)\n",
    "    spark_context = spark_session.sparkContext\n",
    "    spark_context.setLogLevel(\"ERROR\")\n",
    "    # spark_context.setLogLevel(\"INFO\")\n",
    "    \n",
    "else:\n",
    "    # local version, deactivate later!\n",
    "    spark_session = SparkSession.builder.appName('Project_G1_FHV').getOrCreate()\n",
    "    spark_context = spark_session.sparkContext"
   ]
  },
  {
   "cell_type": "code",
   "execution_count": 3,
   "id": "972b2163",
   "metadata": {},
   "outputs": [
    {
     "data": {
      "text/html": [
       "\n",
       "            <div>\n",
       "                <p><b>SparkSession - in-memory</b></p>\n",
       "                \n",
       "        <div>\n",
       "            <p><b>SparkContext</b></p>\n",
       "\n",
       "            <p><a href=\"http://host-192-168-2-24-de1:4040\">Spark UI</a></p>\n",
       "\n",
       "            <dl>\n",
       "              <dt>Version</dt>\n",
       "                <dd><code>v3.2.1</code></dd>\n",
       "              <dt>Master</dt>\n",
       "                <dd><code>spark://192.168.2.74:7077</code></dd>\n",
       "              <dt>AppName</dt>\n",
       "                <dd><code>Project_G1_Naeim</code></dd>\n",
       "            </dl>\n",
       "        </div>\n",
       "        \n",
       "            </div>\n",
       "        "
      ],
      "text/plain": [
       "<pyspark.sql.session.SparkSession at 0x7efc5ca47f40>"
      ]
     },
     "execution_count": 3,
     "metadata": {},
     "output_type": "execute_result"
    }
   ],
   "source": [
    "spark_session"
   ]
  },
  {
   "cell_type": "code",
   "execution_count": 4,
   "id": "ee5e2df3",
   "metadata": {},
   "outputs": [
    {
     "name": "stderr",
     "output_type": "stream",
     "text": [
      "                                                                                \r"
     ]
    }
   ],
   "source": [
    "import os\n",
    "if server_mode:\n",
    "    path = 'hdfs://192.168.2.74:9000/user/ubuntu/uber-tlc-foil-response/other-FHV-data'\n",
    "else:\n",
    "    path = os.getcwd() + '/DATA/'\n",
    "FHV_file = path+'FHV_10_companies_data.parquet'\n",
    "FHV_10_companies_data = spark_session.read.parquet(FHV_file)"
   ]
  },
  {
   "cell_type": "code",
   "execution_count": 5,
   "id": "f127a18e",
   "metadata": {
    "scrolled": true
   },
   "outputs": [],
   "source": [
    "from pyspark.sql.functions import upper, col\n",
    "FHV_10_companies_data = FHV_10_companies_data.withColumn(\"PICK_UP_ADDRESS\", upper(col(\"PICK_UP_ADDRESS\")))"
   ]
  },
  {
   "cell_type": "code",
   "execution_count": 6,
   "id": "fb630b90",
   "metadata": {},
   "outputs": [
    {
     "name": "stderr",
     "output_type": "stream",
     "text": [
      "[Stage 1:>                                                          (0 + 1) / 1]\r"
     ]
    },
    {
     "name": "stdout",
     "output_type": "stream",
     "text": [
      "+--------+-----------+--------------------+\n",
      "|    DATE|       TIME|     PICK_UP_ADDRESS|\n",
      "+--------+-----------+--------------------+\n",
      "|7/1/2014|12:00:00 AM| 2557 MARION AVE ...|\n",
      "|7/1/2014|12:00:00 AM| 45 E MOSHOLU PKW...|\n",
      "|7/1/2014|12:00:00 AM| 458 E 143RD ST M...|\n",
      "|7/1/2014|12:02:00 AM|MINIVAN SUV 2557 ...|\n",
      "|7/1/2014|12:02:00 AM| 1117 WESTCHESTER...|\n",
      "|7/1/2014|12:02:00 AM| 250 BEDFORD PARK...|\n",
      "|7/1/2014|12:03:00 AM| 3450 WAYNE AVE W...|\n",
      "|7/1/2014|12:04:00 AM| 740 E 175TH ST T...|\n",
      "|7/1/2014|12:04:00 AM| 325 E 206TH ST W...|\n",
      "|7/1/2014|12:04:00 AM| 2384 HUGHES AVE ...|\n",
      "+--------+-----------+--------------------+\n",
      "only showing top 10 rows\n",
      "\n"
     ]
    },
    {
     "name": "stderr",
     "output_type": "stream",
     "text": [
      "                                                                                \r"
     ]
    }
   ],
   "source": [
    "FHV_10_companies_data.show(10)"
   ]
  },
  {
   "cell_type": "code",
   "execution_count": 7,
   "id": "04e9b934",
   "metadata": {},
   "outputs": [
    {
     "data": {
      "text/plain": [
       "1409080"
      ]
     },
     "execution_count": 7,
     "metadata": {},
     "output_type": "execute_result"
    }
   ],
   "source": [
    "FHV_10_companies_data.count()"
   ]
  },
  {
   "cell_type": "code",
   "execution_count": 8,
   "id": "e3a4994f",
   "metadata": {},
   "outputs": [
    {
     "name": "stdout",
     "output_type": "stream",
     "text": [
      "root\n",
      " |-- DATE: string (nullable = true)\n",
      " |-- TIME: string (nullable = true)\n",
      " |-- PICK_UP_ADDRESS: string (nullable = true)\n",
      "\n",
      "+--------+-----------+--------------------+\n",
      "|    DATE|       TIME|     PICK_UP_ADDRESS|\n",
      "+--------+-----------+--------------------+\n",
      "|7/1/2014|12:00:00 AM| 2557 MARION AVE ...|\n",
      "|7/1/2014|12:00:00 AM| 45 E MOSHOLU PKW...|\n",
      "|7/1/2014|12:00:00 AM| 458 E 143RD ST M...|\n",
      "|7/1/2014|12:02:00 AM|MINIVAN SUV 2557 ...|\n",
      "|7/1/2014|12:02:00 AM| 1117 WESTCHESTER...|\n",
      "|7/1/2014|12:02:00 AM| 250 BEDFORD PARK...|\n",
      "|7/1/2014|12:03:00 AM| 3450 WAYNE AVE W...|\n",
      "|7/1/2014|12:04:00 AM| 740 E 175TH ST T...|\n",
      "|7/1/2014|12:04:00 AM| 325 E 206TH ST W...|\n",
      "|7/1/2014|12:04:00 AM| 2384 HUGHES AVE ...|\n",
      "+--------+-----------+--------------------+\n",
      "only showing top 10 rows\n",
      "\n"
     ]
    }
   ],
   "source": [
    "fhv_test = FHV_10_companies_data.limit(100000) #test on smaller number of rows\n",
    "fhv_test.printSchema()\n",
    "fhv_test.show(10)"
   ]
  },
  {
   "cell_type": "code",
   "execution_count": 9,
   "id": "cfe9bad0",
   "metadata": {},
   "outputs": [
    {
     "name": "stdout",
     "output_type": "stream",
     "text": [
      "+--------+-----------+--------------------+\n",
      "|    DATE|       TIME|     PICK_UP_ADDRESS|\n",
      "+--------+-----------+--------------------+\n",
      "|7/1/2014|12:00:00 AM| 2557 MARION AVE ...|\n",
      "|7/1/2014|12:00:00 AM| 45 E MOSHOLU PKW...|\n",
      "|7/1/2014|12:00:00 AM| 458 E 143RD ST M...|\n",
      "|7/1/2014|12:02:00 AM|MINIVAN SUV 2557 ...|\n",
      "|7/1/2014|12:02:00 AM| 1117 WESTCHESTER...|\n",
      "|7/1/2014|12:02:00 AM| 250 BEDFORD PARK...|\n",
      "|7/1/2014|12:03:00 AM| 3450 WAYNE AVE W...|\n",
      "|7/1/2014|12:04:00 AM| 740 E 175TH ST T...|\n",
      "|7/1/2014|12:04:00 AM| 325 E 206TH ST W...|\n",
      "|7/1/2014|12:04:00 AM| 2384 HUGHES AVE ...|\n",
      "+--------+-----------+--------------------+\n",
      "only showing top 10 rows\n",
      "\n"
     ]
    }
   ],
   "source": [
    "from pyspark.sql.functions import upper, col\n",
    "fhv_test = fhv_test.withColumn(\"PICK_UP_ADDRESS\", upper(col(\"PICK_UP_ADDRESS\")))\n",
    "fhv_test.show(10)"
   ]
  },
  {
   "cell_type": "code",
   "execution_count": 10,
   "id": "86becce7",
   "metadata": {},
   "outputs": [
    {
     "name": "stdout",
     "output_type": "stream",
     "text": [
      "+--------+-----------+--------------------+\n",
      "|    DATE|       TIME|     PICK_UP_ADDRESS|\n",
      "+--------+-----------+--------------------+\n",
      "|7/1/2014|12:00:00 AM| 2557 MARION AVE ...|\n",
      "|7/1/2014|12:00:00 AM| 45 E MOSHOLU PKW...|\n",
      "|7/1/2014|12:00:00 AM| 458 E 143RD ST M...|\n",
      "|7/1/2014|12:02:00 AM|MINIVAN SUV 2557 ...|\n",
      "|7/1/2014|12:02:00 AM| 1117 WESTCHESTER...|\n",
      "|7/1/2014|12:02:00 AM| 250 BEDFORD PARK...|\n",
      "|7/1/2014|12:03:00 AM| 3450 WAYNE AVE W...|\n",
      "|7/1/2014|12:04:00 AM| 740 E 175TH ST T...|\n",
      "|7/1/2014|12:04:00 AM| 325 E 206TH ST W...|\n",
      "|7/1/2014|12:04:00 AM| 2384 HUGHES AVE ...|\n",
      "+--------+-----------+--------------------+\n",
      "only showing top 10 rows\n",
      "\n"
     ]
    },
    {
     "name": "stderr",
     "output_type": "stream",
     "text": [
      "[Stage 14:>                                                         (0 + 1) / 1]\r"
     ]
    },
    {
     "name": "stdout",
     "output_type": "stream",
     "text": [
      "+--------+-----------+---------------+\n",
      "|    DATE|       TIME|PICK_UP_ADDRESS|\n",
      "+--------+-----------+---------------+\n",
      "|7/1/2014|12:00:00 AM|        2MARION|\n",
      "|7/1/2014|12:00:00 AM|        MOSHOLU|\n",
      "|7/1/2014|12:00:00 AM|          143RD|\n",
      "|7/1/2014|12:02:00 AM|        MINIVAN|\n",
      "|7/1/2014|12:02:00 AM|   1WESTCHESTER|\n",
      "|7/1/2014|12:02:00 AM|        BEDFORD|\n",
      "|7/1/2014|12:03:00 AM|         3WAYNE|\n",
      "|7/1/2014|12:04:00 AM|          175TH|\n",
      "|7/1/2014|12:04:00 AM|          206TH|\n",
      "|7/1/2014|12:04:00 AM|        2HUGHES|\n",
      "+--------+-----------+---------------+\n",
      "only showing top 10 rows\n",
      "\n"
     ]
    },
    {
     "name": "stderr",
     "output_type": "stream",
     "text": [
      "                                                                                \r"
     ]
    }
   ],
   "source": [
    "from pyspark.sql.functions import udf, regexp_replace\n",
    "import re\n",
    "regex_udf = udf(lambda x: re.sub(r\"[\\d]{1,4}\\s\", \"\",re.sub(r\"\\sE\\s|\\sN\\s|\\sW\\s|\\sN\\s\", \" \", x)).split()[0].strip())\n",
    "fhv_test.show(10)\n",
    "fhv_test = fhv_test.withColumn(\"PICK_UP_ADDRESS\", regex_udf(col(\"PICK_UP_ADDRESS\")))\n",
    "fhv_test.show(10)"
   ]
  },
  {
   "cell_type": "markdown",
   "id": "7620f1f2",
   "metadata": {},
   "source": [
    "# Task 6"
   ]
  },
  {
   "cell_type": "code",
   "execution_count": 11,
   "id": "e3723aa2",
   "metadata": {
    "scrolled": true
   },
   "outputs": [
    {
     "name": "stderr",
     "output_type": "stream",
     "text": [
      "[Stage 17:>                                                         (0 + 1) / 1]\r"
     ]
    },
    {
     "name": "stdout",
     "output_type": "stream",
     "text": [
      "+---------------+-----+\n",
      "|PICK_UP_ADDRESS|count|\n",
      "+---------------+-----+\n",
      "|       3DECATUR| 2961|\n",
      "|          3HULL| 2334|\n",
      "|        MOSHOLU| 2207|\n",
      "|         3BRONX| 1782|\n",
      "|         CREDIT| 1746|\n",
      "|         3PERRY| 1515|\n",
      "|    3BAINBRIDGE| 1164|\n",
      "|    3ROCHAMBEAU| 1138|\n",
      "|         2BRONX| 1123|\n",
      "|       2WALLACE| 1114|\n",
      "|        2CRUGER|  938|\n",
      "|     2VALENTINE|  824|\n",
      "|        2BARNES|  822|\n",
      "|        2MARION|  821|\n",
      "|            GUN|  818|\n",
      "|           EAST|  761|\n",
      "|     3OLINVILLE|  753|\n",
      "|       2HOLLAND|  743|\n",
      "|         1BURKE|  706|\n",
      "|          205TH|  663|\n",
      "+---------------+-----+\n",
      "only showing top 20 rows\n",
      "\n"
     ]
    },
    {
     "name": "stderr",
     "output_type": "stream",
     "text": [
      "                                                                                \r"
     ]
    }
   ],
   "source": [
    "from pyspark.sql.functions import desc\n",
    "popular_streets = fhv_test.groupBy(\"PICK_UP_ADDRESS\").count().sort(desc(\"Count\"))\n",
    "popular_streets.show(20)"
   ]
  },
  {
   "cell_type": "code",
   "execution_count": 12,
   "id": "c84de982",
   "metadata": {},
   "outputs": [
    {
     "name": "stderr",
     "output_type": "stream",
     "text": [
      "                                                                                \r"
     ]
    },
    {
     "data": {
      "image/png": "[encoded data removed]",
      "text/plain": [
       "<Figure size 432x288 with 1 Axes>"
      ]
     },
     "metadata": {
      "needs_background": "light"
     },
     "output_type": "display_data"
    }
   ],
   "source": [
    "import matplotlib.pyplot as plt\n",
    "max_points = 30\n",
    "names = [row[0] for row in popular_streets.collect()][:max_points]\n",
    "counts = [row[1] for row in popular_streets.collect()][:max_points]\n",
    "plt.bar(range(max_points), counts, tick_label=names)\n",
    "\n",
    "plt.xticks(rotation=90)\n",
    "plt.show()"
   ]
  },
  {
   "cell_type": "markdown",
   "id": "c763ca9a",
   "metadata": {},
   "source": [
    "# Task 7"
   ]
  },
  {
   "cell_type": "code",
   "execution_count": 13,
   "id": "ef26d3a8",
   "metadata": {},
   "outputs": [
    {
     "name": "stdout",
     "output_type": "stream",
     "text": [
      "+-----------+-----+\n",
      "|       TIME|count|\n",
      "+-----------+-----+\n",
      "| 8:41:00 AM|  145|\n",
      "| 8:00:00 AM|  125|\n",
      "| 9:25:00 AM|  118|\n",
      "| 9:11:00 PM|  116|\n",
      "| 8:34:00 AM|  116|\n",
      "| 8:25:00 AM|  115|\n",
      "|11:12:00 PM|  115|\n",
      "| 8:37:00 AM|  113|\n",
      "| 8:07:00 AM|  112|\n",
      "| 8:30:00 AM|  111|\n",
      "| 7:47:00 AM|  111|\n",
      "| 8:26:00 AM|  110|\n",
      "| 8:43:00 AM|  109|\n",
      "| 8:48:00 AM|  109|\n",
      "| 9:26:00 PM|  109|\n",
      "| 7:50:00 AM|  108|\n",
      "| 9:21:00 PM|  108|\n",
      "| 7:31:00 AM|  108|\n",
      "| 9:32:00 AM|  107|\n",
      "| 8:33:00 AM|  107|\n",
      "| 8:27:00 AM|  107|\n",
      "| 9:50:00 AM|  106|\n",
      "| 8:45:00 AM|  106|\n",
      "| 9:15:00 PM|  106|\n",
      "|10:49:00 PM|  106|\n",
      "|11:04:00 AM|  105|\n",
      "| 7:48:00 AM|  105|\n",
      "|10:00:00 AM|  105|\n",
      "|11:02:00 PM|  105|\n",
      "| 7:55:00 AM|  105|\n",
      "+-----------+-----+\n",
      "only showing top 30 rows\n",
      "\n"
     ]
    }
   ],
   "source": [
    "popular_times = fhv_test.groupBy(\"TIME\").count().sort(desc(\"count\"))\n",
    "popular_times.show(30)"
   ]
  },
  {
   "cell_type": "code",
   "execution_count": 14,
   "id": "3347366c",
   "metadata": {
    "scrolled": true
   },
   "outputs": [
    {
     "name": "stderr",
     "output_type": "stream",
     "text": [
      "[Stage 43:>                                                         (0 + 1) / 1]\r"
     ]
    },
    {
     "name": "stdout",
     "output_type": "stream",
     "text": [
      "+-----+-----+\n",
      "| TIME|count|\n",
      "+-----+-----+\n",
      "|08:41|  145|\n",
      "|08:00|  125|\n",
      "|09:25|  118|\n",
      "|08:34|  116|\n",
      "|21:11|  116|\n",
      "|08:25|  115|\n",
      "|23:12|  115|\n",
      "|08:37|  113|\n",
      "|08:07|  112|\n",
      "|07:47|  111|\n",
      "+-----+-----+\n",
      "only showing top 10 rows\n",
      "\n"
     ]
    },
    {
     "name": "stderr",
     "output_type": "stream",
     "text": [
      "                                                                                \r"
     ]
    }
   ],
   "source": [
    "from pyspark.sql.functions import asc\n",
    "from datetime import datetime\n",
    "fmt = \"%I:%M:%S %p\"\n",
    "fmt2 = \"%H:%M\"\n",
    "def uniform_time(t):\n",
    "    dt = None\n",
    "    try:\n",
    "        dt = datetime.strptime(t, fmt)\n",
    "    except:\n",
    "        dt = datetime.strptime(t, fmt2)\n",
    "    return dt.strftime(\"%H:%M\")\n",
    "regex_udf = udf(lambda x: uniform_time(x))\n",
    "\n",
    "time_uniform = fhv_test.withColumn(\"TIME\", regex_udf(col(\"TIME\"))).groupBy(\"TIME\").count().sort(asc(\"TIME\"))\n",
    "time_uniform.show(10)"
   ]
  },
  {
   "cell_type": "code",
   "execution_count": 15,
   "id": "d03eed59",
   "metadata": {},
   "outputs": [
    {
     "data": {
      "image/png": "[encoded data removed]",
      "text/plain": [
       "<Figure size 2160x2160 with 1 Axes>"
      ]
     },
     "metadata": {
      "needs_background": "light"
     },
     "output_type": "display_data"
    }
   ],
   "source": [
    "import matplotlib.pyplot as plt\n",
    "names = [row[0] for row in time_uniform.collect()]\n",
    "counts = [row[1] for row in time_uniform.collect()]\n",
    "fig, ax = plt.subplots(figsize=(30,30))\n",
    "plt.bar(range(len(names)), counts, tick_label=names, width=1.0)\n",
    "\n",
    "plt.locator_params(axis=\"x\", nbins=48)\n",
    "plt.ylabel(\"Number of bookings\")\n",
    "plt.xlabel(\"Time in HH:MM\")\n",
    "plt.xticks(rotation=90)\n",
    "plt.show()"
   ]
  },
  {
   "cell_type": "code",
   "execution_count": 16,
   "id": "e9a8cfe0",
   "metadata": {
    "scrolled": true
   },
   "outputs": [
    {
     "name": "stdout",
     "output_type": "stream",
     "text": [
      "+--------+-----------+---------------+\n",
      "|    DATE|       TIME|PICK_UP_ADDRESS|\n",
      "+--------+-----------+---------------+\n",
      "|7/1/2014|12:00:00 AM|        2MARION|\n",
      "|7/1/2014|12:00:00 AM|        MOSHOLU|\n",
      "|7/1/2014|12:00:00 AM|          143RD|\n",
      "|7/1/2014|12:02:00 AM|        MINIVAN|\n",
      "|7/1/2014|12:02:00 AM|   1WESTCHESTER|\n",
      "|7/1/2014|12:02:00 AM|        BEDFORD|\n",
      "|7/1/2014|12:03:00 AM|         3WAYNE|\n",
      "|7/1/2014|12:04:00 AM|          175TH|\n",
      "|7/1/2014|12:04:00 AM|          206TH|\n",
      "|7/1/2014|12:04:00 AM|        2HUGHES|\n",
      "+--------+-----------+---------------+\n",
      "only showing top 10 rows\n",
      "\n",
      "+--------+-----+---------------+\n",
      "|    DATE| TIME|PICK_UP_ADDRESS|\n",
      "+--------+-----+---------------+\n",
      "|7/1/2014|12:00|        2MARION|\n",
      "|7/1/2014|12:00|        MOSHOLU|\n",
      "|7/1/2014|12:00|          143RD|\n",
      "|7/1/2014|12:00|        MINIVAN|\n",
      "|7/1/2014|12:00|   1WESTCHESTER|\n",
      "|7/1/2014|12:00|        BEDFORD|\n",
      "|7/1/2014|12:00|         3WAYNE|\n",
      "|7/1/2014|12:00|          175TH|\n",
      "|7/1/2014|12:00|          206TH|\n",
      "|7/1/2014|12:00|        2HUGHES|\n",
      "+--------+-----+---------------+\n",
      "only showing top 10 rows\n",
      "\n"
     ]
    }
   ],
   "source": [
    "from datetime import datetime\n",
    "fmt = \"%I:%M:%S %p\"\n",
    "fmt2 = \"%H:%M\"\n",
    "\n",
    "def round_time(t):\n",
    "    dt = None\n",
    "    try:\n",
    "        dt = datetime.strptime(t, fmt)\n",
    "    except:\n",
    "        dt = datetime.strptime(t, fmt2)\n",
    "    dt = dt.replace(minute=dt.minute//5*5)\n",
    "    return dt.strftime(\"%H:%M\")\n",
    "regex_udf = udf(lambda x: round_time(x))\n",
    "fhv_test.show(10)\n",
    "time_trunc = fhv_test.withColumn(\"TIME\", regex_udf(col(\"TIME\")))\n",
    "time_trunc.show(10)"
   ]
  },
  {
   "cell_type": "code",
   "execution_count": 17,
   "id": "4148c6ba",
   "metadata": {},
   "outputs": [
    {
     "name": "stderr",
     "output_type": "stream",
     "text": [
      "[Stage 72:>                                                         (0 + 1) / 1]\r"
     ]
    },
    {
     "name": "stdout",
     "output_type": "stream",
     "text": [
      "+-----+-----+\n",
      "| TIME|count|\n",
      "+-----+-----+\n",
      "|08:40|  556|\n",
      "|08:30|  516|\n",
      "|08:25|  505|\n",
      "|07:45|  504|\n",
      "|08:45|  504|\n",
      "|08:50|  500|\n",
      "|23:10|  487|\n",
      "|22:25|  487|\n",
      "|07:50|  487|\n",
      "|09:30|  486|\n",
      "|08:35|  485|\n",
      "|08:20|  484|\n",
      "|09:00|  479|\n",
      "|22:35|  472|\n",
      "|09:20|  469|\n",
      "|09:45|  469|\n",
      "|08:00|  469|\n",
      "|08:05|  462|\n",
      "|07:40|  459|\n",
      "|21:25|  459|\n",
      "+-----+-----+\n",
      "only showing top 20 rows\n",
      "\n"
     ]
    },
    {
     "name": "stderr",
     "output_type": "stream",
     "text": [
      "                                                                                \r"
     ]
    }
   ],
   "source": [
    "popular_times_trunced = time_trunc.groupBy(\"TIME\").count().sort(asc(\"TIME\"))\n",
    "popular_times_trunced.show(20)"
   ]
  },
  {
   "cell_type": "code",
   "execution_count": 18,
   "id": "717b80d8",
   "metadata": {},
   "outputs": [
    {
     "name": "stderr",
     "output_type": "stream",
     "text": [
      "                                                                                \r"
     ]
    },
    {
     "data": {
      "image/png": "[encoded data removed]",
      "text/plain": [
       "<Figure size 2160x2160 with 1 Axes>"
      ]
     },
     "metadata": {
      "needs_background": "light"
     },
     "output_type": "display_data"
    }
   ],
   "source": [
    "import matplotlib.pyplot as plt\n",
    "names = [row[0] for row in popular_times_trunced.collect()]\n",
    "counts = [row[1] for row in popular_times_trunced.collect()]\n",
    "plt.subplots(figsize=(30,30))\n",
    "plt.bar(range(len(names)), counts, tick_label=names, width=1.0)\n",
    "\n",
    "plt.locator_params(axis=\"x\", nbins=48)\n",
    "plt.ylabel(\"Number of bookings\")\n",
    "plt.xlabel(\"Time in HH:MM\")\n",
    "plt.xticks(rotation=90)\n",
    "plt.show()"
   ]
  },
  {
   "cell_type": "markdown",
   "id": "4918e69d",
   "metadata": {},
   "source": [
    "# Task 8"
   ]
  },
  {
   "cell_type": "markdown",
   "id": "ae2ff35d",
   "metadata": {},
   "source": [
    "#### Most frequent address for each company"
   ]
  },
  {
   "cell_type": "code",
   "execution_count": 19,
   "id": "7c457125",
   "metadata": {},
   "outputs": [],
   "source": [
    "from pyspark.sql.functions import col, regexp_replace\n",
    "\n",
    "def find_most_frequent_address(one_company):\n",
    "    adr = one_company.select(['PICK_UP_ADDRESS'])\n",
    "    adr = adr.groupBy(\"PICK_UP_ADDRESS\") \\\n",
    "                .count().sort(col(\"count\").desc())\n",
    "    adr = adr.filter(adr.PICK_UP_ADDRESS != '                    ')\n",
    "    adr = adr.filter(adr.PICK_UP_ADDRESS != '                                ')\n",
    "    return (adr)"
   ]
  },
  {
   "cell_type": "code",
   "execution_count": 20,
   "id": "0b210b9e",
   "metadata": {},
   "outputs": [
    {
     "name": "stdout",
     "output_type": "stream",
     "text": [
      "American_B01362.parquet: Row(PICK_UP_ADDRESS=' 400 Brook Ave Mott Haven, BX', count=1216)\n",
      "Carmel_B00256.parquet: Row(PICK_UP_ADDRESS='JFK', count=28179)\n",
      "Dial7_B00887.parquet: Row(PICK_UP_ADDRESS='BROADWAY            ', count=3888)\n",
      "Diplo_B01196.parquet: Row(PICK_UP_ADDRESS='BASE 170 W Fordham Rd Jerome, BX', count=3293)\n",
      "Federal_02216.parquet: Row(PICK_UP_ADDRESS='607 20 St., BK NY; DO: John F Kennedy International Airport; ', count=3)\n",
      "Firstclass_B01536.parquet: Row(PICK_UP_ADDRESS='base 4980 Broadway NYC', count=3137)\n",
      "Highclass_B01717.parquet: Row(PICK_UP_ADDRESS=' 268 W Fordham Rd Jerome, BX', count=1506)\n",
      "Skyline_B00111.parquet: Row(PICK_UP_ADDRESS='    1345 SIXTH AV               ', count=1768)\n",
      "Prestige_B01338.parquet: Row(PICK_UP_ADDRESS='PRESTIGE #1 3108 Webster Ave Bronx', count=2051)\n"
     ]
    }
   ],
   "source": [
    "limo_companies = ['American_B01362.parquet', 'Carmel_B00256.parquet', 'Dial7_B00887.parquet', 'Diplo_B01196.parquet', 'Federal_02216.parquet', 'Firstclass_B01536.parquet', 'Highclass_B01717.parquet', 'Skyline_B00111.parquet', 'Prestige_B01338.parquet']\n",
    "\n",
    "if server_mode:\n",
    "    path = 'hdfs://192.168.2.74:9000/user/ubuntu/uber-tlc-foil-response/other-FHV-data'\n",
    "else:\n",
    "    path = os.getcwd() + '/DATA/'\n",
    "\n",
    "most_freq_dict = {}\n",
    "for lim in limo_companies:\n",
    "    FHV_file = path+lim\n",
    "    one_limo_comp = spark_session.read.parquet(FHV_file)\n",
    "    tmp5 = find_most_frequent_address(one_limo_comp).collect()[0]\n",
    "\n",
    "    a_key = [tmp5['PICK_UP_ADDRESS'] for x in tmp5]\n",
    "    a_value = [tmp5['count'] for x in tmp5]\n",
    "    most_freq_dict[a_key[0]] = a_value[0]\n",
    "    print(f'{lim}: {tmp5}')"
   ]
  },
  {
   "cell_type": "code",
   "execution_count": 21,
   "id": "dd70a93e",
   "metadata": {},
   "outputs": [
    {
     "data": {
      "image/png": "[encoded data removed]",
      "text/plain": [
       "<Figure size 432x288 with 1 Axes>"
      ]
     },
     "metadata": {
      "needs_background": "light"
     },
     "output_type": "display_data"
    }
   ],
   "source": [
    "import matplotlib.pyplot as plt\n",
    "\n",
    "names = list(most_freq_dict.keys())\n",
    "values = list(most_freq_dict.values())\n",
    "plt.bar(range(len(most_freq_dict)), values, tick_label=names)\n",
    "\n",
    "plt.xticks(rotation=90)\n",
    "plt.show()"
   ]
  },
  {
   "cell_type": "markdown",
   "id": "d4bfcb84",
   "metadata": {},
   "source": [
    "# Task 9"
   ]
  },
  {
   "cell_type": "markdown",
   "id": "14d1f93b",
   "metadata": {},
   "source": [
    "### Prepration for Scalability"
   ]
  },
  {
   "cell_type": "code",
   "execution_count": 22,
   "id": "8640c311",
   "metadata": {},
   "outputs": [],
   "source": [
    "def bigger_data_frame(any_data_frame, nbr):\n",
    "    tmp = any_data_frame\n",
    "    print(tmp.count())\n",
    "    for i in range(nbr-1):\n",
    "        tmp = tmp.union(any_data_frame)\n",
    "    print(tmp.count())\n",
    "    return tmp"
   ]
  },
  {
   "cell_type": "code",
   "execution_count": 26,
   "id": "98c2cb08",
   "metadata": {},
   "outputs": [],
   "source": [
    "if server_mode:\n",
    "    path = 'hdfs://192.168.2.74:9000/user/ubuntu/uber-tlc-foil-response/'\n",
    "else:\n",
    "    path = os.getcwd() + '/DATA/'\n",
    "\n",
    "path = path + 'uber-trip-datauber_raw_data.parquet'\n",
    "uber_raw_data_read_test = spark_session.read.parquet(path)"
   ]
  },
  {
   "cell_type": "code",
   "execution_count": null,
   "id": "b76abcbe-6c00-478b-8304-31cffc74f7ef",
   "metadata": {},
   "outputs": [],
   "source": []
  },
  {
   "cell_type": "code",
   "execution_count": 27,
   "id": "a28e9b94",
   "metadata": {},
   "outputs": [
    {
     "name": "stdout",
     "output_type": "stream",
     "text": [
      "4534327\n",
      "9068654\n",
      "---\n",
      "1409080\n",
      "2818160\n"
     ]
    }
   ],
   "source": [
    "scale_2_uber = bigger_data_frame(uber_raw_data_read_test, 2)\n",
    "print(\"---\")\n",
    "scale_2_FHV = bigger_data_frame(FHV_10_companies_data, 2)"
   ]
  },
  {
   "cell_type": "code",
   "execution_count": 28,
   "id": "9f68cc73",
   "metadata": {},
   "outputs": [
    {
     "name": "stderr",
     "output_type": "stream",
     "text": [
      "                                                                                \r"
     ]
    }
   ],
   "source": [
    "##### To save the scaled UBER file\n",
    "if server_mode:\n",
    "    path = 'hdfs://192.168.2.74:9000/user/ubuntu/uber-tlc-foil-response/uber-trip-data'\n",
    "else:\n",
    "    path = os.getcwd() + '/DATA/'\n",
    "\n",
    "scale_2_file = path+\"scale_2_UBER.parquet\"\n",
    "scale_2_uber.write.mode(\"overwrite\").parquet(scale_2_file)"
   ]
  },
  {
   "cell_type": "code",
   "execution_count": 29,
   "id": "b9c4647d",
   "metadata": {},
   "outputs": [
    {
     "name": "stderr",
     "output_type": "stream",
     "text": [
      "                                                                                \r"
     ]
    }
   ],
   "source": [
    "##### To save the scaled FHV file\n",
    "if server_mode:\n",
    "    path = 'hdfs://192.168.2.74:9000/user/ubuntu/uber-tlc-foil-response/other-FHV-data'\n",
    "else:\n",
    "    path = os.getcwd() + '/DATA/'\n",
    "\n",
    "scale_2_file = path+\"scale_2_FHV.parquet\"\n",
    "scale_2_FHV.write.mode(\"overwrite\").parquet(scale_2_file)"
   ]
  },
  {
   "cell_type": "code",
   "execution_count": 30,
   "id": "7d35e77c",
   "metadata": {},
   "outputs": [
    {
     "name": "stdout",
     "output_type": "stream",
     "text": [
      "4534327\n"
     ]
    },
    {
     "name": "stderr",
     "output_type": "stream",
     "text": [
      "                                                                                \r"
     ]
    },
    {
     "name": "stdout",
     "output_type": "stream",
     "text": [
      "13602981\n",
      "---\n",
      "1409080\n",
      "4227240\n"
     ]
    }
   ],
   "source": [
    "scale_3_uber = bigger_data_frame(uber_raw_data_read_test, 3)\n",
    "print(\"---\")\n",
    "scale_3_FHV = bigger_data_frame(FHV_10_companies_data, 3)"
   ]
  },
  {
   "cell_type": "code",
   "execution_count": 31,
   "id": "d14a2f4c",
   "metadata": {},
   "outputs": [
    {
     "name": "stderr",
     "output_type": "stream",
     "text": [
      "                                                                                \r"
     ]
    }
   ],
   "source": [
    "##### To save the scaled UBER file\n",
    "if server_mode:\n",
    "    path = 'hdfs://192.168.2.74:9000/user/ubuntu/uber-tlc-foil-response/uber-trip-data'\n",
    "else:\n",
    "    path = os.getcwd() + '/DATA/'\n",
    "\n",
    "scale_3_file = path+\"scale_3_UBER.parquet\"\n",
    "scale_3_uber.write.mode(\"overwrite\").parquet(scale_3_file)"
   ]
  },
  {
   "cell_type": "code",
   "execution_count": 32,
   "id": "21b7e0d5",
   "metadata": {},
   "outputs": [
    {
     "name": "stderr",
     "output_type": "stream",
     "text": [
      "                                                                                \r"
     ]
    }
   ],
   "source": [
    "##### To save the scaled FHV file\n",
    "if server_mode:\n",
    "    path = 'hdfs://192.168.2.74:9000/user/ubuntu/uber-tlc-foil-response/other-FHV-data'\n",
    "else:\n",
    "    path = os.getcwd() + '/DATA/'\n",
    "\n",
    "scale_3_file = path+\"scale_3_FHV.parquet\"\n",
    "scale_3_FHV.write.mode(\"overwrite\").parquet(scale_3_file)"
   ]
  },
  {
   "cell_type": "code",
   "execution_count": 33,
   "id": "1097b431",
   "metadata": {},
   "outputs": [],
   "source": [
    "# a SIMPLE test, to be ready for scalability\n",
    "# (Count all words in Pick_UP_ADDRESS for all companies)\n",
    "import time\n",
    "import pyspark.sql.functions as f\n",
    "start_time = time.time()\n",
    "def count_all_words_FHV(a_dataframe):\n",
    "    a_dataframe = a_dataframe.withColumn\\\n",
    "        ('wordCount', f.size(f.split(f.col('PICK_UP_ADDRESS'), ' ')))\n",
    "    \n",
    "    print(f\"All number of words: {a_dataframe.select(f.sum('wordCount')).collect()}\")\n",
    "    word_counts = a_dataframe.withColumn('Word', f.explode(\\\n",
    "            f.split(f.col('PICK_UP_ADDRESS'), ' ')))\\\n",
    "            .groupBy('Word').count()\\\n",
    "            .sort('count', ascending=False)\n",
    "\n",
    "    word_counts = word_counts.filter(word_counts.Word != '')\n",
    "    word_counts.show(10)\n",
    "    \n",
    "    print(f'{round(time.time() - start_time, 2)} seconds!')"
   ]
  },
  {
   "cell_type": "code",
   "execution_count": 34,
   "id": "4cff59a1",
   "metadata": {},
   "outputs": [
    {
     "name": "stderr",
     "output_type": "stream",
     "text": [
      "                                                                                \r"
     ]
    },
    {
     "name": "stdout",
     "output_type": "stream",
     "text": [
      "All number of words: [Row(sum(wordCount)=12409597)]\n"
     ]
    },
    {
     "name": "stderr",
     "output_type": "stream",
     "text": [
      "[Stage 207:=============================================>           (4 + 1) / 5]\r"
     ]
    },
    {
     "name": "stdout",
     "output_type": "stream",
     "text": [
      "+---------------+------+\n",
      "|           Word| count|\n",
      "+---------------+------+\n",
      "|             BX|608765|\n",
      "|            AVE|529908|\n",
      "|             ST|450305|\n",
      "|            NYC|264768|\n",
      "|              E|235173|\n",
      "|              W|162409|\n",
      "|WILLIAMSBRIDGE,|112728|\n",
      "|          BRONX| 99491|\n",
      "|        JEROME,| 73960|\n",
      "|         MORRIS| 71255|\n",
      "+---------------+------+\n",
      "only showing top 10 rows\n",
      "\n",
      "4.25 seconds!\n"
     ]
    },
    {
     "name": "stderr",
     "output_type": "stream",
     "text": [
      "                                                                                \r"
     ]
    }
   ],
   "source": [
    "count_all_words_FHV(FHV_10_companies_data)"
   ]
  },
  {
   "cell_type": "code",
   "execution_count": null,
   "id": "bacf0dd8",
   "metadata": {},
   "outputs": [],
   "source": [
    "spark_context.stop()\n",
    "print(\"Spark closed!\")"
   ]
  },
  {
   "cell_type": "code",
   "execution_count": null,
   "id": "9c541eae",
   "metadata": {},
   "outputs": [],
   "source": []
  }
 ],
 "metadata": {
  "kernelspec": {
   "display_name": "Python 3 (ipykernel)",
   "language": "python",
   "name": "python3"
  },
  "language_info": {
   "codemirror_mode": {
    "name": "ipython",
    "version": 3
   },
   "file_extension": ".py",
   "mimetype": "text/x-python",
   "name": "python",
   "nbconvert_exporter": "python",
   "pygments_lexer": "ipython3",
   "version": "3.8.10"
  },
  "varInspector": {
   "cols": {
    "lenName": 16,
    "lenType": 16,
    "lenVar": 40
   },
   "kernels_config": {
    "python": {
     "delete_cmd_postfix": "",
     "delete_cmd_prefix": "del ",
     "library": "var_list.py",
     "varRefreshCmd": "print(var_dic_list())"
    },
    "r": {
     "delete_cmd_postfix": ") ",
     "delete_cmd_prefix": "rm(",
     "library": "var_list.r",
     "varRefreshCmd": "cat(var_dic_list()) "
    }
   },
   "types_to_exclude": [
    "module",
    "function",
    "builtin_function_or_method",
    "instance",
    "_Feature"
   ],
   "window_display": false
  }
 },
 "nbformat": 4,
 "nbformat_minor": 5
}
