{
 "cells": [
  {
   "cell_type": "code",
   "execution_count": 1,
   "id": "a97c6bf2-decf-47be-ba0d-1f774298ef7d",
   "metadata": {},
   "outputs": [],
   "source": [
    "from pyspark.sql import SparkSession\n",
    "from pyspark.sql.functions import col\n",
    "import geopandas as gpd\n",
    "import matplotlib.pyplot as plt\n",
    "from shapely.geometry import Point\n",
    "import pandas as pd\n",
    "from pyspark.sql.functions import col"
   ]
  },
  {
   "cell_type": "code",
   "execution_count": 2,
   "id": "96c19d37",
   "metadata": {},
   "outputs": [
    {
     "name": "stderr",
     "output_type": "stream",
     "text": [
      "Using Spark's default log4j profile: org/apache/spark/log4j-defaults.properties\n",
      "Setting default log level to \"WARN\".\n",
      "To adjust logging level use sc.setLogLevel(newLevel). For SparkR, use setLogLevel(newLevel).\n",
      "22/03/15 15:07:08 WARN NativeCodeLoader: Unable to load native-hadoop library for your platform... using builtin-java classes where applicable\n"
     ]
    }
   ],
   "source": [
    "spark_session = SparkSession.builder.appName('Project_G1').getOrCreate()\n",
    "spark_context = spark_session.sparkContext\n",
    "spark_context.setLogLevel(\"ERROR\")"
   ]
  },
  {
   "cell_type": "code",
   "execution_count": 3,
   "id": "58f6d76b-7cb8-40e4-92bd-5d1ec8397d6e",
   "metadata": {},
   "outputs": [
    {
     "data": {
      "text/plain": [
       "'\\nspark_session = SparkSession        .builder        .master(\"spark://192.168.2.74:7077\")         .appName(\"david_task\")        .config(\"spark.dynamicAllocation.enabled\", True)        .config(\"spark.dynamicAllocation.shuffleTracking.enabled\",True)        .config(\"spark.shuffle.service.enabled\", False)        .config(\"spark.executor.cores\",4)        .config(\"spark.driver.port\",9998)        .config(\"spark.blockManager.port\",10005)        .getOrCreate()\\n\\nspark_context = spark_session.sparkContext\\n\\nspark_context.setLogLevel(\"ERROR\")\\n'"
      ]
     },
     "execution_count": 3,
     "metadata": {},
     "output_type": "execute_result"
    }
   ],
   "source": [
    "\"\"\"\n",
    "spark_session = SparkSession\\\n",
    "        .builder\\\n",
    "        .master(\"spark://192.168.2.74:7077\") \\\n",
    "        .appName(\"david_task\")\\\n",
    "        .config(\"spark.dynamicAllocation.enabled\", True)\\\n",
    "        .config(\"spark.dynamicAllocation.shuffleTracking.enabled\",True)\\\n",
    "        .config(\"spark.shuffle.service.enabled\", False)\\\n",
    "        .config(\"spark.executor.cores\",4)\\\n",
    "        .config(\"spark.driver.port\",9998)\\\n",
    "        .config(\"spark.blockManager.port\",10005)\\\n",
    "        .getOrCreate()\n",
    "\n",
    "spark_context = spark_session.sparkContext\n",
    "\n",
    "spark_context.setLogLevel(\"ERROR\")\n",
    "\"\"\""
   ]
  },
  {
   "cell_type": "code",
   "execution_count": 4,
   "id": "a69c50d0-c136-4fb9-b18b-6b77aedced45",
   "metadata": {},
   "outputs": [
    {
     "name": "stderr",
     "output_type": "stream",
     "text": [
      "                                                                                \r"
     ]
    }
   ],
   "source": [
    "uber_data_janJune = spark_session.read.option(\"header\",\"true\").csv('hdfs://192.168.2.74:9000/user/ubuntu/uber-tlc-foil-response/uber-trip-data/uber-raw-data-janjune-15.csv')\n",
    "zones = spark_session.read.option(\"header\",\"true\").csv('hdfs://192.168.2.74:9000/user/ubuntu/uber-tlc-foil-response/uber-trip-data/taxi-zone-lookup.csv')\n",
    "uber_data_may = spark_session.read.option(\"header\",\"true\").csv('hdfs://192.168.2.74:9000/user/ubuntu/uber-tlc-foil-response/uber-trip-data/uber-raw-data-may14.csv')"
   ]
  },
  {
   "cell_type": "code",
   "execution_count": 5,
   "id": "7f23f832-e64e-4775-8a6b-db4b23098a93",
   "metadata": {},
   "outputs": [
    {
     "name": "stderr",
     "output_type": "stream",
     "text": [
      "                                                                                \r"
     ]
    }
   ],
   "source": [
    "uber_data_may_rdd = uber_data_may.rdd\n",
    "#filter outliers far away from NYC\n",
    "x = uber_data_may_rdd.filter(lambda x: (-74.2619 < float(x[\"Lon\"]) < -73.7) \n",
    "                                                      and (40.4877 < float(x[\"Lat\"]) < 40.9478))\\\n",
    "                                            .filter(lambda x: x[\"Date/Time\"].split(\" \")[0] == \"5/1/2014\")\n",
    "uber_data_may = x.toDF()"
   ]
  },
  {
   "cell_type": "markdown",
   "id": "7efa948c-e620-46fb-bec1-6fb2269c0c47",
   "metadata": {},
   "source": [
    "# Find most popular companies"
   ]
  },
  {
   "cell_type": "code",
   "execution_count": 6,
   "id": "66b8ddc4-e6c3-48d7-bf5c-1774bb6513c6",
   "metadata": {},
   "outputs": [],
   "source": [
    "comp_map = {\"B02512\": \"Unter\", \"B02598\": \"Hinter\", \"B02617\": \"Weiter\", \"B02682\": \"Schmecken\", \n",
    "            \"B02764\": \"Danach-NY\", \"B02765\": \"Grun\", \"B02835\": \"Dreist\", \"B02836\": \"Drinnen\"}"
   ]
  },
  {
   "cell_type": "code",
   "execution_count": 7,
   "id": "e2baaa35-ea0f-4d4a-83e7-559ac4b5534a",
   "metadata": {},
   "outputs": [],
   "source": [
    "comp_popularity = uber_data_janJune.groupby(\"Dispatching_base_num\").count().sort(col(\"count\").desc())"
   ]
  },
  {
   "cell_type": "code",
   "execution_count": null,
   "id": "9533432b-2d02-4cfb-ade9-c63de1ac3f2c",
   "metadata": {},
   "outputs": [
    {
     "name": "stderr",
     "output_type": "stream",
     "text": [
      "[Stage 4:>                                                          (0 + 1) / 5]\r"
     ]
    }
   ],
   "source": [
    "comp_popularity = comp_popularity.rdd.map(lambda x: (comp_map[x[0]], x[1])).toDF([\"company\", \"occurences\"])"
   ]
  },
  {
   "cell_type": "code",
   "execution_count": null,
   "id": "3c020b47-c04b-4ab1-a62f-35ea81471733",
   "metadata": {},
   "outputs": [],
   "source": [
    "comp_popularity.toPandas().to_csv('results/company_popularity_janjune.csv')"
   ]
  },
  {
   "cell_type": "markdown",
   "id": "a456eba2-9a04-4873-9574-0d3a7c3ff1b5",
   "metadata": {},
   "source": [
    "# Show location points on the map"
   ]
  },
  {
   "cell_type": "code",
   "execution_count": null,
   "id": "fefb5976-85fa-4592-901f-22dd0c936f15",
   "metadata": {},
   "outputs": [],
   "source": [
    "nyc_map = gpd.read_file(\"map/geo_export_c068bb1b-a507-41bc-b2bd-e88bf0d0f649.shp\")\n",
    "# source: https://data.cityofnewyork.us/"
   ]
  },
  {
   "cell_type": "code",
   "execution_count": null,
   "id": "7bd6d384-6d0c-4332-b371-dab925b91e64",
   "metadata": {},
   "outputs": [],
   "source": [
    "# Generate Geo Dataframe\n",
    "crs =  {\"init\": \"epsg:4326\"}\n",
    "loc = [Point((float(row['Lon']),float(row['Lat']))) for row in uber_data_may.collect()]\n",
    "base = uber_data_may[[\"Base\"]].toPandas()\n",
    "geo_df = gpd.GeoDataFrame(base,crs=crs, geometry=loc)"
   ]
  },
  {
   "cell_type": "code",
   "execution_count": null,
   "id": "8d5e955c-476e-4ff2-8725-1ede850a5174",
   "metadata": {},
   "outputs": [],
   "source": [
    "colors = [\"black\", \"brown\", \"yellow\", \"purple\", \"red\",\"blue\", \"green\", \"orange\"]\n",
    "existing_base_values = geo_df[\"Base\"].unique()"
   ]
  },
  {
   "cell_type": "code",
   "execution_count": null,
   "id": "8cccee50-5a4d-4f01-9b07-562bf765f6d4",
   "metadata": {},
   "outputs": [],
   "source": [
    "fig, ax = plt.subplots(figsize=(20,20))\n",
    "nyc_map.plot(ax=ax, alpha=0.1)\n",
    "\n",
    "for b in existing_base_values:\n",
    "    geo_df[geo_df[\"Base\"] == b].plot(ax=ax,markersize=1, color=colors.pop(), label=comp_map[b], alpha=0.5)\n",
    "\n",
    "plt.legend(prop={'size': 15})\n",
    "#plt.savefig(\"results/locations.png\")"
   ]
  },
  {
   "cell_type": "markdown",
   "id": "399e00f1-7f41-48f4-8cfd-b6aaf8d27498",
   "metadata": {},
   "source": [
    "# Company distribution within boroughs"
   ]
  },
  {
   "cell_type": "code",
   "execution_count": null,
   "id": "ae508b08-f758-43d4-b92c-30f4cedf1c92",
   "metadata": {},
   "outputs": [],
   "source": [
    "base_boroughs = uber_data_janJune.join(zones, uber_data_janJune.locationID == zones.LocationID)\\\n",
    "                                            .select(uber_data_janJune.Dispatching_base_num, zones.Borough)"
   ]
  },
  {
   "cell_type": "code",
   "execution_count": null,
   "id": "885ed5aa-1dd1-4296-adc2-65fcd0753abe",
   "metadata": {},
   "outputs": [],
   "source": [
    "base_boroughs = base_boroughs.rdd.map(lambda x: (comp_map[x[\"Dispatching_base_num\"]], x[\"Borough\"]))\\\n",
    "                                                                                .toDF([\"base\",\"borough\"])"
   ]
  },
  {
   "cell_type": "code",
   "execution_count": null,
   "id": "dba2b8ed-efc0-49e3-935e-2051a5fccfbb",
   "metadata": {},
   "outputs": [],
   "source": [
    "boroughs = zones.select(\"Borough\").distinct().collect()"
   ]
  },
  {
   "cell_type": "code",
   "execution_count": null,
   "id": "51544521-7c26-4ced-9df3-706467d442c1",
   "metadata": {},
   "outputs": [],
   "source": [
    "grouped_boroughs = base_boroughs.groupBy(\"borough\",\"base\").count().collect()"
   ]
  },
  {
   "cell_type": "code",
   "execution_count": null,
   "id": "c852fb64-3690-4adb-8493-127307106f70",
   "metadata": {},
   "outputs": [],
   "source": [
    "for b in boroughs:\n",
    "    filtered = grouped_boroughs.filter(b[\"Borough\"] == grouped_boroughs.borough)\n",
    "    occ = []\n",
    "    comp = []\n",
    "    for row in filtered:\n",
    "        occ.append(row[\"count\"])\n",
    "        comp.append(row[\"base\"])\n",
    "    plt.pie(occ, labels=comp)\n",
    "    plt.title(b[\"Borough\"])\n",
    "    plt.show()"
   ]
  },
  {
   "cell_type": "code",
   "execution_count": null,
   "id": "35b8c6c9-025c-4cfd-98fe-e6ce2b03c4c7",
   "metadata": {},
   "outputs": [],
   "source": []
  }
 ],
 "metadata": {
  "kernelspec": {
   "display_name": "Python 3 (ipykernel)",
   "language": "python",
   "name": "python3"
  },
  "language_info": {
   "codemirror_mode": {
    "name": "ipython",
    "version": 3
   },
   "file_extension": ".py",
   "mimetype": "text/x-python",
   "name": "python",
   "nbconvert_exporter": "python",
   "pygments_lexer": "ipython3",
   "version": "3.8.10"
  }
 },
 "nbformat": 4,
 "nbformat_minor": 5
}
