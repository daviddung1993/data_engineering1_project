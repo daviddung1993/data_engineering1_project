{
 "cells": [
  {
   "cell_type": "markdown",
   "id": "06fb3c30",
   "metadata": {},
   "source": [
    "## Project Group 1; Naeim's crude code"
   ]
  },
  {
   "cell_type": "markdown",
   "id": "48834a48",
   "metadata": {},
   "source": [
    "### Setting up a Spark Session to work with structured data"
   ]
  },
  {
   "cell_type": "code",
   "execution_count": 1,
   "id": "66f36790",
   "metadata": {},
   "outputs": [],
   "source": [
    "from pyspark.sql import SparkSession\n",
    "# import pandas as pd"
   ]
  },
  {
   "cell_type": "code",
   "execution_count": 2,
   "id": "1969b747",
   "metadata": {},
   "outputs": [],
   "source": [
    "# To run the code on local machine or on server\n",
    "server_mode = False"
   ]
  },
  {
   "cell_type": "code",
   "execution_count": 3,
   "id": "34bce2fa",
   "metadata": {},
   "outputs": [
    {
     "name": "stderr",
     "output_type": "stream",
     "text": [
      "22/03/16 00:15:01 WARN Utils: Your hostname, nanook resolves to a loopback address: 127.0.1.1; using 192.168.1.69 instead (on interface enp5s0)\n",
      "22/03/16 00:15:01 WARN Utils: Set SPARK_LOCAL_IP if you need to bind to another address\n",
      "WARNING: An illegal reflective access operation has occurred\n",
      "WARNING: Illegal reflective access by org.apache.spark.unsafe.Platform (file:/home/naeim/anaconda3/lib/python3.8/site-packages/pyspark/jars/spark-unsafe_2.12-3.2.1.jar) to constructor java.nio.DirectByteBuffer(long,int)\n",
      "WARNING: Please consider reporting this to the maintainers of org.apache.spark.unsafe.Platform\n",
      "WARNING: Use --illegal-access=warn to enable warnings of further illegal reflective access operations\n",
      "WARNING: All illegal access operations will be denied in a future release\n",
      "Using Spark's default log4j profile: org/apache/spark/log4j-defaults.properties\n",
      "Setting default log level to \"WARN\".\n",
      "To adjust logging level use sc.setLogLevel(newLevel). For SparkR, use setLogLevel(newLevel).\n",
      "22/03/16 00:15:02 WARN NativeCodeLoader: Unable to load native-hadoop library for your platform... using builtin-java classes where applicable\n"
     ]
    }
   ],
   "source": [
    "if server_mode:\n",
    "    #New API\n",
    "    spark_session = SparkSession\\\n",
    "            .builder\\\n",
    "            .master(\"spark://192.168.2.74:7077\") \\\n",
    "            .appName(\"Project_G1_Naeim\")\\\n",
    "            .config(\"spark.dynamicAllocation.enabled\", True)\\\n",
    "            .config(\"spark.dynamicAllocation.shuffleTracking.enabled\",True)\\\n",
    "            .config(\"spark.shuffle.service.enabled\", False)\\\n",
    "            .config(\"spark.dynamicAllocation.executorIdleTimeout\",\"300s\")\\\n",
    "            .config(\"spark.executor.cores\",1)\\\n",
    "            .config(\"spark.driver.port\",9998)\\\n",
    "            .config(\"spark.blockManager.port\",10005)\\\n",
    "            .getOrCreate()\n",
    "\n",
    "    # Old API (RDD)\n",
    "    spark_context = spark_session.sparkContext\n",
    "    spark_context.setLogLevel(\"ERROR\")\n",
    "    # spark_context.setLogLevel(\"INFO\")\n",
    "    \n",
    "else:\n",
    "    # local version, deactivate later!\n",
    "    spark_session = SparkSession.builder.appName('Project_G1').getOrCreate()"
   ]
  },
  {
   "cell_type": "code",
   "execution_count": 4,
   "id": "07711204",
   "metadata": {},
   "outputs": [
    {
     "data": {
      "text/html": [
       "\n",
       "            <div>\n",
       "                <p><b>SparkSession - in-memory</b></p>\n",
       "                \n",
       "        <div>\n",
       "            <p><b>SparkContext</b></p>\n",
       "\n",
       "            <p><a href=\"http://192.168.1.69:4040\">Spark UI</a></p>\n",
       "\n",
       "            <dl>\n",
       "              <dt>Version</dt>\n",
       "                <dd><code>v3.2.1</code></dd>\n",
       "              <dt>Master</dt>\n",
       "                <dd><code>local[*]</code></dd>\n",
       "              <dt>AppName</dt>\n",
       "                <dd><code>Project_G1</code></dd>\n",
       "            </dl>\n",
       "        </div>\n",
       "        \n",
       "            </div>\n",
       "        "
      ],
      "text/plain": [
       "<pyspark.sql.session.SparkSession at 0x7f7d809a4c70>"
      ]
     },
     "execution_count": 4,
     "metadata": {},
     "output_type": "execute_result"
    }
   ],
   "source": [
    "spark_session # to get some info about the Session"
   ]
  },
  {
   "cell_type": "markdown",
   "id": "f145c744",
   "metadata": {},
   "source": [
    "### Check the existing source files and their names in the remote directories before downloading them"
   ]
  },
  {
   "cell_type": "code",
   "execution_count": 5,
   "id": "563f4dec",
   "metadata": {
    "scrolled": true
   },
   "outputs": [
    {
     "name": "stdout",
     "output_type": "stream",
     "text": [
      "Number of files with csv extension: 19\n",
      "['taxi-zone-lookup.csv', 'uber-raw-data-apr14.csv', 'uber-raw-data-aug14.csv', 'uber-raw-data-jul14.csv', 'uber-raw-data-jun14.csv']\n"
     ]
    }
   ],
   "source": [
    "from bs4 import BeautifulSoup\n",
    "import os\n",
    "import requests\n",
    "\n",
    "urls = ['https://github.com/fivethirtyeight/uber-tlc-foil-response/blob/master/uber-trip-data/',\n",
    "        'https://github.com/fivethirtyeight/uber-tlc-foil-response/blob/master/other-FHV-data/',\n",
    "        'https://github.com/fivethirtyeight/uber-tlc-foil-response/']\n",
    "\n",
    "exts = ['csv'] #, 'xlsx'\n",
    "\n",
    "def get_content(url, ext=''):\n",
    "    page = requests.get(url).text\n",
    "    soup = BeautifulSoup(page, 'html.parser')\n",
    "    return [url + '/' + node.get('href') for node in soup.find_all('a') if node.get('href').endswith(ext)]\n",
    "file_names = []\n",
    "\n",
    "for url in urls:\n",
    "    for ext in exts:\n",
    "        for file in get_content(url, ext):\n",
    "            file_names.append(os.path.basename(file))\n",
    "\n",
    "print(f'Number of files with csv extension: {len(file_names)}')\n",
    "print(file_names[:5])"
   ]
  },
  {
   "cell_type": "markdown",
   "id": "07153807",
   "metadata": {},
   "source": [
    "### Download source files in local file system before working with Spark"
   ]
  },
  {
   "cell_type": "code",
   "execution_count": 6,
   "id": "d3449c51",
   "metadata": {},
   "outputs": [
    {
     "name": "stdout",
     "output_type": "stream",
     "text": [
      "The repository is ALREADY downloaded!\n"
     ]
    }
   ],
   "source": [
    "# !pip install gitpython\n",
    "from git import Repo\n",
    "if not os.path.isdir('DATA') or len(os.listdir('DATA')) == 0:\n",
    "    git_url = 'https://github.com/fivethirtyeight/uber-tlc-foil-response.git'\n",
    "    Repo.clone_from(git_url, 'Git_repo');\n",
    "    print('The repository is downloaded!')\n",
    "else:\n",
    "    print('The repository is ALREADY downloaded!')"
   ]
  },
  {
   "cell_type": "markdown",
   "id": "9cbf18dc",
   "metadata": {},
   "source": [
    "### Keeping useful files from git repository"
   ]
  },
  {
   "cell_type": "code",
   "execution_count": 7,
   "id": "4d38724e",
   "metadata": {},
   "outputs": [
    {
     "name": "stdout",
     "output_type": "stream",
     "text": [
      "['csv'] files already extracted!\n",
      "Number of new ['csv'] extracted files: 19\n"
     ]
    }
   ],
   "source": [
    "import os\n",
    "import shutil\n",
    "\n",
    "src = r'Git_repo'\n",
    "if os.path.isdir('Git_repo'):\n",
    "    os.system(\"rm -rf DATA\")\n",
    "    os.makedirs('DATA')\n",
    "    print(\"Old DATA directory deleted!\")\n",
    "    dest = r'DATA'\n",
    "\n",
    "    for path, subdirs, files in os.walk(src):\n",
    "        if '.git' in subdirs:\n",
    "            subdirs.remove('.git')\n",
    "        for name in files:\n",
    "            if name.endswith('.csv'): # or name.endswith('.xlsx'):\n",
    "                filename = os.path.join(path, name)\n",
    "                shutil.copy2(filename, dest)\n",
    "else:\n",
    "    print(f\"{exts} files already extracted!\")\n",
    "\n",
    "if os.path.isdir('DATA'):\n",
    "    path = os.getcwd() + '/DATA'\n",
    "    list_dir = os.listdir(path)\n",
    "    count = 0\n",
    "    for file in list_dir:\n",
    "        if file.endswith(exts[0]):\n",
    "            count += 1\n",
    "    print(f\"Number of new {exts} extracted files: {count}\")\n",
    "os.system(\"rm -rf Git_repo\");"
   ]
  },
  {
   "cell_type": "markdown",
   "id": "e380e56f",
   "metadata": {},
   "source": [
    "### Load the CSV files from source folder, and call show() to verify the data is loaded to RAM correctly"
   ]
  },
  {
   "cell_type": "code",
   "execution_count": 8,
   "id": "8a1b3c08",
   "metadata": {
    "scrolled": true
   },
   "outputs": [],
   "source": [
    "# Laodig data in Spark & writing in HDFS\n",
    "df_list = {}\n",
    "for file in file_names:\n",
    "    # spark_file = 'df_'+ (os.path.splitext(file)[0]).split('-')[-1]\n",
    "    # df_list[file] = spark_session.read.csv('DATA/'+file, header=True, inferSchema=True)\n",
    "    df_list[file] = spark_session.read.option(\"header\",\"true\").csv('DATA/'+file)\n",
    "\n",
    "# df_list.items()"
   ]
  },
  {
   "cell_type": "code",
   "execution_count": 9,
   "id": "e9c8b251",
   "metadata": {},
   "outputs": [
    {
     "name": "stdout",
     "output_type": "stream",
     "text": [
      "Spark dataframe exists\n"
     ]
    }
   ],
   "source": [
    "import pyspark.sql\n",
    "if df_list[file_names[0]] is not None and \\\n",
    "                isinstance(df_list[file_names[0]], \\\n",
    "                    pyspark.sql.dataframe.DataFrame):\n",
    "    print(\"Spark dataframe exists\")"
   ]
  },
  {
   "cell_type": "code",
   "execution_count": 10,
   "id": "08e03dda",
   "metadata": {},
   "outputs": [
    {
     "data": {
      "text/plain": [
       "('taxi-zone-lookup.csv', pyspark.sql.dataframe.DataFrame)"
      ]
     },
     "execution_count": 10,
     "metadata": {},
     "output_type": "execute_result"
    }
   ],
   "source": [
    "file_names[0], type(df_list[file_names[0]])"
   ]
  },
  {
   "cell_type": "code",
   "execution_count": 11,
   "id": "5ede443f",
   "metadata": {},
   "outputs": [
    {
     "name": "stdout",
     "output_type": "stream",
     "text": [
      "+----------+-------+--------------+\n",
      "|LocationID|Borough|          Zone|\n",
      "+----------+-------+--------------+\n",
      "|         1|    EWR|Newark Airport|\n",
      "|         2| Queens|   Jamaica Bay|\n",
      "+----------+-------+--------------+\n",
      "only showing top 2 rows\n",
      "\n"
     ]
    }
   ],
   "source": [
    "df_list[file_names[0]].show(2)"
   ]
  },
  {
   "cell_type": "code",
   "execution_count": 12,
   "id": "8ff380a3",
   "metadata": {},
   "outputs": [
    {
     "name": "stdout",
     "output_type": "stream",
     "text": [
      "root\n",
      " |-- LocationID: string (nullable = true)\n",
      " |-- Borough: string (nullable = true)\n",
      " |-- Zone: string (nullable = true)\n",
      "\n"
     ]
    }
   ],
   "source": [
    "df_list[file_names[0]].printSchema()"
   ]
  },
  {
   "cell_type": "markdown",
   "id": "d8321d34",
   "metadata": {},
   "source": [
    "### Pre-processing (Null values, Seperating date and time, Unified dataframe for related data)"
   ]
  },
  {
   "cell_type": "code",
   "execution_count": 13,
   "id": "a694e909",
   "metadata": {},
   "outputs": [],
   "source": [
    "# The code is inspired by 'pault' @ stackoverflow\n",
    "# Pyspark - Calculate number of null values in each dataframe column\n",
    "\n",
    "import pyspark.sql.functions as func\n",
    "from functools import reduce\n",
    "\n",
    "def count_null_values_in_df(any_df):\n",
    "    \n",
    "    df_agg = any_df.agg(*[func.count(func.when(func.isnull(c), c)).alias(c) for c in any_df.columns])\n",
    "    null_table = reduce(lambda a, b: a.union(b),(\n",
    "        df_agg.select(func.lit(c).alias(\"Column\"), func.col(c).alias(\"Nbr of Null\")) \n",
    "        for c in df_agg.columns))\n",
    "    \n",
    "    null_table.show()\n",
    "    print(f'Initial number of rows: {any_df.count()}')\n",
    "    print(\"************\\n\")\n",
    "    \n",
    "    any_df = any_df.na.drop(how='all') # to drop any row with all values as Null"
   ]
  },
  {
   "cell_type": "code",
   "execution_count": 14,
   "id": "e7ffaa8b",
   "metadata": {
    "scrolled": true
   },
   "outputs": [
    {
     "name": "stdout",
     "output_type": "stream",
     "text": [
      "1: uber-raw-data-apr14.csv\n"
     ]
    },
    {
     "name": "stderr",
     "output_type": "stream",
     "text": [
      "                                                                                \r"
     ]
    },
    {
     "name": "stdout",
     "output_type": "stream",
     "text": [
      "+---------+-----------+\n",
      "|   Column|Nbr of Null|\n",
      "+---------+-----------+\n",
      "|Date/Time|          0|\n",
      "|      Lat|          0|\n",
      "|      Lon|          0|\n",
      "|     Base|          0|\n",
      "+---------+-----------+\n",
      "\n",
      "Initial number of rows: 564516\n",
      "************\n",
      "\n",
      "2: uber-raw-data-aug14.csv\n"
     ]
    },
    {
     "name": "stderr",
     "output_type": "stream",
     "text": [
      "                                                                                \r"
     ]
    },
    {
     "name": "stdout",
     "output_type": "stream",
     "text": [
      "+---------+-----------+\n",
      "|   Column|Nbr of Null|\n",
      "+---------+-----------+\n",
      "|Date/Time|          0|\n",
      "|      Lat|          0|\n",
      "|      Lon|          0|\n",
      "|     Base|          0|\n",
      "+---------+-----------+\n",
      "\n",
      "Initial number of rows: 829275\n",
      "************\n",
      "\n",
      "3: uber-raw-data-jul14.csv\n"
     ]
    },
    {
     "name": "stderr",
     "output_type": "stream",
     "text": [
      "                                                                                \r"
     ]
    },
    {
     "name": "stdout",
     "output_type": "stream",
     "text": [
      "+---------+-----------+\n",
      "|   Column|Nbr of Null|\n",
      "+---------+-----------+\n",
      "|Date/Time|          0|\n",
      "|      Lat|          0|\n",
      "|      Lon|          0|\n",
      "|     Base|          0|\n",
      "+---------+-----------+\n",
      "\n",
      "Initial number of rows: 796121\n",
      "************\n",
      "\n",
      "4: uber-raw-data-jun14.csv\n"
     ]
    },
    {
     "name": "stderr",
     "output_type": "stream",
     "text": [
      "                                                                                \r"
     ]
    },
    {
     "name": "stdout",
     "output_type": "stream",
     "text": [
      "+---------+-----------+\n",
      "|   Column|Nbr of Null|\n",
      "+---------+-----------+\n",
      "|Date/Time|          0|\n",
      "|      Lat|          0|\n",
      "|      Lon|          0|\n",
      "|     Base|          0|\n",
      "+---------+-----------+\n",
      "\n",
      "Initial number of rows: 663844\n",
      "************\n",
      "\n",
      "5: uber-raw-data-may14.csv\n"
     ]
    },
    {
     "name": "stderr",
     "output_type": "stream",
     "text": [
      "                                                                                \r"
     ]
    },
    {
     "name": "stdout",
     "output_type": "stream",
     "text": [
      "+---------+-----------+\n",
      "|   Column|Nbr of Null|\n",
      "+---------+-----------+\n",
      "|Date/Time|          0|\n",
      "|      Lat|          0|\n",
      "|      Lon|          0|\n",
      "|     Base|          0|\n",
      "+---------+-----------+\n",
      "\n",
      "Initial number of rows: 652435\n",
      "************\n",
      "\n",
      "6: uber-raw-data-sep14.csv\n"
     ]
    },
    {
     "name": "stderr",
     "output_type": "stream",
     "text": [
      "                                                                                \r"
     ]
    },
    {
     "name": "stdout",
     "output_type": "stream",
     "text": [
      "+---------+-----------+\n",
      "|   Column|Nbr of Null|\n",
      "+---------+-----------+\n",
      "|Date/Time|          0|\n",
      "|      Lat|          0|\n",
      "|      Lon|          0|\n",
      "|     Base|          0|\n",
      "+---------+-----------+\n",
      "\n",
      "Initial number of rows: 1028136\n",
      "************\n",
      "\n"
     ]
    }
   ],
   "source": [
    "x = 1\n",
    "for key in df_list.keys():\n",
    "    if 'uber-raw-data' in key:\n",
    "        print(f'{x}: {key}')\n",
    "        count_null_values_in_df(df_list[key])   \n",
    "        x += 1"
   ]
  },
  {
   "cell_type": "markdown",
   "id": "fdeab903",
   "metadata": {},
   "source": [
    "### Preparing Uber raw data\n",
    "Uber data (4.5 million Uber pickups in New York City from April to September 2014, and 14.3 million more Uber pickups from January to June 2015)"
   ]
  },
  {
   "cell_type": "code",
   "execution_count": 15,
   "id": "9eb5239a",
   "metadata": {},
   "outputs": [
    {
     "data": {
      "text/plain": [
       "['Date/Time', 'Lat', 'Lon', 'Base']"
      ]
     },
     "execution_count": 15,
     "metadata": {},
     "output_type": "execute_result"
    }
   ],
   "source": [
    "col_names = df_list['uber-raw-data-apr14.csv'].schema.names\n",
    "col_names"
   ]
  },
  {
   "cell_type": "code",
   "execution_count": 16,
   "id": "402553b6",
   "metadata": {},
   "outputs": [
    {
     "name": "stderr",
     "output_type": "stream",
     "text": [
      "\r",
      "[Stage 92:>                                                         (0 + 1) / 1]\r"
     ]
    },
    {
     "name": "stdout",
     "output_type": "stream",
     "text": [
      "+---------+---+---+----+\n",
      "|Date/Time|Lat|Lon|Base|\n",
      "+---------+---+---+----+\n",
      "+---------+---+---+----+\n",
      "\n"
     ]
    },
    {
     "name": "stderr",
     "output_type": "stream",
     "text": [
      "\r",
      "                                                                                \r"
     ]
    }
   ],
   "source": [
    "from pyspark.sql.types import StructType, StructField, StringType\n",
    "sc = spark_session.sparkContext\n",
    "\n",
    "col_names = df_list['uber-raw-data-apr14.csv'].schema.names\n",
    "mySchema = StructType([StructField(c, StringType()) for c in col_names])\n",
    "uber_raw_data = SparkSession(sc).createDataFrame(data=[], schema=mySchema)\n",
    "uber_raw_data.show()"
   ]
  },
  {
   "cell_type": "code",
   "execution_count": 17,
   "id": "31056fd0",
   "metadata": {},
   "outputs": [
    {
     "name": "stdout",
     "output_type": "stream",
     "text": [
      "Total number of files combined: 6\n",
      "Total number of rows in unified dataframe: 4534327\n"
     ]
    }
   ],
   "source": [
    "manual_rows = 0\n",
    "number_of_files = 0\n",
    "for key in df_list.keys():\n",
    "    if 'uber-raw-data' in key:\n",
    "        uber_raw_data = uber_raw_data.union(df_list[key])\n",
    "        manual_rows += df_list[key].count()\n",
    "        number_of_files += 1\n",
    "\n",
    "print(f\"Total number of files combined: {number_of_files}\")\n",
    "print(f'Total number of rows in unified dataframe: {manual_rows}')"
   ]
  },
  {
   "cell_type": "code",
   "execution_count": 18,
   "id": "f933cf0e",
   "metadata": {},
   "outputs": [
    {
     "name": "stderr",
     "output_type": "stream",
     "text": [
      "[Stage 112:===============================================>       (24 + 4) / 28]\r"
     ]
    },
    {
     "name": "stdout",
     "output_type": "stream",
     "text": [
      "The number of rows match in the unified file!\n"
     ]
    },
    {
     "name": "stderr",
     "output_type": "stream",
     "text": [
      "\r",
      "                                                                                \r"
     ]
    }
   ],
   "source": [
    "if (uber_raw_data.count() == manual_rows):\n",
    "    print(\"The number of rows match in the unified file!\")"
   ]
  },
  {
   "cell_type": "code",
   "execution_count": 19,
   "id": "fb389091",
   "metadata": {},
   "outputs": [
    {
     "name": "stderr",
     "output_type": "stream",
     "text": [
      "                                                                                \r"
     ]
    }
   ],
   "source": [
    "if server_mode:\n",
    "    path = 'hdfs://192.168.2.74:9000/user/ubuntu/uber-tlc-foil-response/uber-trip-data'\n",
    "else:\n",
    "    path = os.getcwd() + '/DATA/'\n",
    "\n",
    "uber_unified_file = path+\"uber_raw_data.parquet\"\n",
    "uber_raw_data.write.mode(\"overwrite\").parquet(uber_unified_file)"
   ]
  },
  {
   "cell_type": "markdown",
   "id": "5c6306d5",
   "metadata": {},
   "source": [
    "### To check if downloaded files exists in HDFS system"
   ]
  },
  {
   "cell_type": "code",
   "execution_count": 20,
   "id": "942573a7",
   "metadata": {},
   "outputs": [
    {
     "name": "stdout",
     "output_type": "stream",
     "text": [
      "True\n"
     ]
    }
   ],
   "source": [
    "fs = sc._jvm.org.apache.hadoop.fs.FileSystem.get(sc._jsc.hadoopConfiguration())\n",
    "if server_mode:\n",
    "    path = 'hdfs://192.168.2.74:9000/user/ubuntu/uber-tlc-foil-response/uber-trip-data/'\n",
    "else:\n",
    "    path = os.getcwd() + '/DATA/'\n",
    "\n",
    "path = path + 'uber_raw_data.parquet'\n",
    "print(fs.exists(sc._jvm.org.apache.hadoop.fs.Path(path)))"
   ]
  },
  {
   "cell_type": "markdown",
   "id": "798757e9",
   "metadata": {},
   "source": [
    "## To read parquet file use the code below"
   ]
  },
  {
   "cell_type": "code",
   "execution_count": 21,
   "id": "56d53678",
   "metadata": {},
   "outputs": [
    {
     "name": "stdout",
     "output_type": "stream",
     "text": [
      "root\n",
      " |-- Date/Time: string (nullable = true)\n",
      " |-- Lat: string (nullable = true)\n",
      " |-- Lon: string (nullable = true)\n",
      " |-- Base: string (nullable = true)\n",
      "\n",
      "+----------------+-------+--------+------+\n",
      "|       Date/Time|    Lat|     Lon|  Base|\n",
      "+----------------+-------+--------+------+\n",
      "|9/1/2014 0:01:00|40.2201|-74.0021|B02512|\n",
      "|9/1/2014 0:01:00|  40.75|-74.0027|B02512|\n",
      "|9/1/2014 0:03:00|40.7559|-73.9864|B02512|\n",
      "+----------------+-------+--------+------+\n",
      "only showing top 3 rows\n",
      "\n"
     ]
    },
    {
     "name": "stderr",
     "output_type": "stream",
     "text": [
      "                                                                                \r"
     ]
    },
    {
     "data": {
      "text/plain": [
       "4534327"
      ]
     },
     "execution_count": 21,
     "metadata": {},
     "output_type": "execute_result"
    }
   ],
   "source": [
    "uber_raw_data_read_test = spark_session.read.parquet(uber_unified_file)\n",
    "uber_raw_data_read_test.printSchema()\n",
    "uber_raw_data_read_test.show(3)\n",
    "uber_raw_data.count()"
   ]
  },
  {
   "cell_type": "markdown",
   "id": "9fae0a9e",
   "metadata": {},
   "source": [
    "### Preparing For-Hire Vehicle (FHV) data\n",
    "FHV companies (10 files of raw data on pickups from 10 FHV companies. The trip information varies by company, but can include day of trip, time of trip, pickup location, driver's for-hire license number, and vehicle's for-hire license number.)"
   ]
  },
  {
   "cell_type": "markdown",
   "id": "5e080354",
   "metadata": {},
   "source": [
    "#### Drop Null columns manually for each dataframe"
   ]
  },
  {
   "cell_type": "code",
   "execution_count": 22,
   "id": "6c02e73f",
   "metadata": {
    "scrolled": true
   },
   "outputs": [
    {
     "name": "stdout",
     "output_type": "stream",
     "text": [
      "1: taxi-zone-lookup.csv\n",
      "[('LocationID', 'string'), ('Borough', 'string'), ('Zone', 'string')]\n",
      "+----------+-----------+\n",
      "|    Column|Nbr of Null|\n",
      "+----------+-----------+\n",
      "|LocationID|          0|\n",
      "|   Borough|          0|\n",
      "|      Zone|          0|\n",
      "+----------+-----------+\n",
      "\n",
      "Initial number of rows: 265\n",
      "************\n",
      "\n",
      "2: American_B01362.csv\n",
      "[('DATE', 'string'), ('TIME', 'string'), ('PICK UP ADDRESS', 'string'), ('_c3', 'string'), ('_c4', 'string'), ('_c5', 'string')]\n"
     ]
    },
    {
     "name": "stderr",
     "output_type": "stream",
     "text": [
      "22/03/16 00:16:32 WARN CSVHeaderChecker: CSV header does not conform to the schema.\n",
      " Header: \n",
      " Schema: _c3\n",
      "Expected: _c3 but found: \n",
      "CSV file: file:///home/naeim/Dropbox/UU_Master/Fourth%20Semester/Data%20Engineering/Assignments/Project/Naeim_code/data_engineering1_project/DATA/American_B01362.csv\n",
      "22/03/16 00:16:32 WARN CSVHeaderChecker: CSV header does not conform to the schema.\n",
      " Header: \n",
      " Schema: _c4\n",
      "Expected: _c4 but found: \n",
      "CSV file: file:///home/naeim/Dropbox/UU_Master/Fourth%20Semester/Data%20Engineering/Assignments/Project/Naeim_code/data_engineering1_project/DATA/American_B01362.csv\n",
      "22/03/16 00:16:33 WARN CSVHeaderChecker: CSV header does not conform to the schema.\n",
      " Header: \n",
      " Schema: _c5\n",
      "Expected: _c5 but found: \n",
      "CSV file: file:///home/naeim/Dropbox/UU_Master/Fourth%20Semester/Data%20Engineering/Assignments/Project/Naeim_code/data_engineering1_project/DATA/American_B01362.csv\n",
      "                                                                                \r"
     ]
    },
    {
     "name": "stdout",
     "output_type": "stream",
     "text": [
      "+---------------+-----------+\n",
      "|         Column|Nbr of Null|\n",
      "+---------------+-----------+\n",
      "|           DATE|          0|\n",
      "|           TIME|          0|\n",
      "|PICK UP ADDRESS|          0|\n",
      "|            _c3|      91712|\n",
      "|            _c4|      91712|\n",
      "|            _c5|      91712|\n",
      "+---------------+-----------+\n",
      "\n",
      "Initial number of rows: 91712\n",
      "************\n",
      "\n",
      "3: Carmel_B00256.csv\n",
      "[('Date', 'string'), ('Time', 'string'), ('PU_Adress', 'string'), ('Base_No', 'string')]\n"
     ]
    },
    {
     "name": "stderr",
     "output_type": "stream",
     "text": [
      "                                                                                \r"
     ]
    },
    {
     "name": "stdout",
     "output_type": "stream",
     "text": [
      "+---------+-----------+\n",
      "|   Column|Nbr of Null|\n",
      "+---------+-----------+\n",
      "|     Date|          0|\n",
      "|     Time|          0|\n",
      "|PU_Adress|          0|\n",
      "|  Base_No|          0|\n",
      "+---------+-----------+\n",
      "\n",
      "Initial number of rows: 256519\n",
      "************\n",
      "\n",
      "4: Dial7_B00887.csv\n",
      "[('Date', 'string'), ('Time', 'string'), ('State', 'string'), ('PuFrom', 'string'), ('Address', 'string'), ('Street', 'string')]\n"
     ]
    },
    {
     "name": "stderr",
     "output_type": "stream",
     "text": [
      "                                                                                \r"
     ]
    },
    {
     "name": "stdout",
     "output_type": "stream",
     "text": [
      "+-------+-----------+\n",
      "| Column|Nbr of Null|\n",
      "+-------+-----------+\n",
      "|   Date|          0|\n",
      "|   Time|          0|\n",
      "|  State|          0|\n",
      "| PuFrom|      37030|\n",
      "|Address|          0|\n",
      "| Street|          0|\n",
      "+-------+-----------+\n",
      "\n",
      "Initial number of rows: 194992\n",
      "************\n",
      "\n",
      "5: Diplo_B01196.csv\n",
      "[('Date', 'string'), ('Time', 'string'), ('PU_Address', 'string')]\n"
     ]
    },
    {
     "name": "stderr",
     "output_type": "stream",
     "text": [
      "                                                                                \r"
     ]
    },
    {
     "name": "stdout",
     "output_type": "stream",
     "text": [
      "+----------+-----------+\n",
      "|    Column|Nbr of Null|\n",
      "+----------+-----------+\n",
      "|      Date|          0|\n",
      "|      Time|          0|\n",
      "|PU_Address|          0|\n",
      "+----------+-----------+\n",
      "\n",
      "Initial number of rows: 98550\n",
      "************\n",
      "\n",
      "6: Federal_02216.csv\n",
      "[('Date', 'string'), ('Time', 'string'), ('PU_Address2', 'string'), ('DO_Address', 'string'), ('Routing Details', 'string'), ('PU_Address5', 'string'), ('Status', 'string')]\n"
     ]
    },
    {
     "name": "stderr",
     "output_type": "stream",
     "text": [
      "22/03/16 00:16:42 WARN CSVHeaderChecker: CSV header does not conform to the schema.\n",
      " Header: PU_Address\n",
      " Schema: PU_Address2\n",
      "Expected: PU_Address2 but found: PU_Address\n",
      "CSV file: file:///home/naeim/Dropbox/UU_Master/Fourth%20Semester/Data%20Engineering/Assignments/Project/Naeim_code/data_engineering1_project/DATA/Federal_02216.csv\n",
      "22/03/16 00:16:43 WARN CSVHeaderChecker: CSV header does not conform to the schema.\n",
      " Header: PU_Address\n",
      " Schema: PU_Address5\n",
      "Expected: PU_Address5 but found: PU_Address\n",
      "CSV file: file:///home/naeim/Dropbox/UU_Master/Fourth%20Semester/Data%20Engineering/Assignments/Project/Naeim_code/data_engineering1_project/DATA/Federal_02216.csv\n"
     ]
    },
    {
     "name": "stdout",
     "output_type": "stream",
     "text": [
      "+---------------+-----------+\n",
      "|         Column|Nbr of Null|\n",
      "+---------------+-----------+\n",
      "|           Date|          0|\n",
      "|           Time|          0|\n",
      "|    PU_Address2|          7|\n",
      "|     DO_Address|          9|\n",
      "|Routing Details|          0|\n",
      "|    PU_Address5|          0|\n",
      "|         Status|          0|\n",
      "+---------------+-----------+\n",
      "\n",
      "Initial number of rows: 276\n",
      "************\n",
      "\n",
      "7: Firstclass_B01536.csv\n",
      "[('DATE', 'string'), ('TIME', 'string'), ('PICK UP ADDRESS', 'string')]\n"
     ]
    },
    {
     "name": "stderr",
     "output_type": "stream",
     "text": [
      "                                                                                \r"
     ]
    },
    {
     "name": "stdout",
     "output_type": "stream",
     "text": [
      "+---------------+-----------+\n",
      "|         Column|Nbr of Null|\n",
      "+---------------+-----------+\n",
      "|           DATE|          0|\n",
      "|           TIME|          0|\n",
      "|PICK UP ADDRESS|          0|\n",
      "+---------------+-----------+\n",
      "\n",
      "Initial number of rows: 166769\n",
      "************\n",
      "\n",
      "8: Highclass_B01717.csv\n",
      "[('DATE', 'string'), ('TIME', 'string'), ('PU_Address', 'string')]\n"
     ]
    },
    {
     "name": "stderr",
     "output_type": "stream",
     "text": [
      "                                                                                \r"
     ]
    },
    {
     "name": "stdout",
     "output_type": "stream",
     "text": [
      "+----------+-----------+\n",
      "|    Column|Nbr of Null|\n",
      "+----------+-----------+\n",
      "|      DATE|          0|\n",
      "|      TIME|          0|\n",
      "|PU_Address|          0|\n",
      "+----------+-----------+\n",
      "\n",
      "Initial number of rows: 151925\n",
      "************\n",
      "\n",
      "9: Lyft_B02510.csv\n",
      "[('time_of_trip', 'string'), ('start_lat', 'string'), ('start_lng', 'string'), ('_c3', 'string')]\n"
     ]
    },
    {
     "name": "stderr",
     "output_type": "stream",
     "text": [
      "22/03/16 00:16:48 WARN CSVHeaderChecker: CSV header does not conform to the schema.\n",
      " Header: \n",
      " Schema: _c3\n",
      "Expected: _c3 but found: \n",
      "CSV file: file:///home/naeim/Dropbox/UU_Master/Fourth%20Semester/Data%20Engineering/Assignments/Project/Naeim_code/data_engineering1_project/DATA/Lyft_B02510.csv\n",
      "                                                                                \r"
     ]
    },
    {
     "name": "stdout",
     "output_type": "stream",
     "text": [
      "+------------+-----------+\n",
      "|      Column|Nbr of Null|\n",
      "+------------+-----------+\n",
      "|time_of_trip|          0|\n",
      "|   start_lat|          1|\n",
      "|   start_lng|          1|\n",
      "|         _c3|     266503|\n",
      "+------------+-----------+\n",
      "\n",
      "Initial number of rows: 267701\n",
      "************\n",
      "\n",
      "10: Prestige_B01338.csv\n",
      "[('DATE', 'string'), ('TIME', 'string'), ('PICK UP ADDRESS', 'string')]\n"
     ]
    },
    {
     "name": "stderr",
     "output_type": "stream",
     "text": [
      "                                                                                \r"
     ]
    },
    {
     "name": "stdout",
     "output_type": "stream",
     "text": [
      "+---------------+-----------+\n",
      "|         Column|Nbr of Null|\n",
      "+---------------+-----------+\n",
      "|           DATE|          0|\n",
      "|           TIME|          0|\n",
      "|PICK UP ADDRESS|          0|\n",
      "+---------------+-----------+\n",
      "\n",
      "Initial number of rows: 320641\n",
      "************\n",
      "\n",
      "11: Skyline_B00111.csv\n",
      "[('Date', 'string'), ('Time', 'string'), ('    Street_Address ', 'string'), ('    City_State ', 'string'), ('_c4', 'string'), ('_c5', 'string')]\n"
     ]
    },
    {
     "name": "stderr",
     "output_type": "stream",
     "text": [
      "22/03/16 00:16:53 WARN CSVHeaderChecker: CSV header does not conform to the schema.\n",
      " Header: \n",
      " Schema: _c4\n",
      "Expected: _c4 but found: \n",
      "CSV file: file:///home/naeim/Dropbox/UU_Master/Fourth%20Semester/Data%20Engineering/Assignments/Project/Naeim_code/data_engineering1_project/DATA/Skyline_B00111.csv\n",
      "22/03/16 00:16:53 WARN CSVHeaderChecker: CSV header does not conform to the schema.\n",
      " Header: \n",
      " Schema: _c5\n",
      "Expected: _c5 but found: \n",
      "CSV file: file:///home/naeim/Dropbox/UU_Master/Fourth%20Semester/Data%20Engineering/Assignments/Project/Naeim_code/data_engineering1_project/DATA/Skyline_B00111.csv\n",
      "[Stage 250:>                                                        (0 + 3) / 3]\r"
     ]
    },
    {
     "name": "stdout",
     "output_type": "stream",
     "text": [
      "+-------------------+-----------+\n",
      "|             Column|Nbr of Null|\n",
      "+-------------------+-----------+\n",
      "|               Date|          0|\n",
      "|               Time|          0|\n",
      "|    Street_Address |          0|\n",
      "|        City_State |          0|\n",
      "|                _c4|     127696|\n",
      "|                _c5|     127696|\n",
      "+-------------------+-----------+\n",
      "\n"
     ]
    },
    {
     "name": "stderr",
     "output_type": "stream",
     "text": [
      "\r",
      "                                                                                \r"
     ]
    },
    {
     "name": "stdout",
     "output_type": "stream",
     "text": [
      "Initial number of rows: 127696\n",
      "************\n",
      "\n",
      "12: other-FHV-data-jan-aug-2015.csv\n",
      "[('_c0', 'string'), ('_c1', 'string'), ('_c2', 'string'), ('_c3', 'string'), ('_c4', 'string'), ('_c5', 'string'), ('_c6', 'string')]\n"
     ]
    },
    {
     "name": "stderr",
     "output_type": "stream",
     "text": [
      "22/03/16 00:16:55 WARN CSVHeaderChecker: CSV header does not conform to the schema.\n",
      " Header: \n",
      " Schema: _c0\n",
      "Expected: _c0 but found: \n",
      "CSV file: file:///home/naeim/Dropbox/UU_Master/Fourth%20Semester/Data%20Engineering/Assignments/Project/Naeim_code/data_engineering1_project/DATA/other-FHV-data-jan-aug-2015.csv\n",
      "22/03/16 00:16:55 WARN CSVHeaderChecker: CSV header does not conform to the schema.\n",
      " Header: \n",
      " Schema: _c1\n",
      "Expected: _c1 but found: \n",
      "CSV file: file:///home/naeim/Dropbox/UU_Master/Fourth%20Semester/Data%20Engineering/Assignments/Project/Naeim_code/data_engineering1_project/DATA/other-FHV-data-jan-aug-2015.csv\n",
      "22/03/16 00:16:55 WARN CSVHeaderChecker: CSV header does not conform to the schema.\n",
      " Header: \n",
      " Schema: _c2\n",
      "Expected: _c2 but found: \n",
      "CSV file: file:///home/naeim/Dropbox/UU_Master/Fourth%20Semester/Data%20Engineering/Assignments/Project/Naeim_code/data_engineering1_project/DATA/other-FHV-data-jan-aug-2015.csv\n",
      "22/03/16 00:16:55 WARN CSVHeaderChecker: CSV header does not conform to the schema.\n",
      " Header: \n",
      " Schema: _c3\n",
      "Expected: _c3 but found: \n",
      "CSV file: file:///home/naeim/Dropbox/UU_Master/Fourth%20Semester/Data%20Engineering/Assignments/Project/Naeim_code/data_engineering1_project/DATA/other-FHV-data-jan-aug-2015.csv\n",
      "22/03/16 00:16:55 WARN CSVHeaderChecker: CSV header does not conform to the schema.\n",
      " Header: \n",
      " Schema: _c4\n",
      "Expected: _c4 but found: \n",
      "CSV file: file:///home/naeim/Dropbox/UU_Master/Fourth%20Semester/Data%20Engineering/Assignments/Project/Naeim_code/data_engineering1_project/DATA/other-FHV-data-jan-aug-2015.csv\n",
      "22/03/16 00:16:55 WARN CSVHeaderChecker: CSV header does not conform to the schema.\n",
      " Header: \n",
      " Schema: _c5\n",
      "Expected: _c5 but found: \n",
      "CSV file: file:///home/naeim/Dropbox/UU_Master/Fourth%20Semester/Data%20Engineering/Assignments/Project/Naeim_code/data_engineering1_project/DATA/other-FHV-data-jan-aug-2015.csv\n",
      "22/03/16 00:16:55 WARN CSVHeaderChecker: CSV header does not conform to the schema.\n",
      " Header: \n",
      " Schema: _c6\n",
      "Expected: _c6 but found: \n",
      "CSV file: file:///home/naeim/Dropbox/UU_Master/Fourth%20Semester/Data%20Engineering/Assignments/Project/Naeim_code/data_engineering1_project/DATA/other-FHV-data-jan-aug-2015.csv\n"
     ]
    },
    {
     "name": "stdout",
     "output_type": "stream",
     "text": [
      "+------+-----------+\n",
      "|Column|Nbr of Null|\n",
      "+------+-----------+\n",
      "|   _c0|      26186|\n",
      "|   _c1|          5|\n",
      "|   _c2|          5|\n",
      "|   _c3|      26187|\n",
      "|   _c4|          5|\n",
      "|   _c5|          5|\n",
      "|   _c6|          5|\n",
      "+------+-----------+\n",
      "\n",
      "Initial number of rows: 26187\n",
      "************\n",
      "\n",
      "13: Uber-Jan-Feb-FOIL.csv\n",
      "[('dispatching_base_number', 'string'), ('date', 'string'), ('active_vehicles', 'string'), ('trips', 'string')]\n",
      "+--------------------+-----------+\n",
      "|              Column|Nbr of Null|\n",
      "+--------------------+-----------+\n",
      "|dispatching_base_...|          0|\n",
      "|                date|          0|\n",
      "|     active_vehicles|          0|\n",
      "|               trips|          0|\n",
      "+--------------------+-----------+\n",
      "\n",
      "Initial number of rows: 354\n",
      "************\n",
      "\n"
     ]
    }
   ],
   "source": [
    "x = 1\n",
    "for key in df_list.keys():\n",
    "    if 'uber-raw-data' not in key:\n",
    "        print(f'{x}: {key}')\n",
    "        print(df_list[key].dtypes)\n",
    "        count_null_values_in_df(df_list[key]) \n",
    "        x += 1"
   ]
  },
  {
   "cell_type": "code",
   "execution_count": 23,
   "id": "c60971a1",
   "metadata": {},
   "outputs": [
    {
     "name": "stdout",
     "output_type": "stream",
     "text": [
      "+---------+\n",
      "|   PuFrom|\n",
      "+---------+\n",
      "|MANHATTAN|\n",
      "|MANHATTAN|\n",
      "|MANHATTAN|\n",
      "|MANHATTAN|\n",
      "|MANHATTAN|\n",
      "|MANHATTAN|\n",
      "|MANHATTAN|\n",
      "|MANHATTAN|\n",
      "|   QUEENS|\n",
      "|MANHATTAN|\n",
      "+---------+\n",
      "only showing top 10 rows\n",
      "\n"
     ]
    },
    {
     "data": {
      "text/plain": [
       "0"
      ]
     },
     "execution_count": 23,
     "metadata": {},
     "output_type": "execute_result"
    }
   ],
   "source": [
    "df_list['Dial7_B00887.csv'].select('PuFrom').show(10)\n",
    "df_list['Dial7_B00887.csv'] = df_list['Dial7_B00887.csv']\\\n",
    "                        .na.fill('UNKOWN')\n",
    "df_list['Dial7_B00887.csv'].filter(df_list['Dial7_B00887.csv']\\\n",
    "                        .PuFrom.isNull()).count()"
   ]
  },
  {
   "cell_type": "code",
   "execution_count": 24,
   "id": "912a2b93",
   "metadata": {},
   "outputs": [
    {
     "name": "stdout",
     "output_type": "stream",
     "text": [
      "+--------+-----------+--------------------+----+----+----+\n",
      "|    DATE|       TIME|     PICK UP ADDRESS| _c3| _c4| _c5|\n",
      "+--------+-----------+--------------------+----+----+----+\n",
      "|7/1/2014|12:00:00 AM| 874 E 139th St M...|null|null|null|\n",
      "|7/1/2014|12:01:00 AM| 628 E 141st St M...|null|null|null|\n",
      "|7/1/2014|12:01:00 AM| 601 E 156th St S...|null|null|null|\n",
      "|7/1/2014|12:01:00 AM| 708 E 138th St M...|null|null|null|\n",
      "|7/1/2014|12:02:00 AM| 700 E 140th St M...|null|null|null|\n",
      "+--------+-----------+--------------------+----+----+----+\n",
      "only showing top 5 rows\n",
      "\n",
      "+--------+-----------+--------------------+\n",
      "|    DATE|       TIME|     PICK UP ADDRESS|\n",
      "+--------+-----------+--------------------+\n",
      "|7/1/2014|12:00:00 AM| 874 E 139th St M...|\n",
      "|7/1/2014|12:01:00 AM| 628 E 141st St M...|\n",
      "+--------+-----------+--------------------+\n",
      "only showing top 2 rows\n",
      "\n"
     ]
    },
    {
     "name": "stderr",
     "output_type": "stream",
     "text": [
      "22/03/16 00:16:57 WARN CSVHeaderChecker: CSV header does not conform to the schema.\n",
      " Header: DATE, TIME, PICK UP ADDRESS, , , \n",
      " Schema: DATE, TIME, PICK UP ADDRESS, _c3, _c4, _c5\n",
      "Expected: _c3 but found: \n",
      "CSV file: file:///home/naeim/Dropbox/UU_Master/Fourth%20Semester/Data%20Engineering/Assignments/Project/Naeim_code/data_engineering1_project/DATA/American_B01362.csv\n"
     ]
    }
   ],
   "source": [
    "df_list['American_B01362.csv'].show(5)\n",
    "columns_to_drop = ['_c3','_c4','_c5']\n",
    "df_list['American_B01362.csv'] = \\\n",
    "    df_list['American_B01362.csv'].drop(*columns_to_drop)\n",
    "df_list['American_B01362.csv'].show(2)"
   ]
  },
  {
   "cell_type": "code",
   "execution_count": 25,
   "id": "672d18d6",
   "metadata": {},
   "outputs": [
    {
     "name": "stderr",
     "output_type": "stream",
     "text": [
      "22/03/16 00:16:57 WARN CSVHeaderChecker: CSV header does not conform to the schema.\n",
      " Header: time_of_trip, start_lat, start_lng, \n",
      " Schema: time_of_trip, start_lat, start_lng, _c3\n",
      "Expected: _c3 but found: \n",
      "CSV file: file:///home/naeim/Dropbox/UU_Master/Fourth%20Semester/Data%20Engineering/Assignments/Project/Naeim_code/data_engineering1_project/DATA/Lyft_B02510.csv\n"
     ]
    },
    {
     "name": "stdout",
     "output_type": "stream",
     "text": [
      "+---------------+---------+---------+----+\n",
      "|   time_of_trip|start_lat|start_lng| _c3|\n",
      "+---------------+---------+---------+----+\n",
      "|  9/4/2014 9:51| 40.64705|-73.77988|null|\n",
      "|8/27/2014 21:13| 40.74916|-73.98373|null|\n",
      "+---------------+---------+---------+----+\n",
      "only showing top 2 rows\n",
      "\n",
      "+---------------+---------+---------+\n",
      "|   time_of_trip|start_lat|start_lng|\n",
      "+---------------+---------+---------+\n",
      "|  9/4/2014 9:51| 40.64705|-73.77988|\n",
      "|8/27/2014 21:13| 40.74916|-73.98373|\n",
      "+---------------+---------+---------+\n",
      "only showing top 2 rows\n",
      "\n"
     ]
    }
   ],
   "source": [
    "df_list['Lyft_B02510.csv'].show(2)\n",
    "df_list['Lyft_B02510.csv'] = \\\n",
    "    df_list['Lyft_B02510.csv'].drop('_c3')\n",
    "df_list['Lyft_B02510.csv'].show(2)"
   ]
  },
  {
   "cell_type": "code",
   "execution_count": 26,
   "id": "e799102b",
   "metadata": {},
   "outputs": [
    {
     "name": "stdout",
     "output_type": "stream",
     "text": [
      "+--------+--------------+--------------------+--------------------+----+----+\n",
      "|    Date|          Time|     Street_Address |         City_State | _c4| _c5|\n",
      "+--------+--------------+--------------------+--------------------+----+----+\n",
      "|7/1/2014|    20:27     |    622 THIRD AV ...|     M           ...|null|null|\n",
      "|7/1/2014|    21:04     |     E 77TH ST   ...|     M           ...|null|null|\n",
      "+--------+--------------+--------------------+--------------------+----+----+\n",
      "only showing top 2 rows\n",
      "\n",
      "+--------+--------------+--------------------+--------------------+\n",
      "|    Date|          Time|     Street_Address |         City_State |\n",
      "+--------+--------------+--------------------+--------------------+\n",
      "|7/1/2014|    20:27     |    622 THIRD AV ...|     M           ...|\n",
      "|7/1/2014|    21:04     |     E 77TH ST   ...|     M           ...|\n",
      "+--------+--------------+--------------------+--------------------+\n",
      "only showing top 2 rows\n",
      "\n"
     ]
    },
    {
     "name": "stderr",
     "output_type": "stream",
     "text": [
      "22/03/16 00:16:58 WARN CSVHeaderChecker: CSV header does not conform to the schema.\n",
      " Header: Date, Time,     Street_Address ,     City_State , , \n",
      " Schema: Date, Time,     Street_Address ,     City_State , _c4, _c5\n",
      "Expected: _c4 but found: \n",
      "CSV file: file:///home/naeim/Dropbox/UU_Master/Fourth%20Semester/Data%20Engineering/Assignments/Project/Naeim_code/data_engineering1_project/DATA/Skyline_B00111.csv\n"
     ]
    }
   ],
   "source": [
    "df_list['Skyline_B00111.csv'].show(2)\n",
    "df_list['Skyline_B00111.csv'] = \\\n",
    "    df_list['Skyline_B00111.csv'].drop(*columns_to_drop)\n",
    "df_list['Skyline_B00111.csv'].show(2)"
   ]
  },
  {
   "cell_type": "code",
   "execution_count": 27,
   "id": "0c54e550",
   "metadata": {},
   "outputs": [],
   "source": [
    "columns_to_drop = ['_c0','_c3']\n",
    "df_list['other-FHV-data-jan-aug-2015.csv'] = \\\n",
    "    df_list['other-FHV-data-jan-aug-2015.csv'].drop(*columns_to_drop)\n",
    "df_list['other-FHV-data-jan-aug-2015.csv'] = \\\n",
    "    df_list['other-FHV-data-jan-aug-2015.csv'].na.drop(how='all')"
   ]
  },
  {
   "cell_type": "code",
   "execution_count": 28,
   "id": "40195b63",
   "metadata": {},
   "outputs": [
    {
     "name": "stdout",
     "output_type": "stream",
     "text": [
      "+-----------+---------+------------+---------------+------------------+\n",
      "|        _c1|      _c2|         _c4|            _c5|               _c6|\n",
      "+-----------+---------+------------+---------------+------------------+\n",
      "|Base Number|Base Name|Pick Up Date|Number of Trips|Number of Vehicles|\n",
      "+-----------+---------+------------+---------------+------------------+\n",
      "only showing top 1 row\n",
      "\n"
     ]
    },
    {
     "name": "stderr",
     "output_type": "stream",
     "text": [
      "22/03/16 00:16:58 WARN CSVHeaderChecker: CSV header does not conform to the schema.\n",
      " Header: , , , , \n",
      " Schema: _c1, _c2, _c4, _c5, _c6\n",
      "Expected: _c1 but found: \n",
      "CSV file: file:///home/naeim/Dropbox/UU_Master/Fourth%20Semester/Data%20Engineering/Assignments/Project/Naeim_code/data_engineering1_project/DATA/other-FHV-data-jan-aug-2015.csv\n"
     ]
    }
   ],
   "source": [
    "df_list['other-FHV-data-jan-aug-2015.csv'].show(1)"
   ]
  },
  {
   "cell_type": "code",
   "execution_count": 29,
   "id": "c254ed23",
   "metadata": {
    "scrolled": false
   },
   "outputs": [
    {
     "name": "stderr",
     "output_type": "stream",
     "text": [
      "22/03/16 00:16:58 WARN CSVHeaderChecker: CSV header does not conform to the schema.\n",
      " Header: , , , , \n",
      " Schema: _c1, _c2, _c4, _c5, _c6\n",
      "Expected: _c1 but found: \n",
      "CSV file: file:///home/naeim/Dropbox/UU_Master/Fourth%20Semester/Data%20Engineering/Assignments/Project/Naeim_code/data_engineering1_project/DATA/other-FHV-data-jan-aug-2015.csv\n",
      "22/03/16 00:16:59 WARN CSVHeaderChecker: CSV header does not conform to the schema.\n",
      " Header: , , , , \n",
      " Schema: _c1, _c2, _c4, _c5, _c6\n",
      "Expected: _c1 but found: \n",
      "CSV file: file:///home/naeim/Dropbox/UU_Master/Fourth%20Semester/Data%20Engineering/Assignments/Project/Naeim_code/data_engineering1_project/DATA/other-FHV-data-jan-aug-2015.csv\n",
      "                                                                                \r"
     ]
    },
    {
     "name": "stdout",
     "output_type": "stream",
     "text": [
      "+-----------+--------------------+------------+---------------+------------------+\n",
      "|Base_Number|           Base_Name|Pick_Up_Date|Number_of_Trips|Number_of_Vehicles|\n",
      "+-----------+--------------------+------------+---------------+------------------+\n",
      "|     B00013|   LOVE CORP CAR INC|  01/01/2015|            26 |               17 |\n",
      "|     B00014| NY ONE CORP CAR INC|  01/01/2015|            45 |               24 |\n",
      "|     B00029|COMMUNITY CAR SVC...|  01/01/2015|           731 |               36 |\n",
      "|     B00053| CHARGE AND RIDE INC|  01/01/2015|            10 |                9 |\n",
      "|     B00095|LIBERTY CAR SERVI...|  01/01/2015|           814 |               62 |\n",
      "|     B00221|PROFESSIONAL CAR ...|  01/01/2015|           220 |               46 |\n",
      "|     B00227|PARK WEST EXEC. S...|  01/01/2015|            36 |               28 |\n",
      "|     B00248|YELLOWSTONE TRANS...|  01/01/2015|         1,137 |              106 |\n",
      "|     B00254|   XYZ TWO WAY RADIO|  01/01/2015|           236 |              103 |\n",
      "|     B00280|FLEET RADIO DISPA...|  01/01/2015|            47 |               29 |\n",
      "+-----------+--------------------+------------+---------------+------------------+\n",
      "only showing top 10 rows\n",
      "\n"
     ]
    }
   ],
   "source": [
    "df_list['other-FHV-data-jan-aug-2015.csv'] = \\\n",
    "        df_list['other-FHV-data-jan-aug-2015.csv'].withColumnRenamed(\"_c1\", \"Base_Number\")\\\n",
    "       .withColumnRenamed(\"_c2\", \"Base_Name\").withColumnRenamed(\"_c4\", \"Pick_Up_Date\")\\\n",
    "       .withColumnRenamed(\"_c5\", \"Number_of_Trips\").withColumnRenamed(\"_c6\", \"Number_of_Vehicles\")\n",
    "\n",
    "df_list['other-FHV-data-jan-aug-2015.csv'] = \\\n",
    "        SparkSession(sc).createDataFrame(df_list['other-FHV-data-jan-aug-2015.csv']\\\n",
    "                              .tail(df_list['other-FHV-data-jan-aug-2015.csv'].count()-1)\\\n",
    "                              ,df_list['other-FHV-data-jan-aug-2015.csv'].schema)\n",
    "\n",
    "df_list['other-FHV-data-jan-aug-2015.csv'].show(10)"
   ]
  },
  {
   "cell_type": "code",
   "execution_count": 30,
   "id": "d839c1c5",
   "metadata": {},
   "outputs": [],
   "source": [
    "df_list['Lyft_B02510.csv'] = df_list['Lyft_B02510.csv'].na.drop()\n",
    "df_list['Federal_02216.csv'] = df_list['Federal_02216.csv']\\\n",
    "                        .na.fill('UNKOWN')\n",
    "\n",
    "df_list['American_B01362.csv'] = \\\n",
    "        df_list['American_B01362.csv'].withColumnRenamed(\"PICK UP ADDRESS\", \"PICK_UP_ADDRESS\")\n",
    "df_list['Prestige_B01338.csv'] = \\\n",
    "        df_list['Prestige_B01338.csv'].withColumnRenamed(\"PICK UP ADDRESS\", \"PICK_UP_ADDRESS\")\n",
    "\n",
    "df_list['Firstclass_B01536.csv'] = \\\n",
    "        df_list['Firstclass_B01536.csv'].withColumnRenamed(\"PICK UP ADDRESS\", \"PICK_UP_ADDRESS\")\n",
    "df_list['Federal_02216.csv'] = \\\n",
    "        df_list['Federal_02216.csv'].withColumnRenamed(\"Routing Details\", \"Routing_Details\")\n",
    "\n",
    "df_list['Skyline_B00111.csv'] = \\\n",
    "        df_list['Skyline_B00111.csv'].withColumnRenamed(\"    Street_Address \", \"Street_Address\")\n",
    "df_list['Skyline_B00111.csv'] = \\\n",
    "        df_list['Skyline_B00111.csv'].withColumnRenamed(\"    City_State \", \"City_State\")"
   ]
  },
  {
   "cell_type": "code",
   "execution_count": 31,
   "id": "89d838d3",
   "metadata": {
    "scrolled": true
   },
   "outputs": [
    {
     "name": "stdout",
     "output_type": "stream",
     "text": [
      "1: taxi-zone-lookup.csv\n",
      "[('LocationID', 'string'), ('Borough', 'string'), ('Zone', 'string')]\n",
      "+----------+-------+--------------------+\n",
      "|LocationID|Borough|                Zone|\n",
      "+----------+-------+--------------------+\n",
      "|         1|    EWR|      Newark Airport|\n",
      "|         2| Queens|         Jamaica Bay|\n",
      "|         3|  Bronx|Allerton/Pelham G...|\n",
      "+----------+-------+--------------------+\n",
      "only showing top 3 rows\n",
      "\n",
      "+----------+-----------+\n",
      "|    Column|Nbr of Null|\n",
      "+----------+-----------+\n",
      "|LocationID|          0|\n",
      "|   Borough|          0|\n",
      "|      Zone|          0|\n",
      "+----------+-----------+\n",
      "\n",
      "Initial number of rows: 265\n",
      "************\n",
      "\n",
      "2: American_B01362.csv\n",
      "[('DATE', 'string'), ('TIME', 'string'), ('PICK_UP_ADDRESS', 'string')]\n",
      "+--------+-----------+--------------------+\n",
      "|    DATE|       TIME|     PICK_UP_ADDRESS|\n",
      "+--------+-----------+--------------------+\n",
      "|7/1/2014|12:00:00 AM| 874 E 139th St M...|\n",
      "|7/1/2014|12:01:00 AM| 628 E 141st St M...|\n",
      "|7/1/2014|12:01:00 AM| 601 E 156th St S...|\n",
      "+--------+-----------+--------------------+\n",
      "only showing top 3 rows\n",
      "\n"
     ]
    },
    {
     "name": "stderr",
     "output_type": "stream",
     "text": [
      "\r",
      "[Stage 318:========>        (1 + 1) / 2][Stage 319:========>        (1 + 1) / 2]\r",
      "\r",
      "                                                                                \r"
     ]
    },
    {
     "name": "stdout",
     "output_type": "stream",
     "text": [
      "+---------------+-----------+\n",
      "|         Column|Nbr of Null|\n",
      "+---------------+-----------+\n",
      "|           DATE|          0|\n",
      "|           TIME|          0|\n",
      "|PICK_UP_ADDRESS|          0|\n",
      "+---------------+-----------+\n",
      "\n",
      "Initial number of rows: 91712\n",
      "************\n",
      "\n",
      "3: Carmel_B00256.csv\n",
      "[('Date', 'string'), ('Time', 'string'), ('PU_Adress', 'string'), ('Base_No', 'string')]\n",
      "+--------+----+---------------+-------+\n",
      "|    Date|Time|      PU_Adress|Base_No|\n",
      "+--------+----+---------------+-------+\n",
      "|7/1/2014|0:00|260 W 44 St NYC| B00256|\n",
      "|7/1/2014|0:00|125 W 29 St Nyc| B00256|\n",
      "|7/1/2014|0:00|141 W 28 St Nyc| B00256|\n",
      "+--------+----+---------------+-------+\n",
      "only showing top 3 rows\n",
      "\n"
     ]
    },
    {
     "name": "stderr",
     "output_type": "stream",
     "text": [
      "                                                                                \r"
     ]
    },
    {
     "name": "stdout",
     "output_type": "stream",
     "text": [
      "+---------+-----------+\n",
      "|   Column|Nbr of Null|\n",
      "+---------+-----------+\n",
      "|     Date|          0|\n",
      "|     Time|          0|\n",
      "|PU_Adress|          0|\n",
      "|  Base_No|          0|\n",
      "+---------+-----------+\n",
      "\n",
      "Initial number of rows: 256519\n",
      "************\n",
      "\n",
      "4: Dial7_B00887.csv\n",
      "[('Date', 'string'), ('Time', 'string'), ('State', 'string'), ('PuFrom', 'string'), ('Address', 'string'), ('Street', 'string')]\n",
      "+----------+-----+--------------------+---------+-------+--------------------+\n",
      "|      Date| Time|               State|   PuFrom|Address|              Street|\n",
      "+----------+-----+--------------------+---------+-------+--------------------+\n",
      "|2014.07.06|14:30|NY               ...|MANHATTAN|     50|MURRAY ST           |\n",
      "|2014.07.04| 7:15|NY               ...|MANHATTAN|    143|AVENUE B            |\n",
      "|2014.07.05| 5:45|NY               ...|MANHATTAN|    125|CHRISTOPHER ST      |\n",
      "+----------+-----+--------------------+---------+-------+--------------------+\n",
      "only showing top 3 rows\n",
      "\n",
      "+-------+-----------+\n",
      "| Column|Nbr of Null|\n",
      "+-------+-----------+\n",
      "|   Date|          0|\n",
      "|   Time|          0|\n",
      "|  State|          0|\n",
      "| PuFrom|          0|\n",
      "|Address|          0|\n",
      "| Street|          0|\n",
      "+-------+-----------+\n",
      "\n",
      "Initial number of rows: 194992\n",
      "************\n",
      "\n",
      "5: Diplo_B01196.csv\n",
      "[('Date', 'string'), ('Time', 'string'), ('PU_Address', 'string')]\n",
      "+--------+-----------+--------------------+\n",
      "|    Date|       Time|          PU_Address|\n",
      "+--------+-----------+--------------------+\n",
      "|7/1/2014|12:00:00 AM| 2396 Valentine A...|\n",
      "|7/1/2014|12:01:00 AM| 1859 Walton Ave ...|\n",
      "|7/1/2014|12:02:00 AM| 2431 Jerome Ave ...|\n",
      "+--------+-----------+--------------------+\n",
      "only showing top 3 rows\n",
      "\n"
     ]
    },
    {
     "name": "stderr",
     "output_type": "stream",
     "text": [
      "                                                                                \r"
     ]
    },
    {
     "name": "stdout",
     "output_type": "stream",
     "text": [
      "+----------+-----------+\n",
      "|    Column|Nbr of Null|\n",
      "+----------+-----------+\n",
      "|      Date|          0|\n",
      "|      Time|          0|\n",
      "|PU_Address|          0|\n",
      "+----------+-----------+\n",
      "\n",
      "Initial number of rows: 98550\n",
      "************\n",
      "\n",
      "6: Federal_02216.csv\n",
      "[('Date', 'string'), ('Time', 'string'), ('PU_Address2', 'string'), ('DO_Address', 'string'), ('Routing_Details', 'string'), ('PU_Address5', 'string'), ('Status', 'string')]\n"
     ]
    },
    {
     "name": "stderr",
     "output_type": "stream",
     "text": [
      "22/03/16 00:17:11 WARN CSVHeaderChecker: CSV header does not conform to the schema.\n",
      " Header: Date, Time, PU_Address, DO_Address, Routing Details, PU_Address, Status\n",
      " Schema: Date, Time, PU_Address2, DO_Address, Routing Details, PU_Address5, Status\n",
      "Expected: PU_Address2 but found: PU_Address\n",
      "CSV file: file:///home/naeim/Dropbox/UU_Master/Fourth%20Semester/Data%20Engineering/Assignments/Project/Naeim_code/data_engineering1_project/DATA/Federal_02216.csv\n"
     ]
    },
    {
     "name": "stdout",
     "output_type": "stream",
     "text": [
      "+----------+--------+--------------------+--------------------+--------------------+--------------------+---------+\n",
      "|      Date|    Time|         PU_Address2|          DO_Address|     Routing_Details|         PU_Address5|   Status|\n",
      "+----------+--------+--------------------+--------------------+--------------------+--------------------+---------+\n",
      "|07/01/2014|07:15 AM|Brooklyn Museum, ...|1 Brookdale Plaza...|PU: Brooklyn Muse...|Brooklyn Museum, ...|Cancelled|\n",
      "|07/01/2014|07:30 AM|33 Robert Dr., Sh...|John F Kennedy In...|PU: 33 Robert Dr....|33 Robert Dr., Sh...|  Arrived|\n",
      "|07/01/2014|08:00 AM|60 Glenmore Ave.,...|2171 Nostrand Ave...|PU: 60 Glenmore A...|60 Glenmore Ave.,...| Assigned|\n",
      "+----------+--------+--------------------+--------------------+--------------------+--------------------+---------+\n",
      "only showing top 3 rows\n",
      "\n",
      "+---------------+-----------+\n",
      "|         Column|Nbr of Null|\n",
      "+---------------+-----------+\n",
      "|           Date|          0|\n",
      "|           Time|          0|\n",
      "|    PU_Address2|          0|\n",
      "|     DO_Address|          0|\n",
      "|Routing_Details|          0|\n",
      "|    PU_Address5|          0|\n",
      "|         Status|          0|\n",
      "+---------------+-----------+\n",
      "\n",
      "Initial number of rows: 276\n",
      "************\n",
      "\n",
      "7: Firstclass_B01536.csv\n",
      "[('DATE', 'string'), ('TIME', 'string'), ('PICK_UP_ADDRESS', 'string')]\n",
      "+--------+-----------+--------------------+\n",
      "|    DATE|       TIME|     PICK_UP_ADDRESS|\n",
      "+--------+-----------+--------------------+\n",
      "|7/1/2014|12:02:00 AM| 5360 Broadway Ki...|\n",
      "|7/1/2014|12:02:00 AM|    546 Isham St NYC|\n",
      "|7/1/2014|12:03:00 AM| 234 Bradhurst Av...|\n",
      "+--------+-----------+--------------------+\n",
      "only showing top 3 rows\n",
      "\n"
     ]
    },
    {
     "name": "stderr",
     "output_type": "stream",
     "text": [
      "                                                                                \r"
     ]
    },
    {
     "name": "stdout",
     "output_type": "stream",
     "text": [
      "+---------------+-----------+\n",
      "|         Column|Nbr of Null|\n",
      "+---------------+-----------+\n",
      "|           DATE|          0|\n",
      "|           TIME|          0|\n",
      "|PICK_UP_ADDRESS|          0|\n",
      "+---------------+-----------+\n",
      "\n",
      "Initial number of rows: 166769\n",
      "************\n",
      "\n",
      "8: Highclass_B01717.csv\n",
      "[('DATE', 'string'), ('TIME', 'string'), ('PU_Address', 'string')]\n",
      "+--------+-----------+--------------------+\n",
      "|    DATE|       TIME|          PU_Address|\n",
      "+--------+-----------+--------------------+\n",
      "|7/1/2014|12:00:00 AM| 2976 Marion Ave ...|\n",
      "|7/1/2014|12:01:00 AM| 780 Grand Concou...|\n",
      "|7/1/2014|12:01:00 AM| 105 Elliot Pl Hi...|\n",
      "+--------+-----------+--------------------+\n",
      "only showing top 3 rows\n",
      "\n"
     ]
    },
    {
     "name": "stderr",
     "output_type": "stream",
     "text": [
      "\r",
      "[Stage 380:============================>                            (1 + 1) / 2]\r",
      "\r",
      "                                                                                \r"
     ]
    },
    {
     "name": "stdout",
     "output_type": "stream",
     "text": [
      "+----------+-----------+\n",
      "|    Column|Nbr of Null|\n",
      "+----------+-----------+\n",
      "|      DATE|          0|\n",
      "|      TIME|          0|\n",
      "|PU_Address|          0|\n",
      "+----------+-----------+\n",
      "\n",
      "Initial number of rows: 151925\n",
      "************\n",
      "\n",
      "9: Lyft_B02510.csv\n",
      "[('time_of_trip', 'string'), ('start_lat', 'string'), ('start_lng', 'string')]\n",
      "+---------------+---------+---------+\n",
      "|   time_of_trip|start_lat|start_lng|\n",
      "+---------------+---------+---------+\n",
      "|  9/4/2014 9:51| 40.64705|-73.77988|\n",
      "|8/27/2014 21:13| 40.74916|-73.98373|\n",
      "| 9/4/2014 14:16| 40.64065|-73.97594|\n",
      "+---------------+---------+---------+\n",
      "only showing top 3 rows\n",
      "\n"
     ]
    },
    {
     "name": "stderr",
     "output_type": "stream",
     "text": [
      "                                                                                \r"
     ]
    },
    {
     "name": "stdout",
     "output_type": "stream",
     "text": [
      "+------------+-----------+\n",
      "|      Column|Nbr of Null|\n",
      "+------------+-----------+\n",
      "|time_of_trip|          0|\n",
      "|   start_lat|          0|\n",
      "|   start_lng|          0|\n",
      "+------------+-----------+\n",
      "\n"
     ]
    },
    {
     "name": "stderr",
     "output_type": "stream",
     "text": [
      "\r",
      "[Stage 396:======================================>                  (2 + 1) / 3]\r",
      "\r",
      "                                                                                \r"
     ]
    },
    {
     "name": "stdout",
     "output_type": "stream",
     "text": [
      "Initial number of rows: 267700\n",
      "************\n",
      "\n",
      "10: Prestige_B01338.csv\n",
      "[('DATE', 'string'), ('TIME', 'string'), ('PICK_UP_ADDRESS', 'string')]\n",
      "+--------+-----------+--------------------+\n",
      "|    DATE|       TIME|     PICK_UP_ADDRESS|\n",
      "+--------+-----------+--------------------+\n",
      "|7/1/2014|12:00:00 AM| 2557 Marion Ave ...|\n",
      "|7/1/2014|12:00:00 AM| 45 E Mosholu Pkw...|\n",
      "|7/1/2014|12:00:00 AM| 458 E 143rd St M...|\n",
      "+--------+-----------+--------------------+\n",
      "only showing top 3 rows\n",
      "\n"
     ]
    },
    {
     "name": "stderr",
     "output_type": "stream",
     "text": [
      "                                                                                \r"
     ]
    },
    {
     "name": "stdout",
     "output_type": "stream",
     "text": [
      "+---------------+-----------+\n",
      "|         Column|Nbr of Null|\n",
      "+---------------+-----------+\n",
      "|           DATE|          0|\n",
      "|           TIME|          0|\n",
      "|PICK_UP_ADDRESS|          0|\n",
      "+---------------+-----------+\n",
      "\n",
      "Initial number of rows: 320641\n",
      "************\n",
      "\n",
      "11: Skyline_B00111.csv\n",
      "[('Date', 'string'), ('Time', 'string'), ('Street_Address', 'string'), ('City_State', 'string')]\n",
      "+--------+--------------+--------------------+--------------------+\n",
      "|    Date|          Time|      Street_Address|          City_State|\n",
      "+--------+--------------+--------------------+--------------------+\n",
      "|7/1/2014|    20:27     |    622 THIRD AV ...|     M           ...|\n",
      "|7/1/2014|    21:04     |     E 77TH ST   ...|     M           ...|\n",
      "|7/1/2014|    22:20     |    67 WEST PALIS...|    PALISADES PAR...|\n",
      "+--------+--------------+--------------------+--------------------+\n",
      "only showing top 3 rows\n",
      "\n"
     ]
    },
    {
     "name": "stderr",
     "output_type": "stream",
     "text": [
      "                                                                                \r"
     ]
    },
    {
     "name": "stdout",
     "output_type": "stream",
     "text": [
      "+--------------+-----------+\n",
      "|        Column|Nbr of Null|\n",
      "+--------------+-----------+\n",
      "|          Date|          0|\n",
      "|          Time|          0|\n",
      "|Street_Address|          0|\n",
      "|    City_State|          0|\n",
      "+--------------+-----------+\n",
      "\n",
      "Initial number of rows: 127696\n",
      "************\n",
      "\n",
      "12: other-FHV-data-jan-aug-2015.csv\n",
      "[('Base_Number', 'string'), ('Base_Name', 'string'), ('Pick_Up_Date', 'string'), ('Number_of_Trips', 'string'), ('Number_of_Vehicles', 'string')]\n",
      "+-----------+--------------------+------------+---------------+------------------+\n",
      "|Base_Number|           Base_Name|Pick_Up_Date|Number_of_Trips|Number_of_Vehicles|\n",
      "+-----------+--------------------+------------+---------------+------------------+\n",
      "|     B00013|   LOVE CORP CAR INC|  01/01/2015|            26 |               17 |\n",
      "|     B00014| NY ONE CORP CAR INC|  01/01/2015|            45 |               24 |\n",
      "|     B00029|COMMUNITY CAR SVC...|  01/01/2015|           731 |               36 |\n",
      "+-----------+--------------------+------------+---------------+------------------+\n",
      "only showing top 3 rows\n",
      "\n"
     ]
    },
    {
     "name": "stderr",
     "output_type": "stream",
     "text": [
      "                                                                                \r"
     ]
    },
    {
     "name": "stdout",
     "output_type": "stream",
     "text": [
      "+------------------+-----------+\n",
      "|            Column|Nbr of Null|\n",
      "+------------------+-----------+\n",
      "|       Base_Number|          0|\n",
      "|         Base_Name|          0|\n",
      "|      Pick_Up_Date|          0|\n",
      "|   Number_of_Trips|          0|\n",
      "|Number_of_Vehicles|          0|\n",
      "+------------------+-----------+\n",
      "\n",
      "Initial number of rows: 26181\n",
      "************\n",
      "\n",
      "13: Uber-Jan-Feb-FOIL.csv\n",
      "[('dispatching_base_number', 'string'), ('date', 'string'), ('active_vehicles', 'string'), ('trips', 'string')]\n",
      "+-----------------------+--------+---------------+-----+\n",
      "|dispatching_base_number|    date|active_vehicles|trips|\n",
      "+-----------------------+--------+---------------+-----+\n",
      "|                 B02512|1/1/2015|            190| 1132|\n",
      "|                 B02765|1/1/2015|            225| 1765|\n",
      "|                 B02764|1/1/2015|           3427|29421|\n",
      "+-----------------------+--------+---------------+-----+\n",
      "only showing top 3 rows\n",
      "\n",
      "+--------------------+-----------+\n",
      "|              Column|Nbr of Null|\n",
      "+--------------------+-----------+\n",
      "|dispatching_base_...|          0|\n",
      "|                date|          0|\n",
      "|     active_vehicles|          0|\n",
      "|               trips|          0|\n",
      "+--------------------+-----------+\n",
      "\n",
      "Initial number of rows: 354\n",
      "************\n",
      "\n"
     ]
    }
   ],
   "source": [
    "x = 1\n",
    "all_columns = []\n",
    "for key in df_list.keys():\n",
    "    if 'uber-raw-data' not in key:\n",
    "        print(f'{x}: {key}')\n",
    "        print(df_list[key].dtypes)\n",
    "        df_list[key].show(3)\n",
    "        count_null_values_in_df(df_list[key])\n",
    "        all_columns.append(df_list[key].schema.names)\n",
    "        x += 1"
   ]
  },
  {
   "cell_type": "code",
   "execution_count": 32,
   "id": "b0d406cd",
   "metadata": {},
   "outputs": [
    {
     "name": "stdout",
     "output_type": "stream",
     "text": [
      "A unique list of column names:\n",
      " {'locationid', 'start_lat', 'status', 'active_vehicles', 'base_no', 'pu_address2', 'base_number', 'time', 'pu_address', 'pick_up_date', 'time_of_trip', 'pufrom', 'state', 'pick_up_address', 'address', 'date', 'street', 'street_address', 'number_of_vehicles', 'city_state', 'routing_details', 'borough', 'zone', 'trips', 'base_name', 'do_address', 'dispatching_base_number', 'start_lng', 'pu_address5', 'number_of_trips', 'pu_adress'}\n"
     ]
    }
   ],
   "source": [
    "all_columns = [val for sublist in all_columns for val in sublist]\n",
    "all_columns = [x.strip().lower() for x in all_columns]\n",
    "all_columns = set(all_columns)\n",
    "print(f\"A unique list of column names:\\n {all_columns}\")"
   ]
  },
  {
   "cell_type": "markdown",
   "id": "8250377a",
   "metadata": {},
   "source": [
    "### Save cleaned files"
   ]
  },
  {
   "cell_type": "code",
   "execution_count": 33,
   "id": "e590d519",
   "metadata": {
    "scrolled": true
   },
   "outputs": [
    {
     "name": "stdout",
     "output_type": "stream",
     "text": [
      "taxi-zone-lookup.parquet\n",
      "American_B01362.parquet\n"
     ]
    },
    {
     "name": "stderr",
     "output_type": "stream",
     "text": [
      "                                                                                \r"
     ]
    },
    {
     "name": "stdout",
     "output_type": "stream",
     "text": [
      "Carmel_B00256.parquet\n"
     ]
    },
    {
     "name": "stderr",
     "output_type": "stream",
     "text": [
      "                                                                                \r"
     ]
    },
    {
     "name": "stdout",
     "output_type": "stream",
     "text": [
      "Dial7_B00887.parquet\n"
     ]
    },
    {
     "name": "stderr",
     "output_type": "stream",
     "text": [
      "                                                                                \r"
     ]
    },
    {
     "name": "stdout",
     "output_type": "stream",
     "text": [
      "Diplo_B01196.parquet\n"
     ]
    },
    {
     "name": "stderr",
     "output_type": "stream",
     "text": [
      "                                                                                \r"
     ]
    },
    {
     "name": "stdout",
     "output_type": "stream",
     "text": [
      "Federal_02216.parquet\n"
     ]
    },
    {
     "name": "stderr",
     "output_type": "stream",
     "text": [
      "22/03/16 00:17:33 WARN CSVHeaderChecker: CSV header does not conform to the schema.\n",
      " Header: Date, Time, PU_Address, DO_Address, Routing Details, PU_Address, Status\n",
      " Schema: Date, Time, PU_Address2, DO_Address, Routing Details, PU_Address5, Status\n",
      "Expected: PU_Address2 but found: PU_Address\n",
      "CSV file: file:///home/naeim/Dropbox/UU_Master/Fourth%20Semester/Data%20Engineering/Assignments/Project/Naeim_code/data_engineering1_project/DATA/Federal_02216.csv\n"
     ]
    },
    {
     "name": "stdout",
     "output_type": "stream",
     "text": [
      "Firstclass_B01536.parquet\n"
     ]
    },
    {
     "name": "stderr",
     "output_type": "stream",
     "text": [
      "                                                                                \r"
     ]
    },
    {
     "name": "stdout",
     "output_type": "stream",
     "text": [
      "Highclass_B01717.parquet\n"
     ]
    },
    {
     "name": "stderr",
     "output_type": "stream",
     "text": [
      "                                                                                \r"
     ]
    },
    {
     "name": "stdout",
     "output_type": "stream",
     "text": [
      "Lyft_B02510.parquet\n"
     ]
    },
    {
     "name": "stderr",
     "output_type": "stream",
     "text": [
      "                                                                                \r"
     ]
    },
    {
     "name": "stdout",
     "output_type": "stream",
     "text": [
      "Prestige_B01338.parquet\n"
     ]
    },
    {
     "name": "stderr",
     "output_type": "stream",
     "text": [
      "                                                                                \r"
     ]
    },
    {
     "name": "stdout",
     "output_type": "stream",
     "text": [
      "Skyline_B00111.parquet\n"
     ]
    },
    {
     "name": "stderr",
     "output_type": "stream",
     "text": [
      "                                                                                \r"
     ]
    },
    {
     "name": "stdout",
     "output_type": "stream",
     "text": [
      "other-FHV-data-jan-aug-2015.parquet\n",
      "Uber-Jan-Feb-FOIL.parquet\n"
     ]
    }
   ],
   "source": [
    "from pathlib import Path\n",
    "if server_mode:\n",
    "    path = 'hdfs://192.168.2.74:9000/user/ubuntu/uber-tlc-foil-response/other-FHV-data'\n",
    "else:\n",
    "    path = os.getcwd() + '/DATA/'\n",
    "\n",
    "for key in df_list.keys():\n",
    "    if 'uber-raw-data' not in key:\n",
    "        file = os.path.splitext(key)[0]+\".parquet\"\n",
    "        print(file)\n",
    "        df_list[key].write.mode(\"overwrite\").parquet(path+file)"
   ]
  },
  {
   "cell_type": "markdown",
   "id": "16769e10",
   "metadata": {},
   "source": [
    "### Preparing a unified file for FHV questions"
   ]
  },
  {
   "cell_type": "code",
   "execution_count": 34,
   "id": "73faef36",
   "metadata": {},
   "outputs": [
    {
     "name": "stdout",
     "output_type": "stream",
     "text": [
      "+----+----+---------------+\n",
      "|DATE|TIME|PICK_UP_ADDRESS|\n",
      "+----+----+---------------+\n",
      "+----+----+---------------+\n",
      "\n"
     ]
    }
   ],
   "source": [
    "col_names = df_list['American_B01362.csv'].schema.names\n",
    "mySchema = StructType([StructField(c, StringType()) for c in col_names])\n",
    "FHV_10_companies_data = SparkSession(sc).createDataFrame(data=[], schema=mySchema)\n",
    "FHV_10_companies_data.show()"
   ]
  },
  {
   "cell_type": "code",
   "execution_count": 35,
   "id": "a9423148",
   "metadata": {},
   "outputs": [
    {
     "data": {
      "text/plain": [
       "91712"
      ]
     },
     "execution_count": 35,
     "metadata": {},
     "output_type": "execute_result"
    }
   ],
   "source": [
    "# 1.'American_B01362.csv'\n",
    "FHV_10_companies_data = FHV_10_companies_data.union(df_list['American_B01362.csv'])\n",
    "df_list['American_B01362.csv'].count()"
   ]
  },
  {
   "cell_type": "code",
   "execution_count": 36,
   "id": "7fd226a9",
   "metadata": {},
   "outputs": [
    {
     "data": {
      "text/plain": [
       "256519"
      ]
     },
     "execution_count": 36,
     "metadata": {},
     "output_type": "execute_result"
    }
   ],
   "source": [
    "# 2. 'Carmel_B00256.csv'\n",
    "tmp = df_list['Carmel_B00256.csv'].drop('Base_No')\n",
    "tmp = tmp.withColumnRenamed(\"PU_Adress\", \"PICK_UP_ADDRESS\")\n",
    "df_list['Carmel_B00256.csv'] = tmp\n",
    "FHV_10_companies_data = FHV_10_companies_data.union(tmp)\n",
    "df_list['Carmel_B00256.csv'].count()"
   ]
  },
  {
   "cell_type": "code",
   "execution_count": 37,
   "id": "9e8ffc50",
   "metadata": {},
   "outputs": [
    {
     "data": {
      "text/plain": [
       "194992"
      ]
     },
     "execution_count": 37,
     "metadata": {},
     "output_type": "execute_result"
    }
   ],
   "source": [
    "# 3. 'Dial7_B00887.csv'\n",
    "columns_to_drop = ['State','PuFrom', 'Address']\n",
    "tmp = df_list['Dial7_B00887.csv'].drop(*columns_to_drop)\n",
    "tmp = tmp.withColumnRenamed(\"Street\", \"PICK_UP_ADDRESS\")\n",
    "df_list['Dial7_B00887.csv'] = tmp\n",
    "FHV_10_companies_data = FHV_10_companies_data.union(tmp)\n",
    "df_list['Dial7_B00887.csv'].count()"
   ]
  },
  {
   "cell_type": "code",
   "execution_count": 38,
   "id": "3e8a1384",
   "metadata": {},
   "outputs": [
    {
     "data": {
      "text/plain": [
       "98550"
      ]
     },
     "execution_count": 38,
     "metadata": {},
     "output_type": "execute_result"
    }
   ],
   "source": [
    "# 4. 'Diplo_B01196.csv'\n",
    "tmp = df_list['Diplo_B01196.csv'].withColumnRenamed(\"PU_Address\", \"PICK_UP_ADDRESS\")\n",
    "df_list['Diplo_B01196.csv'] = tmp\n",
    "FHV_10_companies_data = FHV_10_companies_data.union(tmp)\n",
    "df_list['Diplo_B01196.csv'].count()"
   ]
  },
  {
   "cell_type": "code",
   "execution_count": 39,
   "id": "87338deb",
   "metadata": {},
   "outputs": [
    {
     "data": {
      "text/plain": [
       "276"
      ]
     },
     "execution_count": 39,
     "metadata": {},
     "output_type": "execute_result"
    }
   ],
   "source": [
    "# 5. 'Federal_02216.csv'\n",
    "columns_to_drop = ['DO_Address','Routing_Details', 'Status', 'PU_Address2']\n",
    "tmp = df_list['Federal_02216.csv'].drop(*columns_to_drop)\n",
    "tmp = tmp.withColumnRenamed(\"PU_Address5\", \"PICK_UP_ADDRESS\")\n",
    "df_list['Federal_02216.csv'] = tmp\n",
    "FHV_10_companies_data = FHV_10_companies_data.union(tmp)\n",
    "df_list['Federal_02216.csv'].count()"
   ]
  },
  {
   "cell_type": "code",
   "execution_count": 40,
   "id": "fc91763a",
   "metadata": {},
   "outputs": [
    {
     "data": {
      "text/plain": [
       "166769"
      ]
     },
     "execution_count": 40,
     "metadata": {},
     "output_type": "execute_result"
    }
   ],
   "source": [
    "# 6.'Firstclass_B01536.csv'\n",
    "FHV_10_companies_data = FHV_10_companies_data.union(df_list['Firstclass_B01536.csv'])\n",
    "df_list['Firstclass_B01536.csv'].count()"
   ]
  },
  {
   "cell_type": "code",
   "execution_count": 41,
   "id": "90f57c8b",
   "metadata": {},
   "outputs": [
    {
     "data": {
      "text/plain": [
       "151925"
      ]
     },
     "execution_count": 41,
     "metadata": {},
     "output_type": "execute_result"
    }
   ],
   "source": [
    "# 7.'Highclass_B01717.csv'\n",
    "tmp = df_list['Highclass_B01717.csv'].withColumnRenamed(\"PU_Address\", \"PICK_UP_ADDRESS\")\n",
    "df_list['Highclass_B01717.csv'] = tmp\n",
    "FHV_10_companies_data = FHV_10_companies_data.union(tmp)\n",
    "df_list['Highclass_B01717.csv'].count()"
   ]
  },
  {
   "cell_type": "code",
   "execution_count": 42,
   "id": "c06e8661",
   "metadata": {},
   "outputs": [
    {
     "name": "stdout",
     "output_type": "stream",
     "text": [
      "+---------------+---------+---------+\n",
      "|   time_of_trip|start_lat|start_lng|\n",
      "+---------------+---------+---------+\n",
      "|  9/4/2014 9:51| 40.64705|-73.77988|\n",
      "|8/27/2014 21:13| 40.74916|-73.98373|\n",
      "| 9/4/2014 14:16| 40.64065|-73.97594|\n",
      "+---------------+---------+---------+\n",
      "only showing top 3 rows\n",
      "\n"
     ]
    }
   ],
   "source": [
    "# 8.'Lyft_B02510.csv'\n",
    "df_list['Lyft_B02510.csv'].show(3)"
   ]
  },
  {
   "cell_type": "code",
   "execution_count": 43,
   "id": "807c7b09",
   "metadata": {},
   "outputs": [
    {
     "data": {
      "text/plain": [
       "127696"
      ]
     },
     "execution_count": 43,
     "metadata": {},
     "output_type": "execute_result"
    }
   ],
   "source": [
    "# 9.'Skyline_B00111.csv'\n",
    "tmp = df_list['Skyline_B00111.csv'].drop('City_State')\n",
    "tmp = tmp.withColumnRenamed(\"Street_Address\", \"PICK_UP_ADDRESS\")\n",
    "df_list['Skyline_B00111.csv'] = tmp\n",
    "FHV_10_companies_data = FHV_10_companies_data.union(tmp)\n",
    "df_list['Skyline_B00111.csv'].count()"
   ]
  },
  {
   "cell_type": "code",
   "execution_count": 44,
   "id": "5c895df9",
   "metadata": {},
   "outputs": [
    {
     "data": {
      "text/plain": [
       "320641"
      ]
     },
     "execution_count": 44,
     "metadata": {},
     "output_type": "execute_result"
    }
   ],
   "source": [
    "# 10.'Prestige_B01338.csv'\n",
    "FHV_10_companies_data = FHV_10_companies_data.union(df_list['Prestige_B01338.csv'])\n",
    "df_list['Prestige_B01338.csv'].count()"
   ]
  },
  {
   "cell_type": "code",
   "execution_count": 45,
   "id": "a2db351c",
   "metadata": {},
   "outputs": [
    {
     "name": "stderr",
     "output_type": "stream",
     "text": [
      "                                                                                \r"
     ]
    },
    {
     "data": {
      "text/plain": [
       "1409080"
      ]
     },
     "execution_count": 45,
     "metadata": {},
     "output_type": "execute_result"
    }
   ],
   "source": [
    "FHV_10_companies_data.count()"
   ]
  },
  {
   "cell_type": "markdown",
   "id": "70903dd7",
   "metadata": {},
   "source": [
    "## To read parquet file use the code below"
   ]
  },
  {
   "cell_type": "code",
   "execution_count": 46,
   "id": "9f5889e3",
   "metadata": {},
   "outputs": [
    {
     "name": "stderr",
     "output_type": "stream",
     "text": [
      "22/03/16 00:17:52 WARN CSVHeaderChecker: CSV header does not conform to the schema.\n",
      " Header: Date, Time, PU_Address\n",
      " Schema: Date, Time, PU_Address5\n",
      "Expected: PU_Address5 but found: PU_Address\n",
      "CSV file: file:///home/naeim/Dropbox/UU_Master/Fourth%20Semester/Data%20Engineering/Assignments/Project/Naeim_code/data_engineering1_project/DATA/Federal_02216.csv\n",
      "                                                                                \r"
     ]
    }
   ],
   "source": [
    "if server_mode:\n",
    "    path = 'hdfs://192.168.2.74:9000/user/ubuntu/uber-tlc-foil-response/other-FHV-data'\n",
    "else:\n",
    "    path = os.getcwd() + '/DATA/'\n",
    "\n",
    "FHV_file = path+'FHV_10_companies_data.parquet'\n",
    "FHV_10_companies_data.write.mode(\"overwrite\").parquet(FHV_file)"
   ]
  },
  {
   "cell_type": "code",
   "execution_count": 47,
   "id": "f4663e5f",
   "metadata": {},
   "outputs": [
    {
     "name": "stdout",
     "output_type": "stream",
     "text": [
      "root\n",
      " |-- DATE: string (nullable = true)\n",
      " |-- TIME: string (nullable = true)\n",
      " |-- PICK_UP_ADDRESS: string (nullable = true)\n",
      "\n",
      "+--------+----+---------------+\n",
      "|    DATE|TIME|PICK_UP_ADDRESS|\n",
      "+--------+----+---------------+\n",
      "|7/1/2014|0:00|260 W 44 St NYC|\n",
      "|7/1/2014|0:00|125 W 29 St Nyc|\n",
      "|7/1/2014|0:00|141 W 28 St Nyc|\n",
      "+--------+----+---------------+\n",
      "only showing top 3 rows\n",
      "\n"
     ]
    },
    {
     "data": {
      "text/plain": [
       "1409080"
      ]
     },
     "execution_count": 47,
     "metadata": {},
     "output_type": "execute_result"
    }
   ],
   "source": [
    "FHV_10_Co = spark_session.read.parquet(FHV_file)\n",
    "FHV_10_Co.printSchema()\n",
    "FHV_10_Co.show(3)\n",
    "FHV_10_Co.count()"
   ]
  },
  {
   "cell_type": "markdown",
   "id": "5a7548ba",
   "metadata": {},
   "source": [
    "### A quick test to get the most frequent address in FHV 10 companies"
   ]
  },
  {
   "cell_type": "code",
   "execution_count": 48,
   "id": "aceff725",
   "metadata": {},
   "outputs": [],
   "source": [
    "from pyspark.sql.functions import col, regexp_replace\n",
    "\n",
    "def find_most_frequent_address(one_company):\n",
    "    adr = one_company.select(['PICK_UP_ADDRESS'])\n",
    "    adr = adr.groupBy(\"PICK_UP_ADDRESS\") \\\n",
    "                .count().sort(col(\"count\").desc())\n",
    "    adr = adr.filter(adr.PICK_UP_ADDRESS != '                    ')\n",
    "    adr = adr.filter(adr.PICK_UP_ADDRESS != '                                ')\n",
    "    return (adr)"
   ]
  },
  {
   "cell_type": "code",
   "execution_count": 49,
   "id": "a976322b",
   "metadata": {},
   "outputs": [
    {
     "name": "stderr",
     "output_type": "stream",
     "text": [
      "[Stage 503:==========================================>              (3 + 1) / 4]\r"
     ]
    },
    {
     "name": "stdout",
     "output_type": "stream",
     "text": [
      "+--------------------+-----+\n",
      "|     PICK_UP_ADDRESS|count|\n",
      "+--------------------+-----+\n",
      "|                 JFK|28179|\n",
      "|                 LGA|22983|\n",
      "|                 EWR|14773|\n",
      "|BROADWAY            | 3888|\n",
      "|BASE 170 W Fordha...| 3293|\n",
      "|base 4980 Broadwa...| 3137|\n",
      "|PARK AVE            | 3071|\n",
      "|5 AVE               | 3063|\n",
      "|7 AVE               | 2261|\n",
      "|6 AVE               | 2258|\n",
      "|PRESTIGE #1 3108 ...| 2051|\n",
      "|MADISON AVE         | 1968|\n",
      "|WEST END AVE        | 1834|\n",
      "|    1345 SIXTH AV...| 1768|\n",
      "|LEXINGTON AVE       | 1672|\n",
      "|    220 E 42ND ST...| 1529|\n",
      "| 268 W Fordham Rd...| 1510|\n",
      "|3 AVE               | 1427|\n",
      "|    767 5TH AV   ...| 1387|\n",
      "|    75 VARICK ST ...| 1349|\n",
      "+--------------------+-----+\n",
      "only showing top 20 rows\n",
      "\n"
     ]
    },
    {
     "name": "stderr",
     "output_type": "stream",
     "text": [
      "\r",
      "[Stage 505:>                                                        (0 + 4) / 4]\r",
      "\r",
      "                                                                                \r"
     ]
    }
   ],
   "source": [
    "find_most_frequent_address(FHV_10_Co).show()"
   ]
  },
  {
   "cell_type": "markdown",
   "id": "70c0251a",
   "metadata": {},
   "source": [
    "## Task 8"
   ]
  },
  {
   "cell_type": "markdown",
   "id": "4309a1c0",
   "metadata": {},
   "source": [
    "### Count all words in Pick_UP_ADDRESS for all companies"
   ]
  },
  {
   "cell_type": "code",
   "execution_count": 50,
   "id": "ced8dddf",
   "metadata": {},
   "outputs": [
    {
     "name": "stdout",
     "output_type": "stream",
     "text": [
      "+--------+----+---------------+---------+\n",
      "|    DATE|TIME|PICK_UP_ADDRESS|wordCount|\n",
      "+--------+----+---------------+---------+\n",
      "|7/1/2014|0:00|260 W 44 St NYC|        5|\n",
      "|7/1/2014|0:00|125 W 29 St Nyc|        5|\n",
      "|7/1/2014|0:00|141 W 28 St Nyc|        5|\n",
      "|7/1/2014|0:01|            EWR|        1|\n",
      "|7/1/2014|0:07|            JFK|        1|\n",
      "+--------+----+---------------+---------+\n",
      "only showing top 5 rows\n",
      "\n"
     ]
    }
   ],
   "source": [
    "import pyspark.sql.functions as f\n",
    "\n",
    "FHV_10_Co = FHV_10_Co.withColumn\\\n",
    "    ('wordCount', f.size(f.split(f.col('PICK_UP_ADDRESS'), ' ')))\n",
    "FHV_10_Co.show(5)"
   ]
  },
  {
   "cell_type": "code",
   "execution_count": 51,
   "id": "30a2853c",
   "metadata": {},
   "outputs": [
    {
     "name": "stderr",
     "output_type": "stream",
     "text": [
      "                                                                                \r"
     ]
    },
    {
     "data": {
      "text/plain": [
       "[Row(sum(wordCount)=12409597)]"
      ]
     },
     "execution_count": 51,
     "metadata": {},
     "output_type": "execute_result"
    }
   ],
   "source": [
    "FHV_10_Co.select(f.sum('wordCount')).collect()"
   ]
  },
  {
   "cell_type": "code",
   "execution_count": 52,
   "id": "6af1c279",
   "metadata": {
    "scrolled": false
   },
   "outputs": [
    {
     "name": "stderr",
     "output_type": "stream",
     "text": [
      "[Stage 510:==========================================>              (3 + 1) / 4]\r"
     ]
    },
    {
     "name": "stdout",
     "output_type": "stream",
     "text": [
      "+---------------+------+\n",
      "|           Word| count|\n",
      "+---------------+------+\n",
      "|             BX|608756|\n",
      "|            Ave|482268|\n",
      "|             St|286661|\n",
      "|              E|234972|\n",
      "|            NYC|202383|\n",
      "|              W|162177|\n",
      "|             ST|162157|\n",
      "|Williamsbridge,|112726|\n",
      "|          Bronx| 99126|\n",
      "|        Jerome,| 73960|\n",
      "+---------------+------+\n",
      "only showing top 10 rows\n",
      "\n"
     ]
    },
    {
     "name": "stderr",
     "output_type": "stream",
     "text": [
      "\r",
      "                                                                                \r"
     ]
    }
   ],
   "source": [
    "word_counts = FHV_10_Co.withColumn('Word', f.explode(\\\n",
    "        f.split(f.col('PICK_UP_ADDRESS'), ' ')))\\\n",
    "        .groupBy('Word').count()\\\n",
    "        .sort('count', ascending=False)\n",
    "\n",
    "word_counts = word_counts.filter(word_counts.Word != '')\n",
    "word_counts.show(10)"
   ]
  },
  {
   "cell_type": "code",
   "execution_count": 53,
   "id": "5d1c10d0",
   "metadata": {},
   "outputs": [
    {
     "name": "stdout",
     "output_type": "stream",
     "text": [
      "Useless word counts:\n"
     ]
    },
    {
     "name": "stderr",
     "output_type": "stream",
     "text": [
      "[Stage 513:==========================================>              (3 + 1) / 4]\r"
     ]
    },
    {
     "name": "stdout",
     "output_type": "stream",
     "text": [
      "+----+------+\n",
      "|Word| count|\n",
      "+----+------+\n",
      "| Ave|482268|\n",
      "|  St|286661|\n",
      "|   E|234972|\n",
      "| NYC|202383|\n",
      "|   W|162177|\n",
      "|  ST|162157|\n",
      "| Nyc| 62361|\n",
      "| AVE| 46295|\n",
      "|  Rd| 42114|\n",
      "|  AV| 38033|\n",
      "|   S| 19019|\n",
      "|   N| 18187|\n",
      "+----+------+\n",
      "\n"
     ]
    },
    {
     "name": "stderr",
     "output_type": "stream",
     "text": [
      "\r",
      "                                                                                \r"
     ]
    }
   ],
   "source": [
    "print(\"Useless word counts:\")\n",
    "useless_words = ['AVE', 'St', 'E', 'NYC', 'W', 'ST', 'Ave', 'Rd', 'Nyc', 'AV', 'S', 'N']\n",
    "word_counts.filter(word_counts.Word.isin(useless_words)).show()"
   ]
  },
  {
   "cell_type": "code",
   "execution_count": 54,
   "id": "1f8cee11",
   "metadata": {},
   "outputs": [
    {
     "name": "stdout",
     "output_type": "stream",
     "text": [
      "Usefull word counts:\n"
     ]
    },
    {
     "name": "stderr",
     "output_type": "stream",
     "text": [
      "[Stage 516:==========================================>              (3 + 1) / 4]\r"
     ]
    },
    {
     "name": "stdout",
     "output_type": "stream",
     "text": [
      "+---------------+------+\n",
      "|           Word| count|\n",
      "+---------------+------+\n",
      "|             BX|608756|\n",
      "|Williamsbridge,|112726|\n",
      "|          Bronx| 99126|\n",
      "|        Jerome,| 73960|\n",
      "|         Morris| 70897|\n",
      "|       Fordham,| 55948|\n",
      "|       Heights,| 43215|\n",
      "|         Bronx,| 42747|\n",
      "|           Mott| 39847|\n",
      "|         Haven,| 39732|\n",
      "+---------------+------+\n",
      "only showing top 10 rows\n",
      "\n"
     ]
    },
    {
     "name": "stderr",
     "output_type": "stream",
     "text": [
      "\r",
      "                                                                                \r"
     ]
    }
   ],
   "source": [
    "print(\"Usefull word counts:\")\n",
    "word_counts.filter(~word_counts.Word.isin(useless_words)).show(10)"
   ]
  },
  {
   "cell_type": "markdown",
   "id": "9e89381e",
   "metadata": {},
   "source": [
    "### Most frequent address for each company"
   ]
  },
  {
   "cell_type": "code",
   "execution_count": 55,
   "id": "4d35c9cc",
   "metadata": {},
   "outputs": [],
   "source": [
    "limo_companies = ['American_B01362.csv', 'Carmel_B00256.csv', 'Dial7_B00887.csv', 'Diplo_B01196.csv', 'Federal_02216.csv', 'Firstclass_B01536.csv', 'Highclass_B01717.csv', 'Skyline_B00111.csv', 'Prestige_B01338.csv']"
   ]
  },
  {
   "cell_type": "code",
   "execution_count": 56,
   "id": "66e87c96",
   "metadata": {},
   "outputs": [
    {
     "name": "stderr",
     "output_type": "stream",
     "text": [
      "                                                                                \r"
     ]
    },
    {
     "data": {
      "text/plain": [
       "Row(PICK_UP_ADDRESS='    1345 SIXTH AV               ', count=1768)"
      ]
     },
     "execution_count": 56,
     "metadata": {},
     "output_type": "execute_result"
    }
   ],
   "source": [
    "find_most_frequent_address(df_list['Skyline_B00111.csv']).collect()[0]"
   ]
  },
  {
   "cell_type": "code",
   "execution_count": 61,
   "id": "4c9af20d",
   "metadata": {
    "scrolled": false
   },
   "outputs": [
    {
     "name": "stdout",
     "output_type": "stream",
     "text": [
      "American_B01362.csv:  400 Brook Ave Mott Haven, BX -> 1216\n"
     ]
    },
    {
     "name": "stderr",
     "output_type": "stream",
     "text": [
      "                                                                                \r"
     ]
    },
    {
     "name": "stdout",
     "output_type": "stream",
     "text": [
      "Carmel_B00256.csv: JFK -> 28179\n",
      "Dial7_B00887.csv: BROADWAY             -> 3888\n",
      "Diplo_B01196.csv: BASE 170 W Fordham Rd Jerome, BX -> 3293\n"
     ]
    },
    {
     "name": "stderr",
     "output_type": "stream",
     "text": [
      "22/03/16 00:26:27 WARN CSVHeaderChecker: CSV header does not conform to the schema.\n",
      " Header: PU_Address\n",
      " Schema: PU_Address5\n",
      "Expected: PU_Address5 but found: PU_Address\n",
      "CSV file: file:///home/naeim/Dropbox/UU_Master/Fourth%20Semester/Data%20Engineering/Assignments/Project/Naeim_code/data_engineering1_project/DATA/Federal_02216.csv\n"
     ]
    },
    {
     "name": "stdout",
     "output_type": "stream",
     "text": [
      "Federal_02216.csv: 607 20 St., BK NY; DO: John F Kennedy International Airport;  -> 3\n",
      "Firstclass_B01536.csv: base 4980 Broadway NYC -> 3137\n",
      "Highclass_B01717.csv:  268 W Fordham Rd Jerome, BX -> 1506\n",
      "Skyline_B00111.csv:     1345 SIXTH AV                -> 1768\n"
     ]
    },
    {
     "name": "stderr",
     "output_type": "stream",
     "text": [
      "                                                                                \r"
     ]
    },
    {
     "name": "stdout",
     "output_type": "stream",
     "text": [
      "Prestige_B01338.csv: PRESTIGE #1 3108 Webster Ave Bronx -> 2051\n"
     ]
    }
   ],
   "source": [
    "most_freq_dict = {}\n",
    "for limo in limo_companies:\n",
    "    tmp5 = find_most_frequent_address(df_list[limo]).collect()[0]\n",
    "    a_key = [tmp5['PICK_UP_ADDRESS'] for x in tmp5]\n",
    "    a_value = [tmp5['count'] for x in tmp5]\n",
    "    most_freq_dict[a_key[0]] = a_value[0]\n",
    "    print(f'{limo}: {a_key[0]} -> {a_value[0]}')\n",
    "    # find_most_frequent_address(df_list[limo]).show(2)"
   ]
  },
  {
   "cell_type": "code",
   "execution_count": 58,
   "id": "0369556e",
   "metadata": {},
   "outputs": [
    {
     "data": {
      "image/png": "[encoded data removed]",
      "text/plain": [
       "<Figure size 432x288 with 1 Axes>"
      ]
     },
     "metadata": {
      "needs_background": "light"
     },
     "output_type": "display_data"
    }
   ],
   "source": [
    "import matplotlib.pyplot as plt\n",
    "\n",
    "names = list(most_freq_dict.keys())\n",
    "values = list(most_freq_dict.values())\n",
    "plt.bar(range(len(most_freq_dict)), values, tick_label=names)\n",
    "\n",
    "plt.xticks(rotation=90)\n",
    "plt.show()"
   ]
  },
  {
   "cell_type": "markdown",
   "id": "b0169f5b",
   "metadata": {},
   "source": [
    "## Prepration for Scalability"
   ]
  },
  {
   "cell_type": "code",
   "execution_count": 76,
   "id": "9a134334",
   "metadata": {},
   "outputs": [],
   "source": [
    "def bigger_data_frame(any_data_frame, nbr):\n",
    "    tmp = any_data_frame\n",
    "    print(tmp.count())\n",
    "    for i in range(nbr-1):\n",
    "        tmp = tmp.union(any_data_frame)\n",
    "    print(tmp.count())\n",
    "    return tmp"
   ]
  },
  {
   "cell_type": "code",
   "execution_count": 77,
   "id": "9dce1779",
   "metadata": {},
   "outputs": [
    {
     "name": "stdout",
     "output_type": "stream",
     "text": [
      "4534327\n",
      "9068654\n"
     ]
    }
   ],
   "source": [
    "scale_2 = bigger_data_frame(uber_raw_data_read_test, 2)"
   ]
  },
  {
   "cell_type": "code",
   "execution_count": 79,
   "id": "d1f8a33e",
   "metadata": {},
   "outputs": [
    {
     "name": "stderr",
     "output_type": "stream",
     "text": [
      "                                                                                \r"
     ]
    }
   ],
   "source": [
    "if server_mode:\n",
    "    path = 'hdfs://192.168.2.74:9000/user/ubuntu/uber-tlc-foil-response/uber-trip-data'\n",
    "else:\n",
    "    path = os.getcwd() + '/DATA/'\n",
    "\n",
    "scale_2_file = path+\"scale_2.parquet\"\n",
    "scale_2.write.mode(\"overwrite\").parquet(scale_2_file)"
   ]
  },
  {
   "cell_type": "code",
   "execution_count": 78,
   "id": "e51b34e2",
   "metadata": {},
   "outputs": [
    {
     "name": "stdout",
     "output_type": "stream",
     "text": [
      "4534327\n",
      "13602981\n"
     ]
    }
   ],
   "source": [
    "scale_3 = bigger_data_frame(uber_raw_data_read_test, 3)"
   ]
  },
  {
   "cell_type": "code",
   "execution_count": 80,
   "id": "1f6748b6",
   "metadata": {},
   "outputs": [
    {
     "name": "stderr",
     "output_type": "stream",
     "text": [
      "                                                                                \r"
     ]
    }
   ],
   "source": [
    "if server_mode:\n",
    "    path = 'hdfs://192.168.2.74:9000/user/ubuntu/uber-tlc-foil-response/uber-trip-data'\n",
    "else:\n",
    "    path = os.getcwd() + '/DATA/'\n",
    "\n",
    "scale_3_file = path+\"scale_3.parquet\"\n",
    "uber_raw_data.write.mode(\"overwrite\").parquet(scale_3_file)"
   ]
  },
  {
   "cell_type": "code",
   "execution_count": 81,
   "id": "25fcb190",
   "metadata": {},
   "outputs": [
    {
     "name": "stdout",
     "output_type": "stream",
     "text": [
      "Spark closed!\n"
     ]
    }
   ],
   "source": [
    "sc.stop()\n",
    "print(\"Spark closed!\")"
   ]
  },
  {
   "cell_type": "code",
   "execution_count": null,
   "id": "1cae4fcb",
   "metadata": {},
   "outputs": [],
   "source": []
  }
 ],
 "metadata": {
  "kernelspec": {
   "display_name": "Python 3 (ipykernel)",
   "language": "python",
   "name": "python3"
  },
  "language_info": {
   "codemirror_mode": {
    "name": "ipython",
    "version": 3
   },
   "file_extension": ".py",
   "mimetype": "text/x-python",
   "name": "python",
   "nbconvert_exporter": "python",
   "pygments_lexer": "ipython3",
   "version": "3.8.2"
  },
  "varInspector": {
   "cols": {
    "lenName": 16,
    "lenType": 16,
    "lenVar": 40
   },
   "kernels_config": {
    "python": {
     "delete_cmd_postfix": "",
     "delete_cmd_prefix": "del ",
     "library": "var_list.py",
     "varRefreshCmd": "print(var_dic_list())"
    },
    "r": {
     "delete_cmd_postfix": ") ",
     "delete_cmd_prefix": "rm(",
     "library": "var_list.r",
     "varRefreshCmd": "cat(var_dic_list()) "
    }
   },
   "types_to_exclude": [
    "module",
    "function",
    "builtin_function_or_method",
    "instance",
    "_Feature"
   ],
   "window_display": false
  }
 },
 "nbformat": 4,
 "nbformat_minor": 5
}
